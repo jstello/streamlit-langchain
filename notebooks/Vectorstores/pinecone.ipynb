{
 "cells": [
  {
   "attachments": {},
   "cell_type": "markdown",
   "id": "683953b3",
   "metadata": {},
   "source": [
    "# Pinecone\n",
    "\n",
    "This notebook was adapted from LangChain documentation in order to use a whole directory of PDF files, create embeddings, and store them in a Pinecone index."
   ]
  },
  {
   "cell_type": "code",
   "execution_count": 24,
   "id": "aac9563e",
   "metadata": {},
   "outputs": [],
   "source": [
    "from langchain.embeddings.openai import OpenAIEmbeddings\n",
    "from langchain.text_splitter import RecursiveCharacterTextSplitter\n",
    "from langchain.vectorstores import Pinecone\n",
    "from langchain.document_loaders import TextLoader\n",
    "from langchain.document_loaders import UnstructuredPDFLoader"
   ]
  },
  {
   "cell_type": "code",
   "execution_count": 131,
   "id": "ba84001a",
   "metadata": {},
   "outputs": [],
   "source": [
    "# Path to folder containing pdf files\n",
    "folder_path = r\"G:\\.shortcut-targets-by-id\\1vE28d8xZuJXkpcinFbuku9FJgeaDd48K\\ICOLD - CFRD New Bulletin 2023\"\n",
    "# Get all pdf files in folder using glob\n",
    "import glob\n",
    "\n",
    "pdf_files = glob.glob(folder_path + r\"\\**\\*.pdf\", recursive=True)"
   ]
  },
  {
   "cell_type": "code",
   "execution_count": 144,
   "metadata": {},
   "outputs": [
    {
     "name": "stdout",
     "output_type": "stream",
     "text": [
      "{'Dam Response', 'Dynamic Response', 'Structural Analysis', 'Rockfill Behavior', 'Numerical Analysis', 'Geomemrane Face Concrete Dams (GFRD)'}\n"
     ]
    }
   ],
   "source": [
    "folders = set([pdf_file.split('2023')[-1].split(os.sep)[1] for pdf_file in pdf_files])\n",
    "print(folders)"
   ]
  },
  {
   "attachments": {},
   "cell_type": "markdown",
   "id": "fb0f6fd3",
   "metadata": {},
   "source": [
    "## Load the data"
   ]
  },
  {
   "cell_type": "code",
   "execution_count": 150,
   "id": "a3c3999a",
   "metadata": {},
   "outputs": [
    {
     "name": "stderr",
     "output_type": "stream",
     "text": [
      "detectron2 is not installed. Cannot use the hi_res partitioning strategy. Falling back to partitioning with the fast strategy.\n",
      "  0%|          | 0/6 [00:00<?, ?it/s]detectron2 is not installed. Cannot use the hi_res partitioning strategy. Falling back to partitioning with the fast strategy.\n"
     ]
    },
    {
     "name": "stdout",
     "output_type": "stream",
     "text": [
      "Reading 10 files from Dam Response\n"
     ]
    },
    {
     "name": "stderr",
     "output_type": "stream",
     "text": [
      "detectron2 is not installed. Cannot use the hi_res partitioning strategy. Falling back to partitioning with the fast strategy.\n",
      "detectron2 is not installed. Cannot use the hi_res partitioning strategy. Falling back to partitioning with the fast strategy.\n",
      "detectron2 is not installed. Cannot use the hi_res partitioning strategy. Falling back to partitioning with the fast strategy.\n",
      "detectron2 is not installed. Cannot use the hi_res partitioning strategy. Falling back to partitioning with the fast strategy.\n",
      "detectron2 is not installed. Cannot use the hi_res partitioning strategy. Falling back to partitioning with the fast strategy.\n",
      "detectron2 is not installed. Cannot use the hi_res partitioning strategy. Falling back to partitioning with the fast strategy.\n",
      "detectron2 is not installed. Cannot use the hi_res partitioning strategy. Falling back to partitioning with the fast strategy.\n",
      "detectron2 is not installed. Cannot use the hi_res partitioning strategy. Falling back to partitioning with the fast strategy.\n",
      "detectron2 is not installed. Cannot use the hi_res partitioning strategy. Falling back to partitioning with the fast strategy.\n",
      " 17%|█▋        | 1/6 [00:38<03:12, 38.54s/it]detectron2 is not installed. Cannot use the hi_res partitioning strategy. Falling back to partitioning with the fast strategy.\n"
     ]
    },
    {
     "name": "stdout",
     "output_type": "stream",
     "text": [
      "Reading 8 files from Dynamic Response\n"
     ]
    },
    {
     "name": "stderr",
     "output_type": "stream",
     "text": [
      "detectron2 is not installed. Cannot use the hi_res partitioning strategy. Falling back to partitioning with the fast strategy.\n",
      "detectron2 is not installed. Cannot use the hi_res partitioning strategy. Falling back to partitioning with the fast strategy.\n",
      "detectron2 is not installed. Cannot use the hi_res partitioning strategy. Falling back to partitioning with the fast strategy.\n",
      "detectron2 is not installed. Cannot use the hi_res partitioning strategy. Falling back to partitioning with the fast strategy.\n",
      "detectron2 is not installed. Cannot use the hi_res partitioning strategy. Falling back to partitioning with the fast strategy.\n",
      "detectron2 is not installed. Cannot use the hi_res partitioning strategy. Falling back to partitioning with the fast strategy.\n",
      "detectron2 is not installed. Cannot use the hi_res partitioning strategy. Falling back to partitioning with the fast strategy.\n",
      " 33%|███▎      | 2/6 [01:14<02:28, 37.18s/it]detectron2 is not installed. Cannot use the hi_res partitioning strategy. Falling back to partitioning with the fast strategy.\n"
     ]
    },
    {
     "name": "stdout",
     "output_type": "stream",
     "text": [
      "Reading 9 files from Structural Analysis\n"
     ]
    },
    {
     "name": "stderr",
     "output_type": "stream",
     "text": [
      "detectron2 is not installed. Cannot use the hi_res partitioning strategy. Falling back to partitioning with the fast strategy.\n",
      "detectron2 is not installed. Cannot use the hi_res partitioning strategy. Falling back to partitioning with the fast strategy.\n",
      "detectron2 is not installed. Cannot use the hi_res partitioning strategy. Falling back to partitioning with the fast strategy.\n",
      "detectron2 is not installed. Cannot use the hi_res partitioning strategy. Falling back to partitioning with the fast strategy.\n",
      "detectron2 is not installed. Cannot use the hi_res partitioning strategy. Falling back to partitioning with the fast strategy.\n",
      "detectron2 is not installed. Cannot use the hi_res partitioning strategy. Falling back to partitioning with the fast strategy.\n",
      "detectron2 is not installed. Cannot use the hi_res partitioning strategy. Falling back to partitioning with the fast strategy.\n",
      "detectron2 is not installed. Cannot use the hi_res partitioning strategy. Falling back to partitioning with the fast strategy.\n",
      " 50%|█████     | 3/6 [02:11<02:17, 45.90s/it]detectron2 is not installed. Cannot use the hi_res partitioning strategy. Falling back to partitioning with the fast strategy.\n"
     ]
    },
    {
     "name": "stdout",
     "output_type": "stream",
     "text": [
      "Reading 14 files from Rockfill Behavior\n"
     ]
    },
    {
     "name": "stderr",
     "output_type": "stream",
     "text": [
      "detectron2 is not installed. Cannot use the hi_res partitioning strategy. Falling back to partitioning with the fast strategy.\n",
      "detectron2 is not installed. Cannot use the hi_res partitioning strategy. Falling back to partitioning with the fast strategy.\n",
      "detectron2 is not installed. Cannot use the hi_res partitioning strategy. Falling back to partitioning with the fast strategy.\n",
      "detectron2 is not installed. Cannot use the hi_res partitioning strategy. Falling back to partitioning with the fast strategy.\n",
      "detectron2 is not installed. Cannot use the hi_res partitioning strategy. Falling back to partitioning with the fast strategy.\n",
      "detectron2 is not installed. Cannot use the hi_res partitioning strategy. Falling back to partitioning with the fast strategy.\n",
      "detectron2 is not installed. Cannot use the hi_res partitioning strategy. Falling back to partitioning with the fast strategy.\n",
      "detectron2 is not installed. Cannot use the hi_res partitioning strategy. Falling back to partitioning with the fast strategy.\n",
      "detectron2 is not installed. Cannot use the hi_res partitioning strategy. Falling back to partitioning with the fast strategy.\n",
      "detectron2 is not installed. Cannot use the hi_res partitioning strategy. Falling back to partitioning with the fast strategy.\n",
      "detectron2 is not installed. Cannot use the hi_res partitioning strategy. Falling back to partitioning with the fast strategy.\n",
      "detectron2 is not installed. Cannot use the hi_res partitioning strategy. Falling back to partitioning with the fast strategy.\n",
      "detectron2 is not installed. Cannot use the hi_res partitioning strategy. Falling back to partitioning with the fast strategy.\n",
      " 67%|██████▋   | 4/6 [02:57<01:32, 46.03s/it]detectron2 is not installed. Cannot use the hi_res partitioning strategy. Falling back to partitioning with the fast strategy.\n"
     ]
    },
    {
     "name": "stdout",
     "output_type": "stream",
     "text": [
      "Reading 21 files from Numerical Analysis\n"
     ]
    },
    {
     "name": "stderr",
     "output_type": "stream",
     "text": [
      "detectron2 is not installed. Cannot use the hi_res partitioning strategy. Falling back to partitioning with the fast strategy.\n",
      "detectron2 is not installed. Cannot use the hi_res partitioning strategy. Falling back to partitioning with the fast strategy.\n",
      "detectron2 is not installed. Cannot use the hi_res partitioning strategy. Falling back to partitioning with the fast strategy.\n",
      "detectron2 is not installed. Cannot use the hi_res partitioning strategy. Falling back to partitioning with the fast strategy.\n",
      "detectron2 is not installed. Cannot use the hi_res partitioning strategy. Falling back to partitioning with the fast strategy.\n",
      "detectron2 is not installed. Cannot use the hi_res partitioning strategy. Falling back to partitioning with the fast strategy.\n",
      "detectron2 is not installed. Cannot use the hi_res partitioning strategy. Falling back to partitioning with the fast strategy.\n",
      "detectron2 is not installed. Cannot use the hi_res partitioning strategy. Falling back to partitioning with the fast strategy.\n",
      "detectron2 is not installed. Cannot use the hi_res partitioning strategy. Falling back to partitioning with the fast strategy.\n",
      "detectron2 is not installed. Cannot use the hi_res partitioning strategy. Falling back to partitioning with the fast strategy.\n",
      "detectron2 is not installed. Cannot use the hi_res partitioning strategy. Falling back to partitioning with the fast strategy.\n",
      "detectron2 is not installed. Cannot use the hi_res partitioning strategy. Falling back to partitioning with the fast strategy.\n",
      "detectron2 is not installed. Cannot use the hi_res partitioning strategy. Falling back to partitioning with the fast strategy.\n",
      "detectron2 is not installed. Cannot use the hi_res partitioning strategy. Falling back to partitioning with the fast strategy.\n",
      "detectron2 is not installed. Cannot use the hi_res partitioning strategy. Falling back to partitioning with the fast strategy.\n",
      "detectron2 is not installed. Cannot use the hi_res partitioning strategy. Falling back to partitioning with the fast strategy.\n",
      "detectron2 is not installed. Cannot use the hi_res partitioning strategy. Falling back to partitioning with the fast strategy.\n",
      "detectron2 is not installed. Cannot use the hi_res partitioning strategy. Falling back to partitioning with the fast strategy.\n",
      "detectron2 is not installed. Cannot use the hi_res partitioning strategy. Falling back to partitioning with the fast strategy.\n",
      "detectron2 is not installed. Cannot use the hi_res partitioning strategy. Falling back to partitioning with the fast strategy.\n",
      " 83%|████████▎ | 5/6 [04:25<01:01, 61.08s/it]detectron2 is not installed. Cannot use the hi_res partitioning strategy. Falling back to partitioning with the fast strategy.\n"
     ]
    },
    {
     "name": "stdout",
     "output_type": "stream",
     "text": [
      "Reading 1 files from Geomemrane Face Concrete Dams (GFRD)\n"
     ]
    },
    {
     "name": "stderr",
     "output_type": "stream",
     "text": [
      "100%|██████████| 6/6 [04:26<00:00, 44.49s/it]\n"
     ]
    }
   ],
   "source": [
    "from langchain.document_loaders import TextLoader\n",
    "from tqdm.auto import tqdm\n",
    "loader = UnstructuredPDFLoader(r'C:\\Users\\juantello\\Downloads\\SainsburyandSainsbury2013.pdf')\n",
    "documents = loader.load()\n",
    "\n",
    "# now do the same for all files in the folder\n",
    "loaders={}\n",
    "documents={}\n",
    "for folder in tqdm(folders):\n",
    "    loaders[folder] = [UnstructuredPDFLoader(pdf_file) for pdf_file in pdf_files if folder in pdf_file]\n",
    "    print(f\"Reading {len(loaders[folder])} files from {folder}\")\n",
    "    documents[folder] = [loader.load() for loader in loaders[folder]]"
   ]
  },
  {
   "cell_type": "code",
   "execution_count": 151,
   "id": "661cef36",
   "metadata": {},
   "outputs": [
    {
     "name": "stdout",
     "output_type": "stream",
     "text": [
      "# of files read: 63\n"
     ]
    }
   ],
   "source": [
    "print(f\"# of files read: {sum([len(documents[folder]) for folder in documents])}\")"
   ]
  },
  {
   "cell_type": "code",
   "execution_count": 155,
   "id": "947a8a69",
   "metadata": {},
   "outputs": [
    {
     "data": {
      "text/plain": [
       "63"
      ]
     },
     "execution_count": 155,
     "metadata": {},
     "output_type": "execute_result"
    }
   ],
   "source": [
    "flattened_documents = [document[0] for folder in documents for document in documents[folder]]\n",
    "len(flattened_documents)"
   ]
  },
  {
   "cell_type": "code",
   "execution_count": 156,
   "id": "9727511a",
   "metadata": {},
   "outputs": [
    {
     "data": {
      "text/plain": [
       "Document(page_content='See discussions, stats, and author profiles for this publication at: https://www.researchgate.net/publication/261296224\\n\\nTheme B ANALYSIS OF A CONCRETE FACE ROCKFILL DAM INCLUDING\\n\\nCONCRETE FACE LOADING AND DEFORMATION USING PROGRAM PACKAGE\\n\\nSOFiSTiK\\n\\nConference Paper · September 2009\\n\\nCITATIONS\\n\\n0\\n\\n2 authors, including:\\n\\nGjorgi Kokalanov\\n\\nSs. Cyril and Methodius University in Skopje\\n\\n11 PUBLICATIONS\\xa0\\xa0\\xa05 CITATIONS\\n\\nSEE PROFILE\\n\\nREADS\\n\\n696\\n\\nAll content following this page was uploaded by Gjorgi Kokalanov on 03 April 2014.\\n\\nThe user has requested enhancement of the downloaded file.\\n\\n10th Benchmark Workshop on Numerical Aspects of dams, Paris, September, 2009\\n\\nTheme B\\n\\nANALYSIS OF A CONCRETE FACE ROCKFILL DAM INCLUDING\\n\\nCONCRETE FACE LOADING AND DEFORMATION USING PROGRAM\\n\\nPACKAGE SOFiSTiK\\n\\nGjorgi KOKALANOV, Professor, Faculty of Civil Eng., Skopje, Republic of Macedonia\\n\\nLjubomir TANČEV, Professor, Faculty of Civil Eng., Skopje, Republic of Macedonia\\n\\nStevcho MITOVSKI, Assistant, Faculty of Civil Eng., Skopje, Republic of Macedonia\\n\\nSlobodan LAKOČEVIĆ, Civ. Eng., Faculty of Civil Eng., Skopje, Republic of Macedonia\\n\\nINTRODUCTION\\n\\nMohale dam is concrete face rockfill dam, with height H=145 m, length of the dam crest 600\\n\\nm and total fill volume of 7.5 millions m3. In the process of reservoir impounding, when the\\n\\nreservoir level reached maximum elevation, significant dam movements occurred, this in turn\\n\\nincreased the compressive stresses within the center portion of the concrete face, resulting\\n\\nin  shear  failure  of  the  slab.  The  main  objective  of  this  analysis  is  to  gain  data  for  the\\n\\ndeformation-stress  state  of  the  dam,  including  and  the  observed  cracking  pattern  of  the\\n\\nconcrete face, using three-dimensional model with simplified topography, incorporation of the\\n\\nconcrete  face  with  use  of  the  dam  zoning  and  construction  sequence.  In  other  words,  the\\n\\nhistory  of  the  behaviour  of  the  structure  (related  to  construction  sequence,  water  level\\n\\nhistories and appearance of the cracking failure), should be followed by means of numerical\\n\\nexperiments. These data would serve for comparison with the measured results that will be\\n\\nfollowed  by  interpretation  of  the  obtained  data  and  in  the  end  conclusions  concerning  the\\n\\nobtained results and the behaviour of the dam.\\n\\nDESCRIPTION OF THE THREE DIMENSIONAL NUMERICAL MODEL OF\\n\\nANALYSIS\\n\\nGENERAL PART\\n\\nThe  used  computer  software  SOFiSTiK  for  stress-strain  analyses,  produced  in  Munich\\n\\n(Germany),  is  based  on  the  finite  element  method.  It  has  a  wide  range  of  possibilities  for\\n\\nsimulation  of  dam  behaviour  and  inclusion  in  the  analyses  of  all  necessary  fenomena,\\n\\nimportant for real simulation of the dam behaviour, such as: an automatic discretization of the\\n\\ndam body taking into account the iregularities in the geometry of the dam base, application of\\n\\ndifferent  constitutive  models  for  materials,  simulation  of  the  dam  body  construction  and\\n\\nreservoir filling in increments, and so on. The program has rich possibilities for presentation\\n\\nof the output results. In our work, mainly plane graphical presentation was used, showing the\\n\\noutput  results  in  the  required  cross  and  longitudinal  sections,  and  also  in  the  required  slab\\n\\nfailure points. On Fig. 1 is shown the general view of the layout of the dam, Fig. 2 shows the\\n\\ntypical cross section of the dam. In Table 1 are given the materials included in the dam body.\\n\\nTable 1. Materials included in dam zoning, according to Figure 2.\\n\\nZone  Description\\n\\nLift height [m]\\n\\nImpervious fill\\n\\nImpervious fill\\n\\n1A\\n\\n1B  Random fill\\n\\n1C\\n\\n2A  Fine filter\\n\\n2B  Durable crushed doleritic basalt\\n\\n3A  Selected small quarry run rock\\n\\n3B  Quarry run rockfill\\n\\n3C  Quarry run rockfill\\n\\n3D  Selected durable rock\\n\\n3E  Quarry run doleritic basalt\\n\\n0.3\\n\\n0.6\\n\\n0.3\\n\\n0.4\\n\\n0.4\\n\\n0.4\\n\\n1.0\\n\\n2.0\\n\\nNA\\n\\n1.0/2.0\\n\\n1\\n\\n10th Benchmark Workshop on Numerical Aspects of dams, Paris, September, 2009\\n\\nFigure 1. Layout of dam Mohale.\\n\\nFigure 2. Typical cross section of dam Mohale with detail of the foundation slab of the concrete face.\\n\\nCONSTITUTIVE RELATIONSHIP AND PARAMETERS OF THE MATERIALS\\n\\nThe  choice  of  the  parameters  for  the  materials  is  one  of  the  most  important,  but  in\\n\\nsame time and most complex tasks in the numerical analyses of dams. The rockfill body of\\n\\nthe dam was built of three different materials with similar properties. In the analytical model\\n\\nthey are presented with constitutive material model GRAN from the library of SOFiSTiK. That\\n\\n2\\n\\n10th Benchmark Workshop on Numerical Aspects of dams, Paris, September, 2009\\n\\nis  extended  elastoplastic  material  with  an  optimized  hardening  rule  (single  and  double\\n\\nhardening) for soil materials. Hardening is limited by the material’s strength, represented by\\n\\nthe  classic  Mohr/Coulomb  failure  criterion  (Fig.  3a).  The  hardening  rule  is  based  on  the\\n\\nhyperbolic  stress-strain relationship proposed  by  Kondner/Zelasko,  which  was  derived  from\\n\\ntriaxial testing (Fig. 3b). Additionally, the  model accounts for the stress dependent stiffness\\n\\naccording to equations (1−3). A further essential feature is the model’s ability to capture the\\n\\nloading  state  and  can  therefore  automatically  account  for  the  different  stiffness  in  primary\\n\\nloading and un−/reloading paths.\\n\\nFigure 3. Mohr-Coulomb failure criterion and hyperbolic stress-strain relationship.\\n\\nRockfill  material  shows  stiffness  behaviour  dependent  of  the  stress  state.  The  oedometric\\n\\nmodulus  magnitude  depends  on  the  effective  axial  stress  state  according  to  the  following\\n\\nrelationships, equation (1):\\n\\nE50  is  defined  as  secant  stiffness  that  corresponds  to  a  50−percent  mobilisation  of  the\\n\\nmaximum shear capacity, given by equation (2).\\n\\n(1)\\n\\nAn analogous approach for the elastic un−/reloading stiffness yields, given by equation (3):\\n\\n(2)\\n\\nThe face of the dam was built of the concrete C 25. There was no date of the laboratory test\\n\\nof the concrete and the reinforcement, so the standard concrete and steel properties where\\n\\nadopted (Fig. 4 and Fig. 5).\\n\\n(3)\\n\\n3\\n\\n10th Benchmark Workshop on Numerical Aspects of dams, Paris, September, 2009\\n\\n[MPa]\\n\\n35.00\\n\\n30.00\\n\\n25.00\\n\\n20.00\\n\\n15.00\\n\\n10.00\\n\\n5.00\\n\\n0.00\\n\\ns ig-m\\n\\ns ig-u\\n\\n0\\n\\n.\\n\\n0\\n\\n0\\n\\n1\\n\\n.\\n\\n1\\n\\n\\n\\n0\\n\\n0\\n\\n.\\n\\n2\\n\\n\\n\\n0\\n\\n2\\n\\n.\\n\\n2\\n\\n\\n\\n0\\n\\n3\\n\\n.\\n\\n3\\n\\n\\n\\n0\\n\\n5\\n\\n.\\n\\n3\\n\\n\\n\\n[o/oo]\\n\\nFigure 4. Stress-strain relationship of concrete C 25.\\n\\n[MPa]\\n\\n700.00\\n\\n600.00\\n\\n500.00\\n\\n400.00\\n\\n300.00\\n\\n200.00\\n\\n100.00\\n\\n0.00\\n\\n0.00\\n\\n100.00\\n\\n0\\n\\n5\\n\\n.\\n\\n2\\n\\n0\\n\\n5\\n\\n.\\n\\n2\\n\\n\\n\\n200.00\\n\\n300.00\\n\\n400.00\\n\\n500.00\\n\\n600.00\\n\\n700.00\\n\\n0\\n\\n.\\n\\n0\\n\\n5\\n\\ns ig-m\\n\\ns ig-u\\n\\n0\\n\\n.\\n\\n0\\n\\n5\\n\\n\\n\\n[o/oo]\\n\\nFigure 5. Stress-strain relationship of steel S 500.\\n\\nNUMERICAL MODEL\\n\\nUsing  the  given  data  three-dimensional  (3D)  mathematical  model  of  the  dam  was\\n\\nbuild  (Fig.  6).  The  finite  element  mesh  was  generated  using  SOFiSTiK  automatic  mesh\\n\\ngenerator.  Three  types  of  element  were  used  to  model  the  dam’s  body:  BRIC  and  QUAD\\n\\nelements.  The  body  of  the  rockfill  dam  was  modelled  with  3D  solid  elements  (8th  node\\n\\nissoparametric).The  solid  element  of  SOFiSTiK  is  the  BRIC  (volume)  element  (Fig.  7),  a\\n\\ngeneral six-sided element with eight nodes.\\n\\nFigure 6. General view of the 3-D model of the dam-foundation system.\\n\\n4\\n\\n10th Benchmark Workshop on Numerical Aspects of dams, Paris, September, 2009\\n\\nFigure 7. BRIC element.\\n\\nThe plane element QUAD (shell) (Fig. 8) is a general quadrilateral element with four nodes.\\n\\nThe surfaces of the BRIC element can be described by special QUAD-elements, which can\\n\\nalso  be  employed  for  the  display  of  stresses  in  BRIC-elements.  The  QUAD-elements  are\\n\\nintroduced in order to simplify the process of generation of the water pressure loads.\\n\\nFigure 8. QUAD element.\\n\\nThe  input  data  in  the  analysis  were  the  given data  regarding  the  geometry  of  the  dam  and\\n\\nthe material properties. In order to simulate the construction sequences the body of the dam\\n\\nwas modelled with 18 construction stages (horizontal layers). The concrete face of the dam\\n\\nwas modelled by shell elements. It was applied at the body in two construction stages. The\\n\\nface elements are with variable thickness. The thickness of the concrete was determined as\\n\\na  function  of  the  hydrostatic  pressure,  following  the  equation  e=0.30+0.00H.  Adopted\\n\\nreinforcement  is  0.4%  in  vertical  direction  and  0.35%  in  horizontal  direction.  The  concrete\\n\\nface was built in several strips (15 m width) and joint gaps between the strips were adapted 2\\n\\ncm (Fig. 9). For the needs of the nonlinear analysis the shell element are treated as layered\\n\\nin 10 concrete layers, (Fig. 10). The reinforcement is also simulated by smeared layers. That\\n\\nmodel  is  able  to  reproduce  the  3D  crack  pattern  developing.  Construction  stages  where\\n\\nsimulated in the following sequences\\n\\nCS 1 ÷ CS 11\\n\\nCS 12\\n\\nCS 13 ÷ CS 17\\n\\nCS 17\\n\\nrockfill body up to elevation 2040\\n\\nrockfill body + concrete face up to elevation 2040\\n\\nrockfill body up to elevation 2078 + concrete face up to elevation 2040\\n\\nrockfill body + concrete face up to elevation 2078\\n\\nConcrete strips\\n\\nFoundation plates\\n\\nView\\n\\nCross\\n\\nsection\\n\\nHinge\\n\\n15.0 m\\n\\n15.0 m\\n\\n0.02 m\\n\\nFigure 9. Display of the concrete face discretization.\\n\\n5\\n\\n10th Benchmark Workshop on Numerical Aspects of dams, Paris, September, 2009\\n\\nFigure 10. Simulation of the construction of the shell elements in layers.\\n\\nThe numerical model gives two possibilities for simulation of the supports:\\n\\nSimply support connection where there are no movements in the supported points.\\n\\nSupports  by  linear/nonlinear  bedding.  With  this  type  of  supports  some  effects\\n\\ncharacteristic for soli-structure interaction can be simulated (sliding of the dam body,\\n\\nlifting in the case of the tension, linear/nonlinear friction and similar).\\n\\nThe strips of the concrete face are connected with stiffer foundations. The interface between\\n\\nthese  elements  is  with  edges  hinge  that  allowed  independent  rotation  of  strips  and\\n\\nfoundation along the common edges, but keep the connection between the both.\\n\\nINTERFACE\\n\\nThe  dam  was  build  of  elements  with  very  different  stiffness.  In  order  to  avoid  numerical\\n\\nproblem  during  nonlinear  analyses,  rigid  connection  of  that  type  of  element  should  be\\n\\navoided. The strips faced element initially has gap of 2 cm (Fig. 11). During the construction\\n\\nand impounding, free movement between neighbour points happened till the points contact\\n\\neach other. After that the point moved together without, and some forces can be transferred\\n\\nbetween the points. This type of the interface was simulated with nonlinear spring that cannot\\n\\ntransfer  tension  forces.  The  spring  will  be  activated  in  the  moment  when  the  distance\\n\\nbetween the points became equal to the gap (2 cm).\\n\\nP\\n\\nGAP=2.0 cm\\n\\nCN\\n\\nGAP\\n\\nFigure 11. Spring-force displacement relation.\\n\\nThe  connection  between  the  concrete  strips  and  the  rockfill  body  was  simulated  with\\n\\nnonlinear distributed springs. The characteristics of these springs are as follow (Fig. 12):\\n\\nCN  –  axial  spring  constant.  Usually  very  large  number  to  preserve  contact  between\\n\\nthe strips and the body in the normal direction.\\n\\nCT  –  lateral  spring  constant.  That  constant  can  allow  movement  between  the\\n\\ninterface  surfaces.  The  value  of  that  constant  dependent  of  the  friction  between  the\\n\\ntwo surfaces.\\n\\nCRAC  –  failure  load.  In  the  case  CRAC  =  0,  no  tension  between  the  surface  is\\n\\nallowed.\\n\\nGAP  –  the  spring  will  be  activated  when  the  distance  between  the  points  became\\n\\nequal to the gap’s value.\\n\\n6\\n\\n10th Benchmark Workshop on Numerical Aspects of dams, Paris, September, 2009\\n\\nFigure 12. Connection between the concrete strips and the rockfill body.\\n\\nLOADING OF THE DAM\\n\\nAccording  to  the  given  data,  appropriate  loads  from  self  weight  and  water  pressure  were\\n\\ncreated.  SOFiSTiK  has  very  efficient  tools  for  load  generation.  The  self  weight  loads  are\\n\\napplied with the values of the unit weight of the materials in the dam body and division of the\\n\\ndam body in appropriate construction sequences, according to the given data, with command\\n\\nto act in the gravity direction. The simulation of the dam construction in layers is displayed on\\n\\nFig.  13.  The  temperature,  and  the  creep  and  shrinking  effects  were  not  taken  into\\n\\nconsideration.\\n\\nFigure 13. Simulation of dam construction in layers.\\n\\nWith  the  VOLU-statement,  a  loading  on  volumes,  group  of  BRIC-elements  or  all\\n\\nQUAD-elements within the volume is enabled. The changes of the pressure load along tree\\n\\nedges are specified. All referenced elements of the group or the volume will be loaded. The\\n\\nselection  of  elements  is  only  by  a  sheared  cube  (Fig.  14),  defined  by  three  selectable\\n\\ndirections p1−p, p3−p2, p5−p4, which must not be collinear. For transfer of the water pressure\\n\\nloads, some QUAD elements faces on the upstream of the dam’s body was created, that are\\n\\nenabling  to  introduce  the  concrete  face  in  the  analysis  and  to  apply  the  water  load\\n\\nadequately  (Fig.  15  and  16).  This  elements  has  only  geometrical  values,  they  have  no\\n\\ncontribution on the total structure stiffness. Referencing these QUAD elements in the VALU\\n\\nstatement cause simple transfer of the water pressure in appropriate node loads. The water\\n\\nload is applied as hydrostatic pressure in increments.\\n\\n7\\n\\n10th Benchmark Workshop on Numerical Aspects of dams, Paris, September, 2009\\n\\nFigure 14. Sheared cube.\\n\\nFigure 15. QUAD elements faces on the 3-D model of the dam’s body.\\n\\nFigure 16.. Full water load applied on the 3D model of the dam, step 20.\\n\\nANALYSES OF THE DAM\\n\\nFill settlements\\n\\nThe dam was analyzed on statically action of self weight and water pressure loads. In order\\n\\nto obtain complete information about the stress-deformation state of the dam, in the following\\n\\nare displayed the obtained results for the displacements and the stresses in the dam body in\\n\\nthe  required  cross  sections  for  two  loading  stages  (Fig.  17):  stage  after  the  end  of  dam\\n\\nconstruction and stage after the impounding of the reservoir.\\n\\n8\\n\\n10th Benchmark Workshop on Numerical Aspects of dams, Paris, September, 2009\\n\\nFigure 17. Location of the sections A, B and C in the dam.\\n\\nFigure 18. Vertical displacements after the dam construction, section A, Y = (0.0 ÷ 1281) mm, (-) is\\n\\ndisplacement opposite of the gravity direction, (+) is displacement in gravity direction.\\n\\nFigure 19. Vertical displacements after reservoir impounding, section A, Y = (0.0 ÷ 1303) mm, (-) is\\n\\ndisplacement opposite of the gravity direction, (+) is displacement in gravity direction.\\n\\n9\\n\\n10th Benchmark Workshop on Numerical Aspects of dams, Paris, September, 2009\\n\\nFigure 20. Vertical displacements after the dam construction, section B, Y = (0.0 ÷ 2109) mm, (-) is\\n\\ndisplacement opposite of the gravity direction, (+) is displacement in gravity direction.\\n\\nFigure 21. Vertical displacements after reservoir impounding, section B, Y = (0.0 ÷ 2158) mm, (-) is\\n\\ndisplacement opposite of the gravity direction, (+) is displacement in gravity direction.\\n\\n10\\n\\n10th Benchmark Workshop on Numerical Aspects of dams, Paris, September, 2009\\n\\nFigure 22. Vertical stresses after dam construction, section B, σY= (-0.0126 ÷ -2.36) MPa.\\n\\nFigure 23. Vertical stresses after reservoir impounding, section B, σY= (-0.005 ÷ -2.54) MPa.\\n\\n11\\n\\n10th Benchmark Workshop on Numerical Aspects of dams, Paris, September, 2009\\n\\nFigure 24. Vertical displacements after the dam construction, section C, Y = (0.0 ÷ 1529) mm, (-) is\\n\\ndisplacement opposite of the gravity direction, (+) is displacement in gravity direction.\\n\\nFigure 25. Vertical displacements after reservoir impounding, section C, Y = (0.0 ÷ 1559) mm, (-) is\\n\\ndisplacement opposite of the gravity direction, (+) is displacement in gravity direction.\\n\\n12\\n\\n10th Benchmark Workshop on Numerical Aspects of dams, Paris, September, 2009\\n\\nFigure 26. Vertical displacements after dam construction, longitudinal section of the dam, Y = (0.0 ÷\\n\\n2140) mm, (-) is displacement opposite of the gravity direction, (+) is displacement in gravity direction.\\n\\nFigure 27. Vertical displacements after reservoir impounding, longitudinal section of the dam, Y = (0.0\\n\\n÷  2189)  mm,  (-)  is  displacement  opposite  of  the  gravity  direction,  (+)  is  displacement  in  gravity\\n\\ndirection.\\n\\n13\\n\\n10th Benchmark Workshop on Numerical Aspects of dams, Paris, September, 2009\\n\\nFigure 28. Surface settlements for lake level at EL 2075, upstream side.\\n\\nStrains and stresses within the Concrete Face\\n\\nFigure  29.  Top  non-linear  principal  stress  in  the  concrete  face  after  dam  construction,  σ=(0.083  ÷  -\\n\\n12.0) MPa.\\n\\n14\\n\\n10th Benchmark Workshop on Numerical Aspects of dams, Paris, September, 2009\\n\\nFigure 30. Top non-linear principal stress in the concrete face after reservoir impounding, σ = (1.48 ÷ -\\n\\n9.79) MPa.\\n\\nFigure 31. Top non-linear principal strains in the concrete face after dam construction, ε = (2.58 ÷ -\\n\\n0.59) ‰.\\n\\n15\\n\\n10th Benchmark Workshop on Numerical Aspects of dams, Paris, September, 2009\\n\\nFigure 32. Top non-linear principal strains in the concrete face after reservoir impounding, ε = (2.72 ÷\\n\\n1.01) ‰.\\n\\nFace deflections\\n\\nFigure 33. Face deflection after dam construction, section A, D=(0.0 ÷ 75.4) mm.\\n\\n16\\n\\n10th Benchmark Workshop on Numerical Aspects of dams, Paris, September, 2009\\n\\nFigure 34. Face deflection after reservoir impounding, section A, D=(0.0 ÷ 506.5) mm.\\n\\nFigure 35. Face deflection after dam construction, section B, D=(0.0 ÷ 184.1) mm.\\n\\n17\\n\\n10th Benchmark Workshop on Numerical Aspects of dams, Paris, September, 2009\\n\\nFigure 36. Face deflection after reservoir impounding, section B, D=(0.0 ÷ 908) mm.\\n\\nFigure 37. Face deflection after dam construction, section C, D=(0.0 ÷ 106.3) mm.\\n\\n18\\n\\n10th Benchmark Workshop on Numerical Aspects of dams, Paris, September, 2009\\n\\nFigure 38. Face deflection after reservoir impounding, section C, D=(0.0 ÷ 623.8) mm.\\n\\nCONCLUSIONS\\n\\nFrom the performed analysis following main conclusions could be drawn out:\\n\\nProgram  package  SOFiSTiK  is  powerful  tool  for  complex  three-dimensional  analysis  of\\n\\ndams.  It  has  rich  possibilities  for  modeling  of  the  dam  body,  and  also  possibilities  for\\n\\napplication of different constitutive laws, as well as for complex load influences.\\n\\nFrom the analysis of dam behaviour for the loading states (state after dam construction\\n\\nand  state  after  reservoir  impounding),  obtained  values  and  distribution  of  the  dam\\n\\nsettlements  and  vertical  stresses  are  usual  for  this  type  of  dam.  The  maximal  vertical\\n\\nsettlement  is  in  the  intermediate  part  of  the  dam,  located  approximately  at  60%  of  the\\n\\ndam height, with value 2.138 m at point HS B11, while the measured value at the same\\n\\npoint  is  2.32  m.  This  shows  good  accordance  between  these  values.  Maximal  vertical\\n\\nstresses are at the bottom, in the central part of the, with value of 2.36 MPa.\\n\\nFrom the comparison of the measured values for surface settlements for lake level at EL\\n\\n2075  (Fig.  16  from  the  given  data)  and  obtained  values  from  the  analysis  (only  for  the\\n\\nupstream  side,  Fig.  28  from  the  analysis)  it  can  be  noticed  that  the  diagram  and  the\\n\\nvalues of the settlements are very similar and also shows good accordance.\\n\\nUp to now, with calibration of the numerical model, using some of the advanced features\\n\\nof the program SOFiSTiK, it was possible to explain some of the results obtained by the\\n\\nperformed  measurements.  But,  to  explain  the  complete  behaviour  of  the  dam  including\\n\\nthe  crack  pattern,  it  is  necessary  to  do  additional  improvement  and  calibration  of  the\\n\\nalready complex numerical model with the measured data.\\n\\nView publication stats\\n\\n19\\n\\nﬁ\\n\\nﬁ\\n\\nﬁ\\n\\nﬁ', metadata={'source': 'G:\\\\.shortcut-targets-by-id\\\\1vE28d8xZuJXkpcinFbuku9FJgeaDd48K\\\\ICOLD - CFRD New Bulletin 2023\\\\Dam Response\\\\ANALYSISOFACONCRETEFACEROCKFILLDAMINCLUDING.pdf'})"
      ]
     },
     "execution_count": 156,
     "metadata": {},
     "output_type": "execute_result"
    }
   ],
   "source": [
    "flattened_documents[9]"
   ]
  },
  {
   "attachments": {},
   "cell_type": "markdown",
   "id": "4c22cb06",
   "metadata": {},
   "source": [
    "## Split texts"
   ]
  },
  {
   "cell_type": "code",
   "execution_count": 157,
   "id": "abce32d8",
   "metadata": {},
   "outputs": [],
   "source": [
    "text_splitter = RecursiveCharacterTextSplitter(chunk_size=600, chunk_overlap=0)\n",
    "docs = text_splitter.split_documents(flattened_documents)\n",
    "\n",
    "embeddings = OpenAIEmbeddings()"
   ]
  },
  {
   "cell_type": "code",
   "execution_count": 158,
   "id": "31b83975",
   "metadata": {},
   "outputs": [
    {
     "name": "stdout",
     "output_type": "stream",
     "text": [
      "len(docs): 5919\n"
     ]
    }
   ],
   "source": [
    "print(f\"len(docs): {len(docs)}\")"
   ]
  },
  {
   "cell_type": "code",
   "execution_count": 159,
   "id": "8d508335",
   "metadata": {},
   "outputs": [
    {
     "name": "stdout",
     "output_type": "stream",
     "text": [
      "Article\n",
      "Development and In Situ Application of Deformation\n",
      "Monitoring System for Concrete-Face Rockﬁll Dam\n",
      "Using Fiber Optic Gyroscope\n",
      "Cheng Liao 1, Desuo Cai 2, Hongxun Chen 1, Weili Luo 1,*\n",
      "and Miao Li 3\n",
      "1\n",
      "School of Civil Engineering, Guangzhou University, Guangzhou 510006, China;\n",
      "1111816004@e.gzhu.edu.cn (C.L.); 2111716082@e.gzhu.edu.cn (H.C.)\n",
      "2 College of Hydraulic & Environmental Engineering, China Three Gorges University, Yichang 443002, China;\n",
      "caidesuo@vip.163.com\n",
      "Jiangxi Water Resources Institute, Jiangxi 330013, China; Z201810208172@stu.ncwu.edu.cn\n",
      "3\n"
     ]
    }
   ],
   "source": [
    "print(docs[0].page_content.replace('\\n\\n', '\\n'))"
   ]
  },
  {
   "cell_type": "code",
   "execution_count": 160,
   "id": "cd913683",
   "metadata": {},
   "outputs": [],
   "source": [
    "import tiktoken\n",
    "enc = tiktoken.encoding_for_model(\"text-embedding-ada-002\")"
   ]
  },
  {
   "cell_type": "code",
   "execution_count": 164,
   "id": "11accc8a",
   "metadata": {},
   "outputs": [
    {
     "name": "stdout",
     "output_type": "stream",
     "text": [
      "len(tokens): 152\n"
     ]
    }
   ],
   "source": [
    "tokens = enc.encode(docs[1000].page_content)\n",
    "print(f\"len(tokens): {len(tokens)}\")"
   ]
  },
  {
   "attachments": {},
   "cell_type": "markdown",
   "id": "1399393c",
   "metadata": {},
   "source": [
    "## Set up Pinecone"
   ]
  },
  {
   "cell_type": "code",
   "execution_count": 166,
   "id": "6e104aee",
   "metadata": {},
   "outputs": [],
   "source": [
    "import pinecone \n",
    "import os\n",
    "\n",
    "# initialize pinecone\n",
    "pinecone.init(api_key=\"48640420-7e79-46d4-b71d-d07286818fef\", environment=\"us-central1-gcp\")\n"
   ]
  },
  {
   "cell_type": "code",
   "execution_count": 167,
   "id": "d6784345",
   "metadata": {},
   "outputs": [],
   "source": [
    "pinecone.delete_index('icold')"
   ]
  },
  {
   "cell_type": "code",
   "execution_count": 168,
   "id": "8ce398b7",
   "metadata": {},
   "outputs": [],
   "source": [
    "pinecone.create_index('icold', dimension=1536)"
   ]
  },
  {
   "cell_type": "code",
   "execution_count": 219,
   "id": "97c11081",
   "metadata": {},
   "outputs": [],
   "source": [
    "index = pinecone.Index('icold')"
   ]
  },
  {
   "cell_type": "code",
   "execution_count": 220,
   "id": "a1c1eda2",
   "metadata": {},
   "outputs": [
    {
     "data": {
      "text/plain": [
       "['icold']"
      ]
     },
     "execution_count": 220,
     "metadata": {},
     "output_type": "execute_result"
    }
   ],
   "source": [
    "pinecone.list_indexes()"
   ]
  },
  {
   "cell_type": "code",
   "execution_count": 173,
   "id": "faaf2be6",
   "metadata": {},
   "outputs": [],
   "source": [
    "docsearch = Pinecone.from_documents(docs, embeddings, index_name=index_name)"
   ]
  },
  {
   "cell_type": "code",
   "execution_count": 174,
   "id": "31776525",
   "metadata": {},
   "outputs": [],
   "source": [
    "client=pinecone.Index('icold')"
   ]
  },
  {
   "cell_type": "code",
   "execution_count": 176,
   "id": "f8d7c888",
   "metadata": {},
   "outputs": [],
   "source": [
    "def pretty_print(response):\n",
    "    import textwrap\n",
    "    # Split the response by lines of max 80 characters\n",
    "    return '\\n'.join(textwrap.wrap(response, 80))\n"
   ]
  },
  {
   "cell_type": "code",
   "execution_count": 175,
   "id": "fb5038c5",
   "metadata": {},
   "outputs": [],
   "source": [
    "query = \"how do cfrd dams perform under earthquakes?\"\n",
    "docs = docsearch.similarity_search(query)\n",
    "for doc in docs:\n",
    "    print(pretty_print(doc.page_content))\n",
    "    print(\"\")\n",
    "    #break"
   ]
  },
  {
   "cell_type": "code",
   "execution_count": null,
   "id": "63867cef",
   "metadata": {},
   "outputs": [],
   "source": [
    "query = \"how do cfrd dams perform under earthquakes?\"\n",
    "docs = docsearch.similarity_search(query)\n",
    "for doc in docs:\n",
    "    print(pretty_print(doc.page_content))\n",
    "    print(\"\")\n",
    "    #break"
   ]
  },
  {
   "cell_type": "code",
   "execution_count": 179,
   "id": "24a5a57d",
   "metadata": {},
   "outputs": [],
   "source": [
    "from langchain.chat_models import ChatOpenAI\n",
    "llm = ChatOpenAI(temperature=0.5, max_tokens=400)\n",
    "from langchain.chains import RetrievalQA\n"
   ]
  },
  {
   "cell_type": "code",
   "execution_count": 204,
   "id": "bc277a99",
   "metadata": {},
   "outputs": [],
   "source": [
    "llm=ChatOpenAI(temperature=0, max_tokens=2000)"
   ]
  },
  {
   "cell_type": "code",
   "execution_count": 216,
   "id": "bed4c0e6",
   "metadata": {},
   "outputs": [
    {
     "data": {
      "text/plain": [
       "['append',\n",
       " 'clear',\n",
       " 'copy',\n",
       " 'count',\n",
       " 'extend',\n",
       " 'index',\n",
       " 'insert',\n",
       " 'pop',\n",
       " 'remove',\n",
       " 'reverse',\n",
       " 'sort']"
      ]
     },
     "execution_count": 216,
     "metadata": {},
     "output_type": "execute_result"
    }
   ],
   "source": [
    "[s for s in dir(qa.combine_documents_chain.llm_chain.prompt.messages) if not s.startswith('_')]"
   ]
  },
  {
   "cell_type": "code",
   "execution_count": 218,
   "id": "5abe9c34",
   "metadata": {},
   "outputs": [
    {
     "data": {
      "text/plain": [
       "HumanMessagePromptTemplate(prompt=PromptTemplate(input_variables=['question'], output_parser=None, partial_variables={}, template='{question}', template_format='f-string', validate_template=True), additional_kwargs={})"
      ]
     },
     "execution_count": 218,
     "metadata": {},
     "output_type": "execute_result"
    }
   ],
   "source": [
    "qa.combine_documents_chain.llm_chain.prompt.messages[1]"
   ]
  },
  {
   "cell_type": "code",
   "execution_count": 181,
   "id": "0a0625f0",
   "metadata": {},
   "outputs": [],
   "source": [
    "qa = RetrievalQA.from_chain_type(\n",
    "    llm=ChatOpenAI(),\n",
    "    chain_type=\"stuff\",\n",
    "    retriever=docsearch.as_retriever(),\n",
    "    return_source_documents=True,\n",
    "    )"
   ]
  },
  {
   "cell_type": "code",
   "execution_count": 203,
   "id": "8a263ff2",
   "metadata": {},
   "outputs": [
    {
     "name": "stdout",
     "output_type": "stream",
     "text": [
      "CFRDs (Concrete Face Rockfill Dams) have been found to be susceptible to damage\n",
      "during earthquakes, especially in earthquake-prone regions. For example, the\n",
      "Zipingpu CFR dam in China experienced severe concrete face failure during the\n",
      "May 12, 2008, Wenchuan magnitude 8.0 earthquake. Aftershocks following\n",
      "earthquakes may also cause further damage or complete destruction of existing\n",
      "dams. Therefore, the dynamic response of dams under the action of seismic\n",
      "sequences and the cumulative damage sustained by high CFRDs must be\n",
      "investigated.\n"
     ]
    }
   ],
   "source": [
    "\n",
    "lang = 'EN'\n",
    "\n",
    "I=0\n",
    "query = \"Como se comportan los cfrd durange los terremotos?\"\n",
    "\n",
    "def run_retrieval(query):\n",
    "    return qa({\"query\": query + f\". Answer in {lang} language with examples of actual dams as possible from the context. Do not mention that there was a context provided.\", \"n\": 1})\n",
    "result = run_retrieval(query)\n",
    "\n",
    "print(pretty_print(result[\"result\"]))"
   ]
  },
  {
   "cell_type": "code",
   "execution_count": null,
   "id": "06e6c227",
   "metadata": {},
   "outputs": [],
   "source": [
    "\n",
    "lang = 'EN'\n",
    "\n",
    "query = \"Como se comportan los cfrd durange los terremotos?\"\n",
    "result = run_retrieval(query)\n"
   ]
  },
  {
   "cell_type": "code",
   "execution_count": 202,
   "id": "d4d1e002",
   "metadata": {},
   "outputs": [
    {
     "name": "stdout",
     "output_type": "stream",
     "text": [
      "CFRDs (concrete face rockfill dams) have been studied extensively in relation to\n",
      "their behavior during seismic events. Many researchers have investigated the\n",
      "critical behavior parameters of these dams, including the interface region\n",
      "between the concrete face slab and the rockfill material. A number of studies\n",
      "have also examined the non-uniformity of concrete in the concrete slabs of these\n",
      "dams during dynamic damage analysis. Some researchers have even quantitatively\n",
      "analyzed the seismic fragility of CFRDs using deformation and damage indices.\n",
      "However, there is still a lack of investigation into the seismic performance of\n",
      "high CFRDs subjected to mainshock-aftershock sequences, which are often\n",
      "overlooked during nonlinear dynamic analysis.\n"
     ]
    }
   ],
   "source": [
    "print(pretty_print(result[\"result\"]))"
   ]
  },
  {
   "cell_type": "code",
   "execution_count": 201,
   "id": "ff1cbaee",
   "metadata": {},
   "outputs": [
    {
     "name": "stdout",
     "output_type": "stream",
     "text": [
      "G:\\.shortcut-targets-by-id\\1vE28d8xZuJXkpcinFbuku9FJgeaDd48K\\ICOLD - CFRD New Bulletin 2023\\Numerical Analysis\\Seismic response analysis of face slabs in concrete face rockfill dams (1).pdf\n",
      "G:\\.shortcut-targets-by-id\\1vE28d8xZuJXkpcinFbuku9FJgeaDd48K\\ICOLD - CFRD New Bulletin 2023\\Structural Analysis\\Seismic response analysis of face slabs in concrete face rockfill dams (1).pdf\n",
      "G:\\.shortcut-targets-by-id\\1vE28d8xZuJXkpcinFbuku9FJgeaDd48K\\ICOLD - CFRD New Bulletin 2023\\Numerical Analysis\\Seismic response analysis of face slabs in concrete face rockfill dams.pdf\n",
      "G:\\.shortcut-targets-by-id\\1vE28d8xZuJXkpcinFbuku9FJgeaDd48K\\ICOLD - CFRD New Bulletin 2023\\Dynamic Response\\1-s2.0-S0267726118306213-main.pdf\n"
     ]
    }
   ],
   "source": [
    "for source_doc in result['source_documents']:\n",
    "    print(source_doc.metadata['source'])"
   ]
  },
  {
   "cell_type": "code",
   "execution_count": null,
   "metadata": {},
   "outputs": [],
   "source": []
  }
 ],
 "metadata": {
  "kernelspec": {
   "display_name": "langchain",
   "language": "python",
   "name": "langchain"
  },
  "language_info": {
   "codemirror_mode": {
    "name": "ipython",
    "version": 3
   },
   "file_extension": ".py",
   "mimetype": "text/x-python",
   "name": "python",
   "nbconvert_exporter": "python",
   "pygments_lexer": "ipython3",
   "version": "3.11.0"
  }
 },
 "nbformat": 4,
 "nbformat_minor": 5
}
