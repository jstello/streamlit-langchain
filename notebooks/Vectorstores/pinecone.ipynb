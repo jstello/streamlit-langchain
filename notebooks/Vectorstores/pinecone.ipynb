{
 "cells": [
  {
   "attachments": {},
   "cell_type": "markdown",
   "id": "683953b3",
   "metadata": {},
   "source": [
    "# Pinecone\n",
    "\n",
    "This notebook was adapted from LangChain documentation in order to use a whole directory of PDF files, create embeddings, and store them in a Pinecone index."
   ]
  },
  {
   "cell_type": "code",
   "execution_count": 1,
   "id": "aac9563e",
   "metadata": {},
   "outputs": [],
   "source": [
    "from langchain.embeddings.openai import OpenAIEmbeddings\n",
    "from langchain.text_splitter import RecursiveCharacterTextSplitter\n",
    "from langchain.vectorstores import Pinecone\n",
    "from langchain.document_loaders import TextLoader\n",
    "from langchain.document_loaders import UnstructuredPDFLoader\n",
    "import os"
   ]
  },
  {
   "attachments": {},
   "cell_type": "markdown",
   "id": "4c22cb06",
   "metadata": {},
   "source": [
    "## Embedding"
   ]
  },
  {
   "cell_type": "code",
   "execution_count": 2,
   "id": "abce32d8",
   "metadata": {},
   "outputs": [],
   "source": [
    "embeddings = OpenAIEmbeddings()"
   ]
  },
  {
   "attachments": {},
   "cell_type": "markdown",
   "id": "1399393c",
   "metadata": {},
   "source": [
    "## Set up Pinecone"
   ]
  },
  {
   "cell_type": "code",
   "execution_count": 7,
   "id": "6e104aee",
   "metadata": {},
   "outputs": [],
   "source": [
    "import pinecone \n",
    "import os\n",
    "from tqdm.autonotebook import tqdm\n",
    "# initialize pinecone\n",
    "pinecone.init(api_key=\"48640420-7e79-46d4-b71d-d07286818fef\",\n",
    "              environment=\"us-central1-gcp\")"
   ]
  },
  {
   "cell_type": "code",
   "execution_count": 5,
   "id": "f8d7c888",
   "metadata": {},
   "outputs": [],
   "source": [
    "def pretty_print(response):\n",
    "    import textwrap\n",
    "    # Split the response by lines of max 80 characters\n",
    "    return '\\n'.join(textwrap.wrap(response, 80))"
   ]
  },
  {
   "cell_type": "code",
   "execution_count": 8,
   "id": "24a5a57d",
   "metadata": {},
   "outputs": [],
   "source": [
    "from langchain.chat_models import ChatOpenAI\n",
    "llm = ChatOpenAI(temperature=0.5, max_tokens=400)\n",
    "from langchain.chains import RetrievalQA\n"
   ]
  },
  {
   "cell_type": "code",
   "execution_count": 9,
   "id": "bc277a99",
   "metadata": {},
   "outputs": [],
   "source": [
    "llm=ChatOpenAI(temperature=0, max_tokens=2000)"
   ]
  },
  {
   "cell_type": "code",
   "execution_count": 11,
   "id": "7dc14e16",
   "metadata": {},
   "outputs": [],
   "source": [
    "# Create a vector from an existing index\n",
    "docsearch = Pinecone.from_existing_index('icold', embeddings, \n",
    "                                         )\n"
   ]
  },
  {
   "cell_type": "code",
   "execution_count": 12,
   "id": "0a0625f0",
   "metadata": {},
   "outputs": [],
   "source": [
    "qa = RetrievalQA.from_chain_type(\n",
    "    llm=ChatOpenAI(),\n",
    "    chain_type=\"stuff\",\n",
    "    retriever=docsearch.as_retriever(),\n",
    "    return_source_documents=True,\n",
    "    )"
   ]
  },
  {
   "cell_type": "code",
   "execution_count": 13,
   "id": "8a263ff2",
   "metadata": {},
   "outputs": [
    {
     "name": "stdout",
     "output_type": "stream",
     "text": [
      "CFRDs tend to behave well under seismic excitation because the body of the dam\n",
      "is kept dry and the earthquake does not generate pore pressures and the\n",
      "associated degradation of the resistance in the rockfill. Additionally, the\n",
      "reservoir exerts a pressure on the entire surface of the concrete face, which\n",
      "stabilizes the body by increasing its confinement. However, the effect of\n",
      "seismic events on CFRD is a topic of current research interest, since few dams\n",
      "of this type have the dam stability. Earthquake ground motion is an important\n",
      "phenomenon that has caused severe damage to concrete face slabs in CFR dams. A\n",
      "typical example is the Zipingpu CFR dam which experienced severe concrete face\n",
      "failure under the May 12, 2008, Wenchuan magnitude 8.0 earthquake.\n"
     ]
    }
   ],
   "source": [
    "\n",
    "lang = 'EN'\n",
    "\n",
    "I=0\n",
    "query = \"Como se comportan los cfrd durange los terremotos?\"\n",
    "\n",
    "def run_retrieval(query):\n",
    "    return qa({\"query\": query + f\". Answer in {lang} language with examples of actual dams as possible from the context. Do not mention that there was a context provided.\", \"n\": 1})\n",
    "result = run_retrieval(query)\n",
    "\n",
    "print(pretty_print(result[\"result\"]))"
   ]
  },
  {
   "cell_type": "code",
   "execution_count": null,
   "id": "ff1cbaee",
   "metadata": {},
   "outputs": [
    {
     "name": "stdout",
     "output_type": "stream",
     "text": [
      "G:\\.shortcut-targets-by-id\\1vE28d8xZuJXkpcinFbuku9FJgeaDd48K\\ICOLD - CFRD New Bulletin 2023\\B141.pdf\n",
      "G:\\.shortcut-targets-by-id\\1vE28d8xZuJXkpcinFbuku9FJgeaDd48K\\ICOLD - CFRD New Bulletin 2023\\B141.pdf\n",
      "G:\\.shortcut-targets-by-id\\1vE28d8xZuJXkpcinFbuku9FJgeaDd48K\\ICOLD - CFRD New Bulletin 2023\\Pakal Dul\\0390801-INF-BB-LT3.3-0001 (RC).pdf\n",
      "G:\\.shortcut-targets-by-id\\1vE28d8xZuJXkpcinFbuku9FJgeaDd48K\\ICOLD - CFRD New Bulletin 2023\\Structural Analysis\\Seismic response analysis of face slabs in concrete face rockfill dams (1).pdf\n"
     ]
    }
   ],
   "source": [
    "for source_doc in result['source_documents']:\n",
    "    print(source_doc.metadata['source'])"
   ]
  },
  {
   "cell_type": "code",
   "execution_count": null,
   "id": "8baae4db",
   "metadata": {},
   "outputs": [
    {
     "name": "stdout",
     "output_type": "stream",
     "text": [
      "To estimate leakage through a concrete face rockfill dam (CFRD), a method of\n",
      "localizing and quantifying leakage has been developed. This involves identifying\n",
      "leakage locations on the concrete face slabs and understanding the severity of\n",
      "leakage at each location. This method has been used to rehabilitate several\n",
      "CFRDs around the world that have experienced large leakage, which has resulted\n",
      "in economic losses and safety problems. For example, in a case study on the\n",
      "post-construction deformation of concrete face rockfill dams, the method was\n",
      "used to identify and quantify leakage locations on the concrete face slabs of\n",
      "the dams. In another study, the method was used to assess the severity of\n",
      "leakage in several CFRDs that had experienced large leakage. By using this\n",
      "method, engineers can rehabilitate CFRDs efficiently and effectively to ensure\n",
      "their safety and prevent further economic losses.\n"
     ]
    }
   ],
   "source": [
    "\n",
    "lang = 'EN'\n",
    "\n",
    "I=0\n",
    "query = \"How can we estimate leakage through a concrete face rockfil dam?\"\n",
    "\n",
    "def run_retrieval(query):\n",
    "    return qa({\"query\": query + f\". Answer in {lang} language with examples of actual dams as possible from the context. Do not mention that there was a context provided.\", \"n\": 1})\n",
    "result = run_retrieval(query)\n",
    "\n",
    "print(pretty_print(result[\"result\"]))"
   ]
  },
  {
   "cell_type": "code",
   "execution_count": null,
   "id": "cae6bd89",
   "metadata": {},
   "outputs": [
    {
     "name": "stdout",
     "output_type": "stream",
     "text": [
      "G:\\.shortcut-targets-by-id\\1vE28d8xZuJXkpcinFbuku9FJgeaDd48K\\ICOLD - CFRD New Bulletin 2023\\B141.pdf\n",
      "G:\\.shortcut-targets-by-id\\1vE28d8xZuJXkpcinFbuku9FJgeaDd48K\\ICOLD - CFRD New Bulletin 2023\\Dam Response\\(ASCE)GT.1943-5606.0001501.pdf\n",
      "G:\\.shortcut-targets-by-id\\1vE28d8xZuJXkpcinFbuku9FJgeaDd48K\\ICOLD - CFRD New Bulletin 2023\\B141.pdf\n",
      "G:\\.shortcut-targets-by-id\\1vE28d8xZuJXkpcinFbuku9FJgeaDd48K\\ICOLD - CFRD New Bulletin 2023\\Structural Analysis\\1-s2.0-S0950061820301719-main.pdf\n"
     ]
    }
   ],
   "source": [
    "for source_doc in result['source_documents']:\n",
    "    print(source_doc.metadata['source'])"
   ]
  }
 ],
 "metadata": {
  "kernelspec": {
   "display_name": "langchain",
   "language": "python",
   "name": "langchain"
  },
  "language_info": {
   "codemirror_mode": {
    "name": "ipython",
    "version": 3
   },
   "file_extension": ".py",
   "mimetype": "text/x-python",
   "name": "python",
   "nbconvert_exporter": "python",
   "pygments_lexer": "ipython3",
   "version": "3.11.0"
  }
 },
 "nbformat": 4,
 "nbformat_minor": 5
}
