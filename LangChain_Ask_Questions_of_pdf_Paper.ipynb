{
  "cells": [
    {
      "cell_type": "markdown",
      "metadata": {
        "id": "mEGjc0EEYj7P"
      },
      "source": [
        "## Install Packages"
      ]
    },
    {
      "cell_type": "code",
      "execution_count": 17,
      "metadata": {
        "colab": {
          "base_uri": "https://localhost:8080/"
        },
        "id": "mJS8NuUmYmDn",
        "outputId": "6c15ecfa-80c1-4d3e-ac08-346155254b78"
      },
      "outputs": [
        {
          "name": "stdout",
          "output_type": "stream",
          "text": [
            "Collecting tiktokenNote: you may need to restart the kernel to use updated packages.\n",
            "\n",
            "  Downloading tiktoken-0.3.3-cp311-cp311-win_amd64.whl (579 kB)\n",
            "     ---------------------------------------- 0.0/579.4 kB ? eta -:--:--\n",
            "      --------------------------------------- 10.2/579.4 kB ? eta -:--:--\n",
            "     - ----------------------------------- 30.7/579.4 kB 330.3 kB/s eta 0:00:02\n",
            "     -- ---------------------------------- 41.0/579.4 kB 281.8 kB/s eta 0:00:02\n",
            "     ---- -------------------------------- 71.7/579.4 kB 393.8 kB/s eta 0:00:02\n",
            "     ------- ---------------------------- 122.9/579.4 kB 554.9 kB/s eta 0:00:01\n",
            "     -------------- --------------------- 235.5/579.4 kB 850.1 kB/s eta 0:00:01\n",
            "     ------------------------- ------------ 389.1/579.4 kB 1.2 MB/s eta 0:00:01\n",
            "     ------------------------------------ - 553.0/579.4 kB 1.5 MB/s eta 0:00:01\n",
            "     -------------------------------------- 579.4/579.4 kB 1.5 MB/s eta 0:00:00\n",
            "Requirement already satisfied: regex>=2022.1.18 in c:\\users\\juantello\\anaconda3\\envs\\langchain\\lib\\site-packages (from tiktoken) (2023.3.23)\n",
            "Requirement already satisfied: requests>=2.26.0 in c:\\users\\juantello\\anaconda3\\envs\\langchain\\lib\\site-packages (from tiktoken) (2.28.2)\n",
            "Requirement already satisfied: charset-normalizer<4,>=2 in c:\\users\\juantello\\anaconda3\\envs\\langchain\\lib\\site-packages (from requests>=2.26.0->tiktoken) (3.1.0)\n",
            "Requirement already satisfied: idna<4,>=2.5 in c:\\users\\juantello\\anaconda3\\envs\\langchain\\lib\\site-packages (from requests>=2.26.0->tiktoken) (3.4)\n",
            "Requirement already satisfied: urllib3<1.27,>=1.21.1 in c:\\users\\juantello\\anaconda3\\envs\\langchain\\lib\\site-packages (from requests>=2.26.0->tiktoken) (1.26.15)\n",
            "Requirement already satisfied: certifi>=2017.4.17 in c:\\users\\juantello\\anaconda3\\envs\\langchain\\lib\\site-packages (from requests>=2.26.0->tiktoken) (2022.12.7)\n",
            "Installing collected packages: tiktoken\n",
            "Successfully installed tiktoken-0.3.3\n"
          ]
        }
      ],
      "source": [
        "%pip install tiktoken"
      ]
    },
    {
      "cell_type": "code",
      "execution_count": 2,
      "metadata": {
        "colab": {
          "base_uri": "https://localhost:8080/"
        },
        "id": "To2eYuIN5F60",
        "outputId": "ed03cc22-dd3e-4ad2-ed07-7dac42ec97fe"
      },
      "outputs": [
        {
          "name": "stdout",
          "output_type": "stream",
          "text": [
            "Requirement already satisfied: unstructured in c:\\users\\juantello\\anaconda3\\envs\\langchain\\lib\\site-packages (0.5.7)\n",
            "Requirement already satisfied: openai in c:\\users\\juantello\\anaconda3\\envs\\langchain\\lib\\site-packages (0.27.2)\n",
            "Requirement already satisfied: langchain in c:\\users\\juantello\\anaconda3\\envs\\langchain\\lib\\site-packages (0.0.124)\n",
            "Collecting pinecone-client\n",
            "  Using cached pinecone_client-2.2.1-py3-none-any.whl (177 kB)\n",
            "Requirement already satisfied: argilla in c:\\users\\juantello\\anaconda3\\envs\\langchain\\lib\\site-packages (from unstructured) (1.5.0)\n",
            "Requirement already satisfied: lxml in c:\\users\\juantello\\anaconda3\\envs\\langchain\\lib\\site-packages (from unstructured) (4.9.2)\n",
            "Requirement already satisfied: nltk in c:\\users\\juantello\\anaconda3\\envs\\langchain\\lib\\site-packages (from unstructured) (3.8.1)\n",
            "Requirement already satisfied: openpyxl in c:\\users\\juantello\\anaconda3\\envs\\langchain\\lib\\site-packages (from unstructured) (3.1.2)\n",
            "Requirement already satisfied: pandas in c:\\users\\juantello\\anaconda3\\envs\\langchain\\lib\\site-packages (from unstructured) (1.5.3)\n",
            "Requirement already satisfied: pillow in c:\\users\\juantello\\anaconda3\\envs\\langchain\\lib\\site-packages (from unstructured) (9.4.0)\n",
            "Requirement already satisfied: pypandoc in c:\\users\\juantello\\anaconda3\\envs\\langchain\\lib\\site-packages (from unstructured) (1.11)\n",
            "Requirement already satisfied: python-docx in c:\\users\\juantello\\anaconda3\\envs\\langchain\\lib\\site-packages (from unstructured) (0.8.11)\n",
            "Requirement already satisfied: python-pptx in c:\\users\\juantello\\anaconda3\\envs\\langchain\\lib\\site-packages (from unstructured) (0.6.21)\n",
            "Requirement already satisfied: python-magic in c:\\users\\juantello\\anaconda3\\envs\\langchain\\lib\\site-packages (from unstructured) (0.4.27)\n",
            "Requirement already satisfied: markdown in c:\\users\\juantello\\anaconda3\\envs\\langchain\\lib\\site-packages (from unstructured) (3.4.3)\n",
            "Requirement already satisfied: requests in c:\\users\\juantello\\anaconda3\\envs\\langchain\\lib\\site-packages (from unstructured) (2.28.2)\n",
            "Requirement already satisfied: certifi>=2022.12.07 in c:\\users\\juantello\\anaconda3\\envs\\langchain\\lib\\site-packages (from unstructured) (2022.12.7)\n",
            "Requirement already satisfied: tqdm in c:\\users\\juantello\\anaconda3\\envs\\langchain\\lib\\site-packages (from openai) (4.65.0)\n",
            "Requirement already satisfied: aiohttp in c:\\users\\juantello\\anaconda3\\envs\\langchain\\lib\\site-packages (from openai) (3.8.4)\n",
            "Requirement already satisfied: PyYAML>=5.4.1 in c:\\users\\juantello\\anaconda3\\envs\\langchain\\lib\\site-packages (from langchain) (6.0)\n",
            "Requirement already satisfied: SQLAlchemy<2,>=1 in c:\\users\\juantello\\anaconda3\\envs\\langchain\\lib\\site-packages (from langchain) (1.4.47)\n",
            "Requirement already satisfied: dataclasses-json<0.6.0,>=0.5.7 in c:\\users\\juantello\\anaconda3\\envs\\langchain\\lib\\site-packages (from langchain) (0.5.7)\n",
            "Requirement already satisfied: numpy<2,>=1 in c:\\users\\juantello\\anaconda3\\envs\\langchain\\lib\\site-packages (from langchain) (1.23.5)\n",
            "Requirement already satisfied: pydantic<2,>=1 in c:\\users\\juantello\\anaconda3\\envs\\langchain\\lib\\site-packages (from langchain) (1.10.7)\n",
            "Requirement already satisfied: tenacity<9.0.0,>=8.1.0 in c:\\users\\juantello\\anaconda3\\envs\\langchain\\lib\\site-packages (from langchain) (8.2.2)\n",
            "Collecting unstructured-inference~=0.2.4\n",
            "  Downloading unstructured_inference-0.2.11.tar.gz (17 kB)\n",
            "  Preparing metadata (setup.py): started\n",
            "  Preparing metadata (setup.py): finished with status 'done'\n",
            "Collecting loguru>=0.5.0\n",
            "  Downloading loguru-0.7.0-py3-none-any.whl (59 kB)\n",
            "     ---------------------------------------- 0.0/60.0 kB ? eta -:--:--\n",
            "     ---------------------------------------- 0.0/60.0 kB ? eta -:--:--\n",
            "     ------ --------------------------------- 10.2/60.0 kB ? eta -:--:--\n",
            "     ------------------- ------------------ 30.7/60.0 kB 435.7 kB/s eta 0:00:01\n",
            "     -------------------------------------- 60.0/60.0 kB 456.1 kB/s eta 0:00:00\n",
            "Requirement already satisfied: typing-extensions>=3.7.4 in c:\\users\\juantello\\anaconda3\\envs\\langchain\\lib\\site-packages (from pinecone-client) (4.5.0)\n",
            "Collecting dnspython>=2.0.0\n",
            "  Using cached dnspython-2.3.0-py3-none-any.whl (283 kB)\n",
            "Requirement already satisfied: python-dateutil>=2.5.3 in c:\\users\\juantello\\anaconda3\\envs\\langchain\\lib\\site-packages (from pinecone-client) (2.8.2)\n",
            "Requirement already satisfied: urllib3>=1.21.1 in c:\\users\\juantello\\anaconda3\\envs\\langchain\\lib\\site-packages (from pinecone-client) (1.26.15)\n",
            "Requirement already satisfied: attrs>=17.3.0 in c:\\users\\juantello\\anaconda3\\envs\\langchain\\lib\\site-packages (from aiohttp->openai) (22.2.0)\n",
            "Requirement already satisfied: charset-normalizer<4.0,>=2.0 in c:\\users\\juantello\\anaconda3\\envs\\langchain\\lib\\site-packages (from aiohttp->openai) (3.1.0)\n",
            "Requirement already satisfied: multidict<7.0,>=4.5 in c:\\users\\juantello\\anaconda3\\envs\\langchain\\lib\\site-packages (from aiohttp->openai) (6.0.4)\n",
            "Requirement already satisfied: async-timeout<5.0,>=4.0.0a3 in c:\\users\\juantello\\anaconda3\\envs\\langchain\\lib\\site-packages (from aiohttp->openai) (4.0.2)\n",
            "Requirement already satisfied: yarl<2.0,>=1.0 in c:\\users\\juantello\\anaconda3\\envs\\langchain\\lib\\site-packages (from aiohttp->openai) (1.8.2)\n",
            "Requirement already satisfied: frozenlist>=1.1.1 in c:\\users\\juantello\\anaconda3\\envs\\langchain\\lib\\site-packages (from aiohttp->openai) (1.3.3)\n",
            "Requirement already satisfied: aiosignal>=1.1.2 in c:\\users\\juantello\\anaconda3\\envs\\langchain\\lib\\site-packages (from aiohttp->openai) (1.3.1)\n",
            "Requirement already satisfied: marshmallow<4.0.0,>=3.3.0 in c:\\users\\juantello\\anaconda3\\envs\\langchain\\lib\\site-packages (from dataclasses-json<0.6.0,>=0.5.7->langchain) (3.19.0)\n",
            "Requirement already satisfied: marshmallow-enum<2.0.0,>=1.5.1 in c:\\users\\juantello\\anaconda3\\envs\\langchain\\lib\\site-packages (from dataclasses-json<0.6.0,>=0.5.7->langchain) (1.5.1)\n",
            "Requirement already satisfied: typing-inspect>=0.4.0 in c:\\users\\juantello\\anaconda3\\envs\\langchain\\lib\\site-packages (from dataclasses-json<0.6.0,>=0.5.7->langchain) (0.8.0)\n",
            "Requirement already satisfied: colorama>=0.3.4 in c:\\users\\juantello\\anaconda3\\envs\\langchain\\lib\\site-packages (from loguru>=0.5.0->pinecone-client) (0.4.6)\n",
            "Collecting win32-setctime>=1.0.0\n",
            "  Using cached win32_setctime-1.1.0-py3-none-any.whl (3.6 kB)\n",
            "Requirement already satisfied: six>=1.5 in c:\\users\\juantello\\anaconda3\\envs\\langchain\\lib\\site-packages (from python-dateutil>=2.5.3->pinecone-client) (1.16.0)\n",
            "Requirement already satisfied: idna<4,>=2.5 in c:\\users\\juantello\\anaconda3\\envs\\langchain\\lib\\site-packages (from requests->unstructured) (3.4)\n",
            "Requirement already satisfied: greenlet!=0.4.17 in c:\\users\\juantello\\anaconda3\\envs\\langchain\\lib\\site-packages (from SQLAlchemy<2,>=1->langchain) (2.0.2)\n",
            "Requirement already satisfied: fastapi in c:\\users\\juantello\\anaconda3\\envs\\langchain\\lib\\site-packages (from unstructured-inference~=0.2.4->unstructured) (0.95.0)\n",
            "Collecting layoutparser[layoutmodels,tesseract]\n",
            "  Using cached layoutparser-0.3.4-py3-none-any.whl (19.2 MB)\n",
            "Collecting python-multipart\n",
            "  Using cached python_multipart-0.0.6-py3-none-any.whl (45 kB)\n",
            "Requirement already satisfied: uvicorn in c:\\users\\juantello\\anaconda3\\envs\\langchain\\lib\\site-packages (from unstructured-inference~=0.2.4->unstructured) (0.21.1)\n",
            "Requirement already satisfied: huggingface-hub in c:\\users\\juantello\\anaconda3\\envs\\langchain\\lib\\site-packages (from unstructured-inference~=0.2.4->unstructured) (0.13.3)\n",
            "Collecting opencv-python==4.6.0.66\n",
            "  Using cached opencv_python-4.6.0.66-cp36-abi3-win_amd64.whl (35.6 MB)\n",
            "Collecting unstructured-inference~=0.2.4\n",
            "  Downloading unstructured_inference-0.2.10.tar.gz (17 kB)\n",
            "  Preparing metadata (setup.py): started\n",
            "  Preparing metadata (setup.py): finished with status 'done'\n",
            "  Downloading unstructured_inference-0.2.7.tar.gz (18 kB)\n",
            "  Preparing metadata (setup.py): started\n",
            "  Preparing metadata (setup.py): finished with status 'done'\n",
            "  Downloading unstructured_inference-0.2.5.tar.gz (17 kB)\n",
            "  Preparing metadata (setup.py): started\n",
            "  Preparing metadata (setup.py): finished with status 'done'\n",
            "  Downloading unstructured_inference-0.2.4.tar.gz (10 kB)\n",
            "  Preparing metadata (setup.py): started\n",
            "  Preparing metadata (setup.py): finished with status 'done'\n",
            "Requirement already satisfied: httpx<0.24,>=0.15 in c:\\users\\juantello\\anaconda3\\envs\\langchain\\lib\\site-packages (from argilla->unstructured) (0.23.3)\n",
            "Requirement already satisfied: deprecated~=1.2.0 in c:\\users\\juantello\\anaconda3\\envs\\langchain\\lib\\site-packages (from argilla->unstructured) (1.2.13)\n",
            "Requirement already satisfied: packaging>=20.0 in c:\\users\\juantello\\anaconda3\\envs\\langchain\\lib\\site-packages (from argilla->unstructured) (23.0)\n",
            "Requirement already satisfied: wrapt<1.15,>=1.13 in c:\\users\\juantello\\anaconda3\\envs\\langchain\\lib\\site-packages (from argilla->unstructured) (1.14.1)\n",
            "Requirement already satisfied: backoff in c:\\users\\juantello\\anaconda3\\envs\\langchain\\lib\\site-packages (from argilla->unstructured) (2.2.1)\n",
            "Requirement already satisfied: monotonic in c:\\users\\juantello\\anaconda3\\envs\\langchain\\lib\\site-packages (from argilla->unstructured) (1.6)\n",
            "Requirement already satisfied: rich<=13.0.1 in c:\\users\\juantello\\anaconda3\\envs\\langchain\\lib\\site-packages (from argilla->unstructured) (13.0.1)\n",
            "Requirement already satisfied: pytz>=2020.1 in c:\\users\\juantello\\anaconda3\\envs\\langchain\\lib\\site-packages (from pandas->unstructured) (2023.2)\n",
            "Requirement already satisfied: click in c:\\users\\juantello\\anaconda3\\envs\\langchain\\lib\\site-packages (from nltk->unstructured) (8.1.3)\n",
            "Requirement already satisfied: joblib in c:\\users\\juantello\\anaconda3\\envs\\langchain\\lib\\site-packages (from nltk->unstructured) (1.2.0)\n",
            "Requirement already satisfied: regex>=2021.8.3 in c:\\users\\juantello\\anaconda3\\envs\\langchain\\lib\\site-packages (from nltk->unstructured) (2023.3.23)\n",
            "Requirement already satisfied: et-xmlfile in c:\\users\\juantello\\anaconda3\\envs\\langchain\\lib\\site-packages (from openpyxl->unstructured) (1.1.0)\n",
            "Requirement already satisfied: XlsxWriter>=0.5.7 in c:\\users\\juantello\\anaconda3\\envs\\langchain\\lib\\site-packages (from python-pptx->unstructured) (3.0.9)\n",
            "Requirement already satisfied: httpcore<0.17.0,>=0.15.0 in c:\\users\\juantello\\anaconda3\\envs\\langchain\\lib\\site-packages (from httpx<0.24,>=0.15->argilla->unstructured) (0.16.3)\n",
            "Requirement already satisfied: rfc3986[idna2008]<2,>=1.3 in c:\\users\\juantello\\anaconda3\\envs\\langchain\\lib\\site-packages (from httpx<0.24,>=0.15->argilla->unstructured) (1.5.0)\n",
            "Requirement already satisfied: sniffio in c:\\users\\juantello\\anaconda3\\envs\\langchain\\lib\\site-packages (from httpx<0.24,>=0.15->argilla->unstructured) (1.3.0)\n",
            "Requirement already satisfied: commonmark<0.10.0,>=0.9.0 in c:\\users\\juantello\\anaconda3\\envs\\langchain\\lib\\site-packages (from rich<=13.0.1->argilla->unstructured) (0.9.1)\n",
            "Requirement already satisfied: pygments<3.0.0,>=2.6.0 in c:\\users\\juantello\\anaconda3\\envs\\langchain\\lib\\site-packages (from rich<=13.0.1->argilla->unstructured) (2.14.0)\n",
            "Requirement already satisfied: mypy-extensions>=0.3.0 in c:\\users\\juantello\\anaconda3\\envs\\langchain\\lib\\site-packages (from typing-inspect>=0.4.0->dataclasses-json<0.6.0,>=0.5.7->langchain) (1.0.0)\n",
            "Requirement already satisfied: starlette<0.27.0,>=0.26.1 in c:\\users\\juantello\\anaconda3\\envs\\langchain\\lib\\site-packages (from fastapi->unstructured-inference~=0.2.4->unstructured) (0.26.1)\n",
            "Requirement already satisfied: filelock in c:\\users\\juantello\\anaconda3\\envs\\langchain\\lib\\site-packages (from huggingface-hub->unstructured-inference~=0.2.4->unstructured) (3.10.7)\n",
            "Requirement already satisfied: scipy in c:\\users\\juantello\\anaconda3\\envs\\langchain\\lib\\site-packages (from layoutparser[layoutmodels,tesseract]->unstructured-inference~=0.2.4->unstructured) (1.10.1)\n",
            "Collecting iopath\n",
            "  Using cached iopath-0.1.10.tar.gz (42 kB)\n",
            "  Preparing metadata (setup.py): started\n",
            "  Preparing metadata (setup.py): finished with status 'done'\n",
            "Collecting pdfplumber\n",
            "  Downloading pdfplumber-0.8.1-py3-none-any.whl (43 kB)\n",
            "     ---------------------------------------- 0.0/43.9 kB ? eta -:--:--\n",
            "     ---------------------------------------- 43.9/43.9 kB ? eta 0:00:00\n",
            "Collecting pdf2image\n",
            "  Using cached pdf2image-1.16.3-py3-none-any.whl (11 kB)\n",
            "Requirement already satisfied: torch in c:\\users\\juantello\\anaconda3\\envs\\langchain\\lib\\site-packages (from layoutparser[layoutmodels,tesseract]->unstructured-inference~=0.2.4->unstructured) (2.0.0)\n",
            "Requirement already satisfied: torchvision in c:\\users\\juantello\\anaconda3\\envs\\langchain\\lib\\site-packages (from layoutparser[layoutmodels,tesseract]->unstructured-inference~=0.2.4->unstructured) (0.15.1)\n",
            "Collecting effdet\n",
            "  Using cached effdet-0.3.0-py3-none-any.whl (112 kB)\n",
            "Collecting pytesseract\n",
            "  Using cached pytesseract-0.3.10-py3-none-any.whl (14 kB)\n",
            "Requirement already satisfied: h11>=0.8 in c:\\users\\juantello\\anaconda3\\envs\\langchain\\lib\\site-packages (from uvicorn->unstructured-inference~=0.2.4->unstructured) (0.14.0)\n",
            "Requirement already satisfied: anyio<5.0,>=3.0 in c:\\users\\juantello\\anaconda3\\envs\\langchain\\lib\\site-packages (from httpcore<0.17.0,>=0.15.0->httpx<0.24,>=0.15->argilla->unstructured) (3.6.2)\n",
            "Collecting timm>=0.4.12\n",
            "  Using cached timm-0.6.13-py3-none-any.whl (549 kB)\n",
            "Collecting pycocotools>=2.0.2\n",
            "  Using cached pycocotools-2.0.6.tar.gz (24 kB)\n",
            "  Installing build dependencies: started\n",
            "  Installing build dependencies: finished with status 'done'\n",
            "  Getting requirements to build wheel: started\n",
            "  Getting requirements to build wheel: finished with status 'done'\n",
            "  Preparing metadata (pyproject.toml): started\n",
            "  Preparing metadata (pyproject.toml): finished with status 'done'\n",
            "Collecting omegaconf>=2.0\n",
            "  Using cached omegaconf-2.3.0-py3-none-any.whl (79 kB)\n",
            "Requirement already satisfied: sympy in c:\\users\\juantello\\anaconda3\\envs\\langchain\\lib\\site-packages (from torch->layoutparser[layoutmodels,tesseract]->unstructured-inference~=0.2.4->unstructured) (1.11.1)\n",
            "Requirement already satisfied: networkx in c:\\users\\juantello\\anaconda3\\envs\\langchain\\lib\\site-packages (from torch->layoutparser[layoutmodels,tesseract]->unstructured-inference~=0.2.4->unstructured) (3.0)\n",
            "Requirement already satisfied: jinja2 in c:\\users\\juantello\\anaconda3\\envs\\langchain\\lib\\site-packages (from torch->layoutparser[layoutmodels,tesseract]->unstructured-inference~=0.2.4->unstructured) (3.1.2)\n",
            "Collecting portalocker\n",
            "  Using cached portalocker-2.7.0-py2.py3-none-any.whl (15 kB)\n",
            "Collecting pdfminer.six==20221105\n",
            "  Using cached pdfminer.six-20221105-py3-none-any.whl (5.6 MB)\n",
            "Collecting Wand>=0.6.10\n",
            "  Using cached Wand-0.6.11-py2.py3-none-any.whl (143 kB)\n",
            "Collecting cryptography>=36.0.0\n",
            "  Downloading cryptography-40.0.1-cp36-abi3-win_amd64.whl (2.6 MB)\n",
            "     ---------------------------------------- 0.0/2.6 MB ? eta -:--:--\n",
            "     ---------------------------------------  2.6/2.6 MB 55.3 MB/s eta 0:00:01\n",
            "     ---------------------------------------- 2.6/2.6 MB 41.3 MB/s eta 0:00:00\n",
            "Collecting antlr4-python3-runtime==4.9.*\n",
            "  Using cached antlr4-python3-runtime-4.9.3.tar.gz (117 kB)\n",
            "  Preparing metadata (setup.py): started\n",
            "  Preparing metadata (setup.py): finished with status 'done'\n",
            "Collecting matplotlib>=2.1.0\n",
            "  Downloading matplotlib-3.7.1-cp311-cp311-win_amd64.whl (7.6 MB)\n",
            "     ---------------------------------------- 0.0/7.6 MB ? eta -:--:--\n",
            "     --------------------------- ------------ 5.3/7.6 MB 112.6 MB/s eta 0:00:01\n",
            "     ---------------------------------------  7.6/7.6 MB 97.5 MB/s eta 0:00:01\n",
            "     ---------------------------------------- 7.6/7.6 MB 54.0 MB/s eta 0:00:00\n",
            "Requirement already satisfied: MarkupSafe>=2.0 in c:\\users\\juantello\\anaconda3\\envs\\langchain\\lib\\site-packages (from jinja2->torch->layoutparser[layoutmodels,tesseract]->unstructured-inference~=0.2.4->unstructured) (2.1.2)\n",
            "Requirement already satisfied: pywin32>=226 in c:\\users\\juantello\\anaconda3\\envs\\langchain\\lib\\site-packages (from portalocker->iopath->layoutparser[layoutmodels,tesseract]->unstructured-inference~=0.2.4->unstructured) (304)\n",
            "Requirement already satisfied: mpmath>=0.19 in c:\\users\\juantello\\anaconda3\\envs\\langchain\\lib\\site-packages (from sympy->torch->layoutparser[layoutmodels,tesseract]->unstructured-inference~=0.2.4->unstructured) (1.3.0)\n",
            "Collecting cffi>=1.12\n",
            "  Downloading cffi-1.15.1-cp311-cp311-win_amd64.whl (179 kB)\n",
            "     ---------------------------------------- 0.0/179.0 kB ? eta -:--:--\n",
            "     ------------------------------------- 179.0/179.0 kB 11.3 MB/s eta 0:00:00\n",
            "Collecting contourpy>=1.0.1\n",
            "  Downloading contourpy-1.0.7-cp311-cp311-win_amd64.whl (162 kB)\n",
            "     ---------------------------------------- 0.0/163.0 kB ? eta -:--:--\n",
            "     ---------------------------------------- 163.0/163.0 kB ? eta 0:00:00\n",
            "Collecting cycler>=0.10\n",
            "  Using cached cycler-0.11.0-py3-none-any.whl (6.4 kB)\n",
            "Collecting fonttools>=4.22.0\n",
            "  Downloading fonttools-4.39.3-py3-none-any.whl (1.0 MB)\n",
            "     ---------------------------------------- 0.0/1.0 MB ? eta -:--:--\n",
            "     ---------------------------------------- 1.0/1.0 MB 62.4 MB/s eta 0:00:00\n",
            "Collecting kiwisolver>=1.0.1\n",
            "  Downloading kiwisolver-1.4.4-cp311-cp311-win_amd64.whl (55 kB)\n",
            "     ---------------------------------------- 0.0/55.4 kB ? eta -:--:--\n",
            "     ---------------------------------------- 55.4/55.4 kB 2.8 MB/s eta 0:00:00\n",
            "Collecting pyparsing>=2.3.1\n",
            "  Using cached pyparsing-3.0.9-py3-none-any.whl (98 kB)\n",
            "Collecting pycparser\n",
            "  Using cached pycparser-2.21-py2.py3-none-any.whl (118 kB)\n",
            "Building wheels for collected packages: unstructured-inference, iopath, antlr4-python3-runtime, pycocotools\n",
            "  Building wheel for unstructured-inference (setup.py): started\n",
            "  Building wheel for unstructured-inference (setup.py): finished with status 'done'\n",
            "  Created wheel for unstructured-inference: filename=unstructured_inference-0.2.4-py3-none-any.whl size=10121 sha256=55c6d96b8de104b887189bc1ab6e824e88ad6da7646a8c171fd1a1722c65f855\n",
            "  Stored in directory: c:\\users\\juantello\\appdata\\local\\pip\\cache\\wheels\\5e\\ce\\36\\a51abd7689408303bcb9022d431357234422f446acde4ab50a\n",
            "  Building wheel for iopath (setup.py): started\n",
            "  Building wheel for iopath (setup.py): finished with status 'done'\n",
            "  Created wheel for iopath: filename=iopath-0.1.10-py3-none-any.whl size=31540 sha256=52ef9e57e9474ce653f3994a9774495b9bc2258a228d46ed276738976d16544c\n",
            "  Stored in directory: c:\\users\\juantello\\appdata\\local\\pip\\cache\\wheels\\ba\\5e\\16\\6117f8fe7e9c0c161a795e10d94645ebcf301ccbd01f66d8ec\n",
            "  Building wheel for antlr4-python3-runtime (setup.py): started\n",
            "  Building wheel for antlr4-python3-runtime (setup.py): finished with status 'done'\n",
            "  Created wheel for antlr4-python3-runtime: filename=antlr4_python3_runtime-4.9.3-py3-none-any.whl size=144578 sha256=f2000640e303f03440804869dc4ec00da18d658bd396051eee8031ab0c1a22d3\n",
            "  Stored in directory: c:\\users\\juantello\\appdata\\local\\pip\\cache\\wheels\\1a\\97\\32\\461f837398029ad76911109f07047fde1d7b661a147c7c56d1\n",
            "  Building wheel for pycocotools (pyproject.toml): started\n",
            "  Building wheel for pycocotools (pyproject.toml): finished with status 'done'\n",
            "  Created wheel for pycocotools: filename=pycocotools-2.0.6-cp311-cp311-win_amd64.whl size=75945 sha256=9bf119cb1b0c232d5375911a5511777c5db171ecb9246003bf0642ff95c32d10\n",
            "  Stored in directory: c:\\users\\juantello\\appdata\\local\\pip\\cache\\wheels\\ad\\ca\\ea\\fb115e04c841c3f71fd369b7d9805a43a5193f4f9251bed0ec\n",
            "Successfully built unstructured-inference iopath antlr4-python3-runtime pycocotools\n",
            "Installing collected packages: Wand, antlr4-python3-runtime, win32-setctime, python-multipart, pytesseract, pyparsing, pycparser, portalocker, pdf2image, opencv-python, omegaconf, kiwisolver, fonttools, dnspython, cycler, contourpy, matplotlib, loguru, iopath, cffi, pycocotools, pinecone-client, cryptography, timm, pdfminer.six, pdfplumber, effdet, layoutparser, unstructured-inference\n",
            "Successfully installed Wand-0.6.11 antlr4-python3-runtime-4.9.3 cffi-1.15.1 contourpy-1.0.7 cryptography-40.0.1 cycler-0.11.0 dnspython-2.3.0 effdet-0.3.0 fonttools-4.39.3 iopath-0.1.10 kiwisolver-1.4.4 layoutparser-0.3.4 loguru-0.7.0 matplotlib-3.7.1 omegaconf-2.3.0 opencv-python-4.6.0.66 pdf2image-1.16.3 pdfminer.six-20221105 pdfplumber-0.8.1 pinecone-client-2.2.1 portalocker-2.7.0 pycocotools-2.0.6 pycparser-2.21 pyparsing-3.0.9 pytesseract-0.3.10 python-multipart-0.0.6 timm-0.6.13 unstructured-inference-0.2.4 win32-setctime-1.1.0\n",
            "Note: you may need to restart the kernel to use updated packages.\n"
          ]
        }
      ],
      "source": [
        "%pip install unstructured openai langchain unstructured[local-inference] pinecone-client"
      ]
    },
    {
      "cell_type": "markdown",
      "metadata": {
        "id": "ahk__RjeZZCl"
      },
      "source": [
        "## Imports"
      ]
    },
    {
      "cell_type": "code",
      "execution_count": 3,
      "metadata": {
        "id": "NU-WwbmU5IEk"
      },
      "outputs": [
        {
          "name": "stderr",
          "output_type": "stream",
          "text": [
            "c:\\Users\\juantello\\Anaconda3\\envs\\langchain\\Lib\\site-packages\\pinecone\\index.py:4: TqdmWarning: IProgress not found. Please update jupyter and ipywidgets. See https://ipywidgets.readthedocs.io/en/stable/user_install.html\n",
            "  from tqdm.autonotebook import tqdm\n"
          ]
        }
      ],
      "source": [
        "from langchain.document_loaders import UnstructuredPDFLoader, OnlinePDFLoader\n",
        "from langchain.text_splitter import RecursiveCharacterTextSplitter\n",
        "import os\n",
        "from langchain.text_splitter import RecursiveCharacterTextSplitter\n",
        "from langchain.prompts.chat import (ChatPromptTemplate, SystemMessagePromptTemplate, AIMessagePromptTemplate, HumanMessagePromptTemplate,)\n",
        "from langchain import PromptTemplate, LLMChain\n",
        "from langchain.chat_models import ChatOpenAI\n",
        "from langchain.vectorstores import Chroma, Pinecone\n",
        "from langchain.embeddings.openai import OpenAIEmbeddings\n",
        "import pinecone\n",
        "from langchain.document_loaders import DirectoryLoader\n",
        "import glob\n",
        "from langchain.chat_models import ChatOpenAI\n",
        "from langchain.chains.question_answering import load_qa_chain"
      ]
    },
    {
      "cell_type": "code",
      "execution_count": 5,
      "metadata": {
        "id": "0lWc88q8WWlh"
      },
      "outputs": [],
      "source": [
        "os.environ['PINECONE_API_KEY'] = \"42e3e74e-a552-42c9-ad4b-f6413a6697a8\"\n",
        "os.environ['PINECONE_API_ENV'] = \"us-west4-gcp\"\n",
        "PINECONE_API_KEY = os.environ['PINECONE_API_KEY']\n",
        "PINECONE_API_ENV = os.environ['PINECONE_API_ENV']\n",
        "OPENAI_API_KEY = os.environ[\"OPENAI_API_KEY\"]\n"
      ]
    },
    {
      "cell_type": "markdown",
      "metadata": {
        "id": "xH3AIs83ZbTW"
      },
      "source": [
        "## List files in directory"
      ]
    },
    {
      "cell_type": "code",
      "execution_count": 6,
      "metadata": {
        "id": "efOOjTHxQLwb"
      },
      "outputs": [],
      "source": [
        "folder_path = \"ICOLD - CFRD New Bulletin 2023/\"\n",
        "files = glob.glob(folder_path + \"**/*.pdf\")"
      ]
    },
    {
      "cell_type": "code",
      "execution_count": 7,
      "metadata": {
        "colab": {
          "base_uri": "https://localhost:8080/"
        },
        "id": "fuRKadfxQV7n",
        "outputId": "3529fae3-0eff-435a-bc0e-1f7121385710"
      },
      "outputs": [
        {
          "data": {
            "text/plain": [
              "['ICOLD - CFRD New Bulletin 2023\\\\Dam Response\\\\(ASCE)1090-0241(2006)132_6(778).pdf',\n",
              " 'ICOLD - CFRD New Bulletin 2023\\\\Dam Response\\\\(ASCE)GT.1943-5606.0000021.pdf',\n",
              " 'ICOLD - CFRD New Bulletin 2023\\\\Dam Response\\\\(ASCE)GT.1943-5606.0001501.pdf',\n",
              " 'ICOLD - CFRD New Bulletin 2023\\\\Dam Response\\\\feng.2011.164.1.33.pdf',\n",
              " 'ICOLD - CFRD New Bulletin 2023\\\\Dam Response\\\\jdare.17.00011.pdf',\n",
              " 'ICOLD - CFRD New Bulletin 2023\\\\Dam Response\\\\jgeen.17.00142.pdf',\n",
              " 'ICOLD - CFRD New Bulletin 2023\\\\Dam Response\\\\jgeot.17.p.095.pdf',\n",
              " 'ICOLD - CFRD New Bulletin 2023\\\\Dam Response\\\\Monitoring System.pdf',\n",
              " 'ICOLD - CFRD New Bulletin 2023\\\\Dam Response\\\\sdar.64119.381.pdf',\n",
              " 'ICOLD - CFRD New Bulletin 2023\\\\Dynamic Response\\\\(ASCE)0733-9410(1995)121_2(185).pdf',\n",
              " 'ICOLD - CFRD New Bulletin 2023\\\\Dynamic Response\\\\(ASCE)1090-0241(2004)130_1(103).pdf',\n",
              " 'ICOLD - CFRD New Bulletin 2023\\\\Dynamic Response\\\\1-s2.0-S0141029619335564-main.pdf',\n",
              " 'ICOLD - CFRD New Bulletin 2023\\\\Dynamic Response\\\\1-s2.0-S0267726115000755-main.pdf',\n",
              " 'ICOLD - CFRD New Bulletin 2023\\\\Dynamic Response\\\\1-s2.0-S026772611730057X-main.pdf',\n",
              " 'ICOLD - CFRD New Bulletin 2023\\\\Dynamic Response\\\\1-s2.0-S0267726118306213-main.pdf',\n",
              " 'ICOLD - CFRD New Bulletin 2023\\\\Dynamic Response\\\\1-s2.0-S0267726118308844-main.pdf',\n",
              " 'ICOLD - CFRD New Bulletin 2023\\\\Dynamic Response\\\\Yao2019_Article_SeismicResponseOfHighConcreteF.pdf',\n",
              " 'ICOLD - CFRD New Bulletin 2023\\\\Geomemrane Face Concrete Dams (GFRD)\\\\TheAdventOfGeo.pdf',\n",
              " 'ICOLD - CFRD New Bulletin 2023\\\\Numerical Analysis\\\\(ASCE)0733-9410(1990)116_5(822).pdf',\n",
              " 'ICOLD - CFRD New Bulletin 2023\\\\Numerical Analysis\\\\(ASCE)1090-0241(2003)129_3(206).pdf',\n",
              " 'ICOLD - CFRD New Bulletin 2023\\\\Numerical Analysis\\\\(ASCE)GT.1943-5606.0000058.pdf',\n",
              " 'ICOLD - CFRD New Bulletin 2023\\\\Numerical Analysis\\\\06743276.pdf',\n",
              " 'ICOLD - CFRD New Bulletin 2023\\\\Numerical Analysis\\\\1-s2.0-S0038080616300130-main.pdf',\n",
              " 'ICOLD - CFRD New Bulletin 2023\\\\Numerical Analysis\\\\1-s2.0-S0266352X14002183-main.pdf',\n",
              " 'ICOLD - CFRD New Bulletin 2023\\\\Numerical Analysis\\\\1-s2.0-S0266352X16303263-main.pdf',\n",
              " 'ICOLD - CFRD New Bulletin 2023\\\\Numerical Analysis\\\\1-s2.0-S1674237019300808-main.pdf',\n",
              " 'ICOLD - CFRD New Bulletin 2023\\\\Numerical Analysis\\\\9742961.pdf',\n",
              " 'ICOLD - CFRD New Bulletin 2023\\\\Numerical Analysis\\\\9780784482100.012.pdf',\n",
              " 'ICOLD - CFRD New Bulletin 2023\\\\Numerical Analysis\\\\Fu2019_Article_AGeneralizedPlasticityModelFor.pdf',\n",
              " 'ICOLD - CFRD New Bulletin 2023\\\\Numerical Analysis\\\\geng.11.00027.pdf',\n",
              " 'ICOLD - CFRD New Bulletin 2023\\\\Numerical Analysis\\\\geng.2006.159.1.49.pdf',\n",
              " 'ICOLD - CFRD New Bulletin 2023\\\\Numerical Analysis\\\\geot2013.57753.0011.pdf',\n",
              " 'ICOLD - CFRD New Bulletin 2023\\\\Numerical Analysis\\\\jgeen.14.00103.pdf',\n",
              " 'ICOLD - CFRD New Bulletin 2023\\\\Numerical Analysis\\\\jgeen.19.00006.pdf',\n",
              " 'ICOLD - CFRD New Bulletin 2023\\\\Numerical Analysis\\\\jgeot.17.p.299.pdf',\n",
              " 'ICOLD - CFRD New Bulletin 2023\\\\Numerical Analysis\\\\Pang2019_Article_SeismicPerformanceAssessmentOf.pdf',\n",
              " 'ICOLD - CFRD New Bulletin 2023\\\\Numerical Analysis\\\\Seismic response analysis of face slabs in concrete face rockfill dams (1).pdf',\n",
              " 'ICOLD - CFRD New Bulletin 2023\\\\Numerical Analysis\\\\Seismic response analysis of face slabs in concrete face rockfill dams.pdf',\n",
              " 'ICOLD - CFRD New Bulletin 2023\\\\Numerical Analysis\\\\Zheng2019_Article_NumericalSimulationOfMechanica.pdf',\n",
              " 'ICOLD - CFRD New Bulletin 2023\\\\Rockfill Behavior\\\\(ASCE)0733-9410(1984)110_7(821).pdf',\n",
              " 'ICOLD - CFRD New Bulletin 2023\\\\Rockfill Behavior\\\\(ASCE)0733-9410(1987)113_1(46).pdf',\n",
              " 'ICOLD - CFRD New Bulletin 2023\\\\Rockfill Behavior\\\\(ASCE)1090-0241(2003)129_10(909).pdf',\n",
              " 'ICOLD - CFRD New Bulletin 2023\\\\Rockfill Behavior\\\\(ASCE)1090-0241(2003)129_4(307).pdf',\n",
              " 'ICOLD - CFRD New Bulletin 2023\\\\Rockfill Behavior\\\\(ASCE)1090-0241(2003)129_9(785).pdf',\n",
              " 'ICOLD - CFRD New Bulletin 2023\\\\Rockfill Behavior\\\\(ASCE)GM.1943-5622.0000977.pdf',\n",
              " 'ICOLD - CFRD New Bulletin 2023\\\\Rockfill Behavior\\\\(ASCE)GM.1943-5622.0001517.pdf',\n",
              " 'ICOLD - CFRD New Bulletin 2023\\\\Rockfill Behavior\\\\(ASCE)GT.1943-5606.0001176.pdf',\n",
              " 'ICOLD - CFRD New Bulletin 2023\\\\Rockfill Behavior\\\\(ASCE)GT.1943-5606.0001178.pdf',\n",
              " 'ICOLD - CFRD New Bulletin 2023\\\\Rockfill Behavior\\\\(ASCE)GT.1943-5606.0001835.pdf',\n",
              " 'ICOLD - CFRD New Bulletin 2023\\\\Rockfill Behavior\\\\(ASCE)GT.1943-5606.0001898.pdf',\n",
              " 'ICOLD - CFRD New Bulletin 2023\\\\Rockfill Behavior\\\\(ASCE)GT.1943-5606.0002216.pdf',\n",
              " 'ICOLD - CFRD New Bulletin 2023\\\\Rockfill Behavior\\\\An empirical method for predicting post-construction Rockfill.pdf',\n",
              " 'ICOLD - CFRD New Bulletin 2023\\\\Rockfill Behavior\\\\geot.2007.57.3.289.pdf',\n",
              " 'ICOLD - CFRD New Bulletin 2023\\\\Structural Analysis\\\\(ASCE)GM.1943-5622.0000478.pdf',\n",
              " 'ICOLD - CFRD New Bulletin 2023\\\\Structural Analysis\\\\(ASCE)GM.1943-5622.0000939.pdf',\n",
              " 'ICOLD - CFRD New Bulletin 2023\\\\Structural Analysis\\\\1-s2.0-S0267726119300284-main.pdf',\n",
              " 'ICOLD - CFRD New Bulletin 2023\\\\Structural Analysis\\\\1-s2.0-S0950061820301719-main.pdf',\n",
              " 'ICOLD - CFRD New Bulletin 2023\\\\Structural Analysis\\\\Behaviour of the reinforced concrete face slabs of concrete faced rockfill dams during impounding.pdf',\n",
              " 'ICOLD - CFRD New Bulletin 2023\\\\Structural Analysis\\\\jgeen.19.00006.pdf',\n",
              " 'ICOLD - CFRD New Bulletin 2023\\\\Structural Analysis\\\\jmacr.16.00367.pdf',\n",
              " 'ICOLD - CFRD New Bulletin 2023\\\\Structural Analysis\\\\Seismic response analysis of face slabs in concrete face rockfill dams (1).pdf']"
            ]
          },
          "execution_count": 7,
          "metadata": {},
          "output_type": "execute_result"
        }
      ],
      "source": [
        "files"
      ]
    },
    {
      "cell_type": "markdown",
      "metadata": {
        "id": "HUDvXKlnAnFZ"
      },
      "source": [
        "\n",
        "### Pick a File To Query"
      ]
    },
    {
      "cell_type": "code",
      "execution_count": 11,
      "metadata": {},
      "outputs": [],
      "source": [
        "def get_title(pdf_file):\n",
        "    # Split the document into sentences\n",
        "    # text_splitter = RecursiveCharacterTextSplitter(chunk_size=3000, chunk_overlap=100)\n",
        "    # llm = ChatOpenAI\n",
        "    loader = UnstructuredPDFLoader(pdf_file)\n",
        "    data = loader.load()\n",
        "    head = data[0].page_content[:400]\n",
        "    prompt = \"What is the title of the paper that begins with: \" + head + \"Respond only with the title.\"\n",
        "    template=\"You are a helpful assistant that guesses the title of a paper.\"\n",
        "    system_message_prompt = SystemMessagePromptTemplate.from_template(template)\n",
        "    human_template=\"{text}\"\n",
        "    human_message_prompt = HumanMessagePromptTemplate.from_template(human_template)\n",
        "    chat_prompt = ChatPromptTemplate.from_messages([system_message_prompt, human_message_prompt])\n",
        "    chain = LLMChain(llm=ChatOpenAI(temperature=0, max_tokens=800), prompt=chat_prompt)\n",
        "    return chain.run(prompt), data\n"
      ]
    },
    {
      "cell_type": "code",
      "execution_count": 12,
      "metadata": {},
      "outputs": [
        {
          "ename": "NameError",
          "evalue": "name 'data' is not defined",
          "output_type": "error",
          "traceback": [
            "\u001b[1;31m---------------------------------------------------------------------------\u001b[0m",
            "\u001b[1;31mNameError\u001b[0m                                 Traceback (most recent call last)",
            "Cell \u001b[1;32mIn[12], line 1\u001b[0m\n\u001b[1;32m----> 1\u001b[0m texts \u001b[39m=\u001b[39m RecursiveCharacterTextSplitter(data)\n",
            "\u001b[1;31mNameError\u001b[0m: name 'data' is not defined"
          ]
        }
      ],
      "source": [
        "texts = RecursiveCharacterTextSplitter(data)\n"
      ]
    },
    {
      "cell_type": "code",
      "execution_count": 14,
      "metadata": {},
      "outputs": [],
      "source": [
        "text_splitter = RecursiveCharacterTextSplitter(chunk_size=3000, chunk_overlap=0)\n"
      ]
    },
    {
      "cell_type": "code",
      "execution_count": 30,
      "metadata": {},
      "outputs": [],
      "source": [
        "df = pd.read_csv(\"summary.csv\")"
      ]
    },
    {
      "cell_type": "code",
      "execution_count": 31,
      "metadata": {},
      "outputs": [],
      "source": [
        "df.file_path = df.file_path.str.replace('/','\\\\')"
      ]
    },
    {
      "cell_type": "code",
      "execution_count": 32,
      "metadata": {},
      "outputs": [
        {
          "data": {
            "text/plain": [
              "'ICOLD - CFRD New Bulletin 2023\\\\Structural Analysis\\\\ICOLD - CFRD New Bulletin 2023\\\\Structural Analysis\\\\Behaviour of the reinforced concrete face slabs of concrete faced rockfill dams during impounding.pdf'"
            ]
          },
          "execution_count": 32,
          "metadata": {},
          "output_type": "execute_result"
        }
      ],
      "source": [
        "df.file_path.iloc[0]"
      ]
    },
    {
      "cell_type": "code",
      "execution_count": 38,
      "metadata": {},
      "outputs": [],
      "source": [
        "df = df.groupby(\"file_path\").first()"
      ]
    },
    {
      "cell_type": "code",
      "execution_count": 39,
      "metadata": {},
      "outputs": [],
      "source": [
        "df.to_csv(\"summary.csv\", index=False)"
      ]
    },
    {
      "cell_type": "code",
      "execution_count": 34,
      "metadata": {
        "colab": {
          "base_uri": "https://localhost:8080/"
        },
        "id": "xyvjNdNIRQG6",
        "outputId": "40925f17-b5ab-4a1c-f128-2c952fe4f321"
      },
      "outputs": [
        {
          "ename": "KeyboardInterrupt",
          "evalue": "",
          "output_type": "error",
          "traceback": [
            "\u001b[1;31m---------------------------------------------------------------------------\u001b[0m",
            "\u001b[1;31mKeyboardInterrupt\u001b[0m                         Traceback (most recent call last)",
            "Cell \u001b[1;32mIn[34], line 11\u001b[0m\n\u001b[0;32m      9\u001b[0m \u001b[39mfor\u001b[39;00m pdf_file \u001b[39min\u001b[39;00m files:\n\u001b[0;32m     10\u001b[0m     \u001b[39mif\u001b[39;00m \u001b[39mnot\u001b[39;00m pdf_file \u001b[39min\u001b[39;00m \u001b[39mlist\u001b[39m(df\u001b[39m.\u001b[39mfile_path):\n\u001b[1;32m---> 11\u001b[0m         loader \u001b[39m=\u001b[39m UnstructuredPDFLoader(pdf_file)\n\u001b[0;32m     12\u001b[0m         \u001b[39mprint\u001b[39m(\u001b[39mf\u001b[39m\u001b[39m\"\u001b[39m\u001b[39mLoading \u001b[39m\u001b[39m{\u001b[39;00mpdf_file\u001b[39m.\u001b[39msplit(os\u001b[39m.\u001b[39msep)[\u001b[39m-\u001b[39m\u001b[39m1\u001b[39m]\u001b[39m}\u001b[39;00m\u001b[39m\"\u001b[39m )\n\u001b[0;32m     13\u001b[0m         data \u001b[39m=\u001b[39m loader\u001b[39m.\u001b[39mload()\n",
            "Cell \u001b[1;32mIn[34], line 11\u001b[0m\n\u001b[0;32m      9\u001b[0m \u001b[39mfor\u001b[39;00m pdf_file \u001b[39min\u001b[39;00m files:\n\u001b[0;32m     10\u001b[0m     \u001b[39mif\u001b[39;00m \u001b[39mnot\u001b[39;00m pdf_file \u001b[39min\u001b[39;00m \u001b[39mlist\u001b[39m(df\u001b[39m.\u001b[39mfile_path):\n\u001b[1;32m---> 11\u001b[0m         loader \u001b[39m=\u001b[39m UnstructuredPDFLoader(pdf_file)\n\u001b[0;32m     12\u001b[0m         \u001b[39mprint\u001b[39m(\u001b[39mf\u001b[39m\u001b[39m\"\u001b[39m\u001b[39mLoading \u001b[39m\u001b[39m{\u001b[39;00mpdf_file\u001b[39m.\u001b[39msplit(os\u001b[39m.\u001b[39msep)[\u001b[39m-\u001b[39m\u001b[39m1\u001b[39m]\u001b[39m}\u001b[39;00m\u001b[39m\"\u001b[39m )\n\u001b[0;32m     13\u001b[0m         data \u001b[39m=\u001b[39m loader\u001b[39m.\u001b[39mload()\n",
            "File \u001b[1;32m_pydevd_bundle/pydevd_cython.pyx:1457\u001b[0m, in \u001b[0;36m_pydevd_bundle.pydevd_cython.SafeCallWrapper.__call__\u001b[1;34m()\u001b[0m\n",
            "File \u001b[1;32m_pydevd_bundle/pydevd_cython.pyx:701\u001b[0m, in \u001b[0;36m_pydevd_bundle.pydevd_cython.PyDBFrame.trace_dispatch\u001b[1;34m()\u001b[0m\n",
            "File \u001b[1;32m_pydevd_bundle/pydevd_cython.pyx:1395\u001b[0m, in \u001b[0;36m_pydevd_bundle.pydevd_cython.PyDBFrame.trace_dispatch\u001b[1;34m()\u001b[0m\n",
            "File \u001b[1;32m_pydevd_bundle/pydevd_cython.pyx:1344\u001b[0m, in \u001b[0;36m_pydevd_bundle.pydevd_cython.PyDBFrame.trace_dispatch\u001b[1;34m()\u001b[0m\n",
            "File \u001b[1;32m_pydevd_bundle/pydevd_cython.pyx:312\u001b[0m, in \u001b[0;36m_pydevd_bundle.pydevd_cython.PyDBFrame.do_wait_suspend\u001b[1;34m()\u001b[0m\n",
            "File \u001b[1;32mc:\\Users\\juantello\\Anaconda3\\envs\\langchain\\Lib\\site-packages\\debugpy\\_vendored\\pydevd\\pydevd.py:2070\u001b[0m, in \u001b[0;36mPyDB.do_wait_suspend\u001b[1;34m(self, thread, frame, event, arg, exception_type)\u001b[0m\n\u001b[0;32m   2067\u001b[0m             from_this_thread\u001b[39m.\u001b[39mappend(frame_custom_thread_id)\n\u001b[0;32m   2069\u001b[0m     \u001b[39mwith\u001b[39;00m \u001b[39mself\u001b[39m\u001b[39m.\u001b[39m_threads_suspended_single_notification\u001b[39m.\u001b[39mnotify_thread_suspended(thread_id, thread, stop_reason):\n\u001b[1;32m-> 2070\u001b[0m         keep_suspended \u001b[39m=\u001b[39m \u001b[39mself\u001b[39;49m\u001b[39m.\u001b[39;49m_do_wait_suspend(thread, frame, event, arg, suspend_type, from_this_thread, frames_tracker)\n\u001b[0;32m   2072\u001b[0m frames_list \u001b[39m=\u001b[39m \u001b[39mNone\u001b[39;00m\n\u001b[0;32m   2074\u001b[0m \u001b[39mif\u001b[39;00m keep_suspended:\n\u001b[0;32m   2075\u001b[0m     \u001b[39m# This means that we should pause again after a set next statement.\u001b[39;00m\n",
            "File \u001b[1;32mc:\\Users\\juantello\\Anaconda3\\envs\\langchain\\Lib\\site-packages\\debugpy\\_vendored\\pydevd\\pydevd.py:2106\u001b[0m, in \u001b[0;36mPyDB._do_wait_suspend\u001b[1;34m(self, thread, frame, event, arg, suspend_type, from_this_thread, frames_tracker)\u001b[0m\n\u001b[0;32m   2103\u001b[0m         \u001b[39mself\u001b[39m\u001b[39m.\u001b[39m_call_input_hook()\n\u001b[0;32m   2105\u001b[0m     \u001b[39mself\u001b[39m\u001b[39m.\u001b[39mprocess_internal_commands()\n\u001b[1;32m-> 2106\u001b[0m     time\u001b[39m.\u001b[39msleep(\u001b[39m0.01\u001b[39m)\n\u001b[0;32m   2108\u001b[0m \u001b[39mself\u001b[39m\u001b[39m.\u001b[39mcancel_async_evaluation(get_current_thread_id(thread), \u001b[39mstr\u001b[39m(\u001b[39mid\u001b[39m(frame)))\n\u001b[0;32m   2110\u001b[0m \u001b[39m# process any stepping instructions\u001b[39;00m\n",
            "\u001b[1;31mKeyboardInterrupt\u001b[0m: "
          ]
        }
      ],
      "source": [
        "import pandas as pd\n",
        "csv_file = 'summary.csv'\n",
        "\n",
        "# Check if the file exists\n",
        "if os.path.exists(csv_file): \n",
        "    # If it exists, load the data from the file into a Pandas dataframe\n",
        "    df = pd.read_csv(csv_file)\n",
        "import random\n",
        "for pdf_file in files:\n",
        "    if not pdf_file in list(df.file_path):\n",
        "        loader = UnstructuredPDFLoader(pdf_file)\n",
        "        print(f\"Loading {pdf_file.split(os.sep)[-1]}\" )\n",
        "        data = loader.load()\n",
        "        print (f'You have {len(data)} document(s) in your data')\n",
        "        print (f'There are {len(data[0].page_content)} characters in your document')\n",
        "\n",
        "        title, data = get_title(pdf_file)\n",
        "        # Split the text\n",
        "        texts = text_splitter.split_documents(data)        ## Summarize\n",
        "        folder = pdf_file.split(os.sep)[-2]\n",
        "        # Build the chain\n",
        "        llm = ChatOpenAI(temperature=0., max_tokens=400)\n",
        "        chain = load_qa_chain(llm, chain_type=\"map_reduce\", verbose=True)\n",
        "        summary = chain.run(input_documents=texts, question='summarize')\n",
        "        summary\n",
        "        # Define the data to append\n",
        "        new_data = {'file_path': pdf_file, 'title': title, 'summary': summary}\n",
        "\n",
        "        # Check if the file exists\n",
        "        if os.path.exists(csv_file): \n",
        "            # If it exists, load the data from the file into a Pandas dataframe\n",
        "            df = pd.read_csv(csv_file)\n",
        "            # Append the new data to the existing dataframe\n",
        "            df = df.append(new_data, ignore_index=True)\n",
        "        else:\n",
        "            # If it does not exist, create a new dataframe with the first summary\n",
        "            df = pd.DataFrame([new_data])\n",
        "\n",
        "    # Write the updated data to the file\n",
        "    df.to_csv(csv_file, index=False)\n",
        "    print(df.head)"
      ]
    },
    {
      "cell_type": "code",
      "execution_count": null,
      "metadata": {},
      "outputs": [],
      "source": []
    }
  ],
  "metadata": {
    "colab": {
      "collapsed_sections": [
        "ahk__RjeZZCl",
        "GbCJ_867_9mb"
      ],
      "provenance": [],
      "toc_visible": true
    },
    "kernelspec": {
      "display_name": "langchain",
      "language": "python",
      "name": "langchain"
    },
    "language_info": {
      "codemirror_mode": {
        "name": "ipython",
        "version": 3
      },
      "file_extension": ".py",
      "mimetype": "text/x-python",
      "name": "python",
      "nbconvert_exporter": "python",
      "pygments_lexer": "ipython3",
      "version": "3.11.0"
    }
  },
  "nbformat": 4,
  "nbformat_minor": 0
}
