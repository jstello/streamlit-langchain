{
 "cells": [
  {
   "attachments": {},
   "cell_type": "markdown",
   "id": "07c1e3b9",
   "metadata": {},
   "source": [
    "# Retrieval Question/Answering\n",
    "\n",
    "This notebook reads a folder with pdfs and creates a Pinecone Index from it."
   ]
  },
  {
   "cell_type": "code",
   "execution_count": 1,
   "id": "82525493",
   "metadata": {},
   "outputs": [],
   "source": [
    "from langchain.embeddings.openai import OpenAIEmbeddings\n",
    "from langchain.vectorstores import Chroma\n",
    "from langchain.text_splitter import CharacterTextSplitter\n",
    "from langchain.llms import OpenAI\n",
    "from langchain.chains import RetrievalQA\n",
    "from langchain.chat_models import ChatOpenAI\n"
   ]
  },
  {
   "attachments": {},
   "cell_type": "markdown",
   "id": "5159d2b0",
   "metadata": {},
   "source": [
    "## Load the documents"
   ]
  },
  {
   "cell_type": "code",
   "execution_count": 2,
   "id": "4c06c4ae",
   "metadata": {},
   "outputs": [],
   "source": [
    "folder = r\"G:\\.shortcut-targets-by-id\\1vE28d8xZuJXkpcinFbuku9FJgeaDd48K\\ICOLD - CFRD New Bulletin 2023\"\n",
    "from langchain.document_loaders import DirectoryLoader\n",
    "# Load all PDFs in a folder recursively\n",
    "loader = DirectoryLoader(folder, \"**/*.pdf\", use_multithreading=True)"
   ]
  },
  {
   "cell_type": "markdown",
   "id": "9abd408e",
   "metadata": {},
   "source": [
    "This next step takes some time. About 6 minutes last time I checked."
   ]
  },
  {
   "cell_type": "code",
   "execution_count": 3,
   "id": "c7d3ea33",
   "metadata": {},
   "outputs": [],
   "source": [
    "docs = loader.load()"
   ]
  },
  {
   "cell_type": "code",
   "execution_count": null,
   "id": "52a695c7",
   "metadata": {},
   "outputs": [
    {
     "data": {
      "text/plain": [
       "75"
      ]
     },
     "execution_count": 12,
     "metadata": {},
     "output_type": "execute_result"
    }
   ],
   "source": [
    "len(docs)"
   ]
  },
  {
   "cell_type": "markdown",
   "id": "d098dc2a",
   "metadata": {},
   "source": [
    "## Split the documents into texts"
   ]
  },
  {
   "cell_type": "markdown",
   "id": "900864eb",
   "metadata": {},
   "source": [
    "Here we create an NLTKTextSplitter object with chunk size 2000. Note that the quality of the retrieval and question answering may depend on the chunk size and the max token length for the LLM."
   ]
  },
  {
   "cell_type": "code",
   "execution_count": 3,
   "id": "867ed4f9",
   "metadata": {},
   "outputs": [],
   "source": [
    "from langchain.text_splitter import NLTKTextSplitter\n",
    "text_splitter = NLTKTextSplitter(chunk_size=2000)"
   ]
  },
  {
   "cell_type": "code",
   "execution_count": 4,
   "id": "54b5ff40",
   "metadata": {},
   "outputs": [
    {
     "ename": "NameError",
     "evalue": "name 'docs' is not defined",
     "output_type": "error",
     "traceback": [
      "\u001b[1;31m---------------------------------------------------------------------------\u001b[0m",
      "\u001b[1;31mNameError\u001b[0m                                 Traceback (most recent call last)",
      "Cell \u001b[1;32mIn[4], line 1\u001b[0m\n\u001b[1;32m----> 1\u001b[0m texts \u001b[39m=\u001b[39m text_splitter\u001b[39m.\u001b[39msplit_documents(docs)\n",
      "\u001b[1;31mNameError\u001b[0m: name 'docs' is not defined"
     ]
    }
   ],
   "source": [
    "texts = text_splitter.split_documents(docs)"
   ]
  },
  {
   "cell_type": "code",
   "execution_count": null,
   "id": "6c237b01",
   "metadata": {},
   "outputs": [
    {
     "name": "stdout",
     "output_type": "stream",
     "text": [
      "Limits on the location of the resultant are provided in Table 6 .\n",
      "\n",
      "________________________________________________________________________________________________ Rev.\n",
      "\n",
      "D 21-01-2021\n",
      "\n",
      "Page 16 of 55\n",
      "\n",
      "Name of Project: 0390801 - Pakal Dul, CFRD Design Consultancy\n",
      "\n",
      "DOCUMENT No: 0390801-INF-SS-LT3.2--0001 - Structural Design of Concrete Face, Plinth and Parapet Wall Report\n",
      "\n",
      "Table 6.\n",
      "\n",
      "Requirements for Location of the Resultant\n",
      "\n",
      "PARAMETER\n",
      "\n",
      "USUAL CASE\n",
      "\n",
      "UNUSUAL CASE\n",
      "\n",
      "EXTREME CASE\n",
      "\n",
      "Resultant location\n",
      "\n",
      "Middle third\n",
      "\n",
      "Middle half\n",
      "\n",
      "Within the base\n",
      "\n",
      "Compressive stresses shall not be larger than bearing capacity\n",
      "\n",
      "Percentage of foundation in compression\n",
      "\n",
      "100% in compression\n",
      "\n",
      "75% in compression\n",
      "\n",
      "Source: USACE EM-1110-2-2200\n",
      "\n",
      "4.4.4.\n",
      "\n",
      "Load cases\n",
      "\n",
      "The dimensioning and reinforcement of the parapet walls takes into account the most critical loading conditions.\n",
      "\n",
      "Usual case\n",
      "\n",
      "Dead-weight, backfill pressures, water pressure at the normal operating level.\n",
      "\n",
      "Unusual case\n",
      "\n",
      "Dead-weight, backfill pressures, water pressure at the maximum flood level, considering wind action.\n",
      "\n",
      "Extreme case\n",
      "\n",
      "Same as the usual case, considering the seismic effect and the magnification of the seismic effect at the crest of the dam.\n",
      "\n",
      "4.5.\n",
      "\n",
      "STRUCTURAL ANALYSIS AND DESIGN\n",
      "\n",
      "4.5.1.\n",
      "\n",
      "Analysis methods\n",
      "\n",
      "When applicable, the structures are modeled and analyzed with the software SAP 2000, developed by Computers and\n",
      "\n",
      "Structures Inc., Berkeley.\n",
      "\n",
      "For simple cases (cantilever walls, slabs, etc.\n",
      "\n",
      "), simple analytical models are used to\n",
      "\n",
      "approximate the behavior of the structure.\n",
      "\n",
      "4.5.2.\n",
      "\n",
      "Flexural strength\n",
      "\n",
      "In accordance with ACI 350-06 for reinforced concrete elements subjected to bending with axial load less than 0.10 f’cAg, it is verified that the ultimate resistant moments are greater than the factored moments as follows:\n",
      "\n",
      "M ≤ ϕ u M n ( − 0 5 f ´c 2 1 , 9 M n = ρ y f bd\n",
      "\n",
      "ρ f* y)\n",
      "\n",
      "________________________________________________________________________________________________ Rev.\n"
     ]
    }
   ],
   "source": [
    "print(texts[10].page_content)"
   ]
  },
  {
   "cell_type": "code",
   "execution_count": null,
   "id": "71c69565",
   "metadata": {},
   "outputs": [
    {
     "name": "stdout",
     "output_type": "stream",
     "text": [
      "Number of chunks in the whole index: 3028\n"
     ]
    }
   ],
   "source": [
    "print(f\"Number of chunks in the whole index: {len(texts)}\")"
   ]
  },
  {
   "cell_type": "code",
   "execution_count": null,
   "id": "5c7049db",
   "metadata": {},
   "outputs": [],
   "source": [
    "# from langchain.vectorstores import Chroma\n",
    "from langchain.embeddings.openai import OpenAIEmbeddings\n",
    "embeddings = OpenAIEmbeddings()\n",
    "# docsearch = Chroma.from_documents(texts, embeddings)"
   ]
  },
  {
   "cell_type": "markdown",
   "id": "cfbe9502",
   "metadata": {},
   "source": [
    "## Set up the Vector Store"
   ]
  },
  {
   "cell_type": "code",
   "execution_count": null,
   "id": "cab7a588",
   "metadata": {},
   "outputs": [
    {
     "name": "stderr",
     "output_type": "stream",
     "text": [
      "c:\\Users\\jstel\\Anaconda3\\envs\\langchain\\Lib\\site-packages\\pinecone\\index.py:4: TqdmExperimentalWarning: Using `tqdm.autonotebook.tqdm` in notebook mode. Use `tqdm.tqdm` instead to force console mode (e.g. in jupyter console)\n",
      "  from tqdm.autonotebook import tqdm\n"
     ]
    }
   ],
   "source": [
    "# Set up Pinecone\n",
    "import pinecone\n",
    "from tqdm.autonotebook import tqdm\n",
    "pinecone.init(api_key=\"48640420-7e79-46d4-b71d-d07286818fef\", environment=\"us-central1-gcp\")"
   ]
  },
  {
   "cell_type": "markdown",
   "id": "93769472",
   "metadata": {},
   "source": [
    "### Create the Pinecone Index"
   ]
  },
  {
   "cell_type": "markdown",
   "id": "50171866",
   "metadata": {},
   "source": [
    "Again this step takes some time."
   ]
  },
  {
   "cell_type": "code",
   "execution_count": null,
   "id": "1a0f59f0",
   "metadata": {},
   "outputs": [],
   "source": [
    "# check if 'icold' exists in the indexes\n",
    "if 'cfrds' in pinecone.list_indexes():\n",
    "    # Delete the index if it already exists\n",
    "    pinecone.delete_index('cfrds')\n",
    "# create a new index\n",
    "pinecone.create_index('cfrds', dimension=1536, metric='cosine')"
   ]
  },
  {
   "cell_type": "markdown",
   "id": "42208727",
   "metadata": {},
   "source": [
    "### Upsert the documents into the index\n"
   ]
  },
  {
   "cell_type": "code",
   "execution_count": 1,
   "id": "a8851737",
   "metadata": {},
   "outputs": [
    {
     "name": "stderr",
     "output_type": "stream",
     "text": [
      "C:\\Users\\jstel\\AppData\\Local\\Temp\\ipykernel_19704\\15381881.py:1: TqdmExperimentalWarning: Using `tqdm.autonotebook.tqdm` in notebook mode. Use `tqdm.tqdm` instead to force console mode (e.g. in jupyter console)\n",
      "  from tqdm.autonotebook import tqdm\n"
     ]
    }
   ],
   "source": [
    "from tqdm.autonotebook import tqdm\n",
    "from langchain.vectorstores import Pinecone"
   ]
  },
  {
   "cell_type": "code",
   "execution_count": 2,
   "id": "4b918006",
   "metadata": {},
   "outputs": [
    {
     "ename": "NameError",
     "evalue": "name 'texts' is not defined",
     "output_type": "error",
     "traceback": [
      "\u001b[1;31m---------------------------------------------------------------------------\u001b[0m",
      "\u001b[1;31mNameError\u001b[0m                                 Traceback (most recent call last)",
      "Cell \u001b[1;32mIn[2], line 1\u001b[0m\n\u001b[1;32m----> 1\u001b[0m docsearch \u001b[39m=\u001b[39m Pinecone\u001b[39m.\u001b[39mfrom_documents(texts, embeddings, index_name\u001b[39m=\u001b[39m\u001b[39m'\u001b[39m\u001b[39mcfrds\u001b[39m\u001b[39m'\u001b[39m)\n",
      "\u001b[1;31mNameError\u001b[0m: name 'texts' is not defined"
     ]
    }
   ],
   "source": [
    "docsearch = Pinecone.from_documents(texts, embeddings, index_name='cfrds')"
   ]
  },
  {
   "cell_type": "markdown",
   "id": "c4ede869",
   "metadata": {},
   "source": [
    "## Setup the Large Language Model"
   ]
  },
  {
   "cell_type": "code",
   "execution_count": null,
   "id": "3018f865",
   "metadata": {},
   "outputs": [],
   "source": [
    "from langchain.chains import RetrievalQA\n",
    "from langchain.chat_models import ChatOpenAI\n",
    "qa = RetrievalQA.from_chain_type(\n",
    "    llm=ChatOpenAI(temperature=0.5, max_tokens=2000, model='gpt-4-32k'),\n",
    "    # llm=ChatOpenAI(temperature=0.5, max_tokens=2000, model='gpt-3.5-turbo-16k'),\n",
    "    chain_type=\"stuff\",\n",
    "    retriever=docsearch.as_retriever(),\n",
    "    return_source_documents=True,\n",
    "    )"
   ]
  },
  {
   "cell_type": "code",
   "execution_count": 34,
   "id": "72993d3f",
   "metadata": {},
   "outputs": [],
   "source": [
    "def pretty_print(response):\n",
    "    import textwrap\n",
    "    # Split the response by lines of max 80 characters\n",
    "    return '\\n'.join(textwrap.wrap(response, 80))\n"
   ]
  },
  {
   "cell_type": "markdown",
   "id": "2f313f10",
   "metadata": {},
   "source": [
    "## Ask a Question of the LLM with retrieval."
   ]
  },
  {
   "cell_type": "code",
   "execution_count": 35,
   "id": "50996e7a",
   "metadata": {},
   "outputs": [],
   "source": [
    "query = \"tell me about campos novos dam\"\n",
    "result = qa({\"query\": query, \"n\": 10})"
   ]
  },
  {
   "cell_type": "code",
   "execution_count": 36,
   "id": "5724ba26",
   "metadata": {},
   "outputs": [
    {
     "name": "stdout",
     "output_type": "stream",
     "text": [
      "The Campos Novos Dam is a concrete-faced rockfill dam (CFRD) located in Brazil.\n",
      "It was constructed in 2006 as part of the Campos Novos Hydroelectric Power Plant\n",
      "project. The dam is situated on the Canoas River in the state of Santa Catarina.\n",
      "The Campos Novos Dam has a height of 125 meters and a crest length of 840\n",
      "meters. It was designed to store water for hydropower generation and to regulate\n",
      "the flow of the Canoas River. The reservoir created by the dam has a storage\n",
      "capacity of approximately 6.5 billion cubic meters.  During its construction,\n",
      "the dam faced some challenges related to concrete failure and cracking. These\n",
      "issues were addressed through careful design and construction techniques. The\n",
      "dam was instrumented to monitor its behavior during construction, which helped\n",
      "inform the final design and construction methodology.  The Campos Novos Dam is\n",
      "an important infrastructure project in Brazil, contributing to the country's\n",
      "energy generation and water management.\n"
     ]
    }
   ],
   "source": [
    "print(pretty_print(result['result']))"
   ]
  },
  {
   "cell_type": "markdown",
   "id": "3188046a",
   "metadata": {},
   "source": [
    "### Check the sources"
   ]
  },
  {
   "cell_type": "code",
   "execution_count": 42,
   "id": "6ba86835",
   "metadata": {},
   "outputs": [
    {
     "name": "stdout",
     "output_type": "stream",
     "text": [
      "sdar.64119.381.pdf\n",
      "ICOLD 2023 CFRD Workshop_ FINAL.pdf\n",
      "ICOLD 2023 CFRD Workshop_ FINAL.pdf\n",
      "sdar.64119.381.pdf\n"
     ]
    }
   ],
   "source": [
    "import os\n",
    "for source in result['source_documents']:\n",
    "    print(os.path.basename(source.metadata['source']))"
   ]
  },
  {
   "cell_type": "code",
   "execution_count": 38,
   "id": "032a47f8",
   "metadata": {},
   "outputs": [
    {
     "name": "stdout",
     "output_type": "stream",
     "text": [
      "Based on the provided context, here is what we know about the Campos Novos Dam:\n",
      "\n",
      "- The Campos Novos Dam is mentioned in the context as one of the problematic cases in dam construction.\n",
      "- There is a mention of \"concrete failure mapping\" related to the Campos Novos Dam.\n",
      "- The dam experienced concrete cracks and failures, as indicated by the mapping of major cracks.\n",
      "- The context includes a diagram showing the construction joint and the location of inclined and transversal cracks in slabs 16, 17, 19, 20, 21, and 22 of the dam.\n",
      "- The context suggests that the Campos Novos Dam is located in Brazil and was built in 2006.\n",
      "\n",
      "Unfortunately, the provided context does not offer detailed information about the specific characteristics or issues of the Campos Novos Dam.\n"
     ]
    }
   ],
   "source": [
    "query = \"What do you know about the Campos Novos Dam?\"\n",
    "result = qa({\"query\": query, \"n\": 10})\n",
    "print(result['result'])"
   ]
  },
  {
   "cell_type": "code",
   "execution_count": 39,
   "id": "ba884016",
   "metadata": {},
   "outputs": [
    {
     "data": {
      "text/plain": [
       "'Based on the provided context, here is what we know about the Campos Novos Dam:\\n- The Campos Novos Dam is mentioned in the context as one of the problematic\\ncases in dam construction. - There is a mention of \"concrete failure mapping\"\\nrelated to the Campos Novos Dam. - The dam experienced concrete cracks and\\nfailures, as indicated by the mapping of major cracks. - The context includes a\\ndiagram showing the construction joint and the location of inclined and\\ntransversal cracks in slabs 16, 17, 19, 20, 21, and 22 of the dam. - The context\\nsuggests that the Campos Novos Dam is located in Brazil and was built in 2006.\\nUnfortunately, the provided context does not offer detailed information about\\nthe specific characteristics or issues of the Campos Novos Dam.'"
      ]
     },
     "execution_count": 39,
     "metadata": {},
     "output_type": "execute_result"
    }
   ],
   "source": [
    "pretty_print(result['result'])"
   ]
  },
  {
   "cell_type": "code",
   "execution_count": 40,
   "id": "15113754",
   "metadata": {},
   "outputs": [
    {
     "data": {
      "text/plain": [
       "'G:\\\\.shortcut-targets-by-id\\\\1vE28d8xZuJXkpcinFbuku9FJgeaDd48K\\\\ICOLD - CFRD New Bulletin 2023\\\\Dam Response\\\\sdar.64119.381.pdf'"
      ]
     },
     "execution_count": 40,
     "metadata": {},
     "output_type": "execute_result"
    }
   ],
   "source": [
    "result['source_documents'][3].metadata['source']"
   ]
  }
 ],
 "metadata": {
  "kernelspec": {
   "display_name": "langchain",
   "language": "python",
   "name": "python3"
  },
  "language_info": {
   "codemirror_mode": {
    "name": "ipython",
    "version": 3
   },
   "file_extension": ".py",
   "mimetype": "text/x-python",
   "name": "python",
   "nbconvert_exporter": "python",
   "pygments_lexer": "ipython3",
   "version": "3.11.3"
  }
 },
 "nbformat": 4,
 "nbformat_minor": 5
}
