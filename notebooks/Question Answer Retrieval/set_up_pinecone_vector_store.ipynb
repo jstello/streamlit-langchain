{
 "cells": [
  {
   "attachments": {},
   "cell_type": "markdown",
   "id": "07c1e3b9",
   "metadata": {},
   "source": [
    "# Retrieval Question/Answering\n",
    "---\n",
    "\n",
    "This example showcases question answering over an index built from a folder of PDFs, returning the sources and splitting with NLTK. \n",
    "- The Pinecone index is set up first "
   ]
  },
  {
   "cell_type": "markdown",
   "id": "6c428660",
   "metadata": {},
   "source": [
    "## Set up Pinecone Index"
   ]
  },
  {
   "cell_type": "code",
   "execution_count": 1,
   "id": "82525493",
   "metadata": {},
   "outputs": [],
   "source": [
    "from langchain_openai import ChatOpenAI, OpenAIEmbeddings \n",
    "from langchain_community.vectorstores import Chroma\n",
    "from langchain.text_splitter import CharacterTextSplitter\n",
    "# from langchain.llms import OpenAI\n",
    "# from langchain.chains import RetrievalQA"
   ]
  },
  {
   "attachments": {},
   "cell_type": "markdown",
   "id": "5159d2b0",
   "metadata": {},
   "source": [
    "Read all pdf files from the folder:\n",
    "\"G:\\.shortcut-targets-by-id\\1vE28d8xZuJXkpcinFbuku9FJgeaDd48K\\ICOLD - CFRD New Bulletin 2023\""
   ]
  },
  {
   "cell_type": "code",
   "execution_count": 2,
   "id": "4c06c4ae",
   "metadata": {},
   "outputs": [],
   "source": [
    "folder = r\"C:\\2023\\streamlit-langchain\\ICOLD - CFRD New Bulletin 2023\""
   ]
  },
  {
   "cell_type": "code",
   "execution_count": 3,
   "id": "ce29c9f1",
   "metadata": {},
   "outputs": [],
   "source": [
    "from langchain.document_loaders import DirectoryLoader"
   ]
  },
  {
   "cell_type": "code",
   "execution_count": 8,
   "id": "e2421e27",
   "metadata": {},
   "outputs": [],
   "source": [
    "# Load all PDFs in a folder recursively\n",
    "loader = DirectoryLoader(folder, \"**/*.pdf\", show_progress=True, use_multithreading=True)"
   ]
  },
  {
   "cell_type": "markdown",
   "id": "d240a4d7",
   "metadata": {},
   "source": [
    "For some reason, the latest Langchain API requires that you manually install Tesseract and Poppler, which are not Python packages"
   ]
  },
  {
   "cell_type": "code",
   "execution_count": 9,
   "id": "c7d3ea33",
   "metadata": {},
   "outputs": [
    {
     "name": "stderr",
     "output_type": "stream",
     "text": [
      "[Errno 13] Permission denied: 'C:\\\\Users\\\\JUAN_T~1\\\\AppData\\\\Local\\\\Temp\\\\tmpruup5_uw'\n",
      "[Errno 13] Permission denied: 'C:\\\\Users\\\\JUAN_T~1\\\\AppData\\\\Local\\\\Temp\\\\tmp1ud7yecw'\n",
      "PDF text extraction failed, skip text extraction...\n",
      "PDF text extraction failed, skip text extraction...\n",
      "[Errno 13] Permission denied: 'C:\\\\Users\\\\JUAN_T~1\\\\AppData\\\\Local\\\\Temp\\\\tmpocmpbxl4'\n",
      "PDF text extraction failed, skip text extraction...\n",
      "100%|██████████| 64/64 [04:33<00:00,  4.27s/it]\n"
     ]
    }
   ],
   "source": [
    "docs = loader.load()"
   ]
  },
  {
   "cell_type": "code",
   "execution_count": 11,
   "id": "52a695c7",
   "metadata": {},
   "outputs": [
    {
     "data": {
      "text/plain": [
       "61"
      ]
     },
     "execution_count": 11,
     "metadata": {},
     "output_type": "execute_result"
    }
   ],
   "source": [
    "len(docs)"
   ]
  },
  {
   "cell_type": "code",
   "execution_count": 12,
   "id": "867ed4f9",
   "metadata": {},
   "outputs": [],
   "source": [
    "from langchain.text_splitter import NLTKTextSplitter\n",
    "text_splitter = NLTKTextSplitter(chunk_size=2000)"
   ]
  },
  {
   "cell_type": "code",
   "execution_count": 13,
   "id": "54b5ff40",
   "metadata": {},
   "outputs": [
    {
     "name": "stderr",
     "output_type": "stream",
     "text": [
      "Created a chunk of size 2048, which is longer than the specified 2000\n"
     ]
    },
    {
     "name": "stderr",
     "output_type": "stream",
     "text": [
      "Created a chunk of size 5291, which is longer than the specified 2000\n",
      "Created a chunk of size 4206, which is longer than the specified 2000\n",
      "Created a chunk of size 4691, which is longer than the specified 2000\n",
      "Created a chunk of size 2138, which is longer than the specified 2000\n",
      "Created a chunk of size 2023, which is longer than the specified 2000\n",
      "Created a chunk of size 2016, which is longer than the specified 2000\n"
     ]
    }
   ],
   "source": [
    "texts = text_splitter.split_documents(docs)"
   ]
  },
  {
   "cell_type": "code",
   "execution_count": 14,
   "id": "6c237b01",
   "metadata": {},
   "outputs": [
    {
     "name": "stdout",
     "output_type": "stream",
     "text": [
      "Face deflection after reservoir impounding, section B, D=(0.0 ÷ 908) mm.\n",
      "\n",
      "Figure 37.\n",
      "\n",
      "Face deflection after dam construction, section C, D=(0.0 ÷ 106.3) mm.\n",
      "\n",
      "18\n",
      "\n",
      "10th Benchmark Workshop on Numerical Aspects of dams, Paris, September, 2009\n",
      "\n",
      "Figure 38.\n",
      "\n",
      "Face deflection after reservoir impounding, section C, D=(0.0 ÷ 623.8) mm.\n",
      "\n",
      "CONCLUSIONS\n",
      "\n",
      "From the performed analysis following main conclusions could be drawn out:\n",
      "\n",
      "Program package SOFiSTiK is powerful tool for complex three-dimensional analysis of dams.\n",
      "\n",
      "It has rich possibilities for modeling of the dam body, and also possibilities for application of different constitutive laws, as well as for complex load influences.\n",
      "\n",
      "From the analysis of dam behaviour for the loading states (state after dam construction and state after reservoir impounding), obtained values and distribution of the dam settlements and vertical stresses are usual for this type of dam.\n",
      "\n",
      "The maximal vertical settlement is in the intermediate part of the dam, located approximately at 60% of the dam height, with value 2.138 m at point HS B11, while the measured value at the same point is 2.32 m. This shows good accordance between these values.\n",
      "\n",
      "Maximal vertical stresses are at the bottom, in the central part of the, with value of 2.36 MPa.\n",
      "\n",
      "From the comparison of the measured values for surface settlements for lake level at EL 2075 (Fig.\n",
      "\n",
      "16 from the given data) and obtained values from the analysis (only for the upstream side, Fig.\n",
      "\n",
      "28 from the analysis) it can be noticed that the diagram and the values of the settlements are very similar and also shows good accordance.\n",
      "\n",
      "Up to now, with calibration of the numerical model, using some of the advanced features of the program SOFiSTiK, it was possible to explain some of the results obtained by the performed measurements.\n"
     ]
    }
   ],
   "source": [
    "print(texts[10].page_content)"
   ]
  },
  {
   "cell_type": "code",
   "execution_count": 15,
   "id": "71c69565",
   "metadata": {},
   "outputs": [
    {
     "name": "stdout",
     "output_type": "stream",
     "text": [
      "Number of chunks: 1799\n"
     ]
    }
   ],
   "source": [
    "print(f\"Number of chunks: {len(texts)}\")"
   ]
  },
  {
   "cell_type": "code",
   "execution_count": 29,
   "id": "5c7049db",
   "metadata": {},
   "outputs": [],
   "source": [
    "# from langchain_community.vectorstores import Chroma\n",
    "from langchain_openai import ChatOpenAI, OpenAIEmbeddings \n",
    "embeddings = OpenAIEmbeddings(model=\"text-embedding-3-small\")\n",
    "# docsearch = Chroma.from_documents(texts, embeddings)"
   ]
  },
  {
   "cell_type": "code",
   "execution_count": 30,
   "id": "cab7a588",
   "metadata": {},
   "outputs": [],
   "source": [
    "# Set up Pinecone\n",
    "from pinecone import Pinecone \n",
    "pinecone = Pinecone()\n",
    "# pinecone.init(api_key=\"48640420-7e79-46d4-b71d-d07286818fef\", environment=\"us-central1-gcp\")"
   ]
  },
  {
   "cell_type": "code",
   "execution_count": 31,
   "id": "648788c5",
   "metadata": {},
   "outputs": [
    {
     "data": {
      "text/plain": [
       "<pinecone.data.index.Index at 0x17bda9bb650>"
      ]
     },
     "execution_count": 31,
     "metadata": {},
     "output_type": "execute_result"
    }
   ],
   "source": [
    "pinecone.Index('cfrds')"
   ]
  },
  {
   "cell_type": "code",
   "execution_count": 32,
   "id": "1a0f59f0",
   "metadata": {},
   "outputs": [],
   "source": [
    "# check if 'icold' exists in the indexes\n",
    "# if 'icold' in pinecone.list_indexes():\n",
    "#     # Delete the index if it already exists\n",
    "#     pinecone.delete_index('icold')\n",
    "# # create a new index\n",
    "# pinecone.create_index('icold', dimension=1536, metric='cosine')"
   ]
  },
  {
   "cell_type": "code",
   "execution_count": 33,
   "id": "42208727",
   "metadata": {},
   "outputs": [],
   "source": [
    "# Upsert the documents into the index\n",
    "from tqdm.autonotebook import tqdm\n",
    "from langchain_community.vectorstores import Pinecone"
   ]
  },
  {
   "cell_type": "code",
   "execution_count": 34,
   "id": "973645b8",
   "metadata": {},
   "outputs": [
    {
     "data": {
      "text/plain": [
       "1799"
      ]
     },
     "execution_count": 34,
     "metadata": {},
     "output_type": "execute_result"
    }
   ],
   "source": [
    "len(texts)"
   ]
  },
  {
   "cell_type": "markdown",
   "id": "6a0f5703",
   "metadata": {},
   "source": [
    "This next step requires an API key for OpenAI Embeddings, and it looks like it takes some time for the payment to go through. "
   ]
  },
  {
   "cell_type": "code",
   "execution_count": 39,
   "id": "4b918006",
   "metadata": {},
   "outputs": [],
   "source": [
    "docsearch = Pinecone.from_documents(texts, embeddings, index_name='cfrds')"
   ]
  },
  {
   "cell_type": "code",
   "execution_count": 40,
   "id": "648b2848",
   "metadata": {},
   "outputs": [],
   "source": [
    "retriever = docsearch.as_retriever()"
   ]
  },
  {
   "cell_type": "code",
   "execution_count": 41,
   "id": "af8b2b50",
   "metadata": {},
   "outputs": [
    {
     "data": {
      "text/plain": [
       "'A CFRD, or Concrete-Faced Rockfill Dam, is a type of dam that relies on the weight of rockfill to resist the force of water, utilizing a concrete face slab as an impervious barrier to prevent leakage. The concrete face slab is equipped with vertical and peripheral joints, which include waterstops to minimize water seepage. For taller CFRDs, horizontal construction joints are also sometimes employed to facilitate the placement of the concrete face slab in stages. This combination of rockfill and concrete slab is designed to offer excellent performance in terms of safety, economy, and environmental impact, making CFRDs a popular and competitive choice for dam construction.'"
      ]
     },
     "execution_count": 41,
     "metadata": {},
     "output_type": "execute_result"
    }
   ],
   "source": [
    "from langchain_core.prompts import ChatPromptTemplate\n",
    "from langchain_core.runnables import RunnableLambda, RunnablePassthrough\n",
    "from langchain_core.output_parsers import StrOutputParser\n",
    "\n",
    "template = \"\"\"Answer the question based only on the following context:\n",
    "{context}\n",
    "\n",
    "Question: {question}\n",
    "\"\"\"\n",
    "prompt = ChatPromptTemplate.from_template(template)\n",
    "\n",
    "model = ChatOpenAI(model=\"gpt-4-turbo-preview\")\n",
    "chain = (\n",
    "    {\"context\": retriever, \"question\": RunnablePassthrough()}\n",
    "    | prompt\n",
    "    | model\n",
    "    | StrOutputParser()\n",
    ")\n",
    "chain.invoke(\"What is a cfrd?\")\n"
   ]
  },
  {
   "cell_type": "code",
   "execution_count": 42,
   "id": "411eebaa",
   "metadata": {},
   "outputs": [
    {
     "data": {
      "text/plain": [
       "{'answer': AIMessage(content='To prevent leakage in a concrete face rockfill dam, it is important to identify the leakage locations on the concrete face slab, understand the severity of leakage at each location, and take proper rehabilitation measures to repair the face slab. Additionally, the use of advanced technologies, such as fluorescent tracer tests, can be employed to detect dam leakages and address them promptly. Regular monitoring and maintenance of the dam structure can also help prevent excessive leakage in a concrete face rockfill dam.'),\n",
       " 'docs': [Document(page_content='Rockﬁll has been observed to be able to accept high leakage safely: therefore diversion capacity can be reduced by allowing overtopping of the rockﬁll.\\n\\n(b) Construction: rockﬁll is suitable for wet weather placement; foundation grouting can be done in parallel with rockﬁll placement; multistage construction of the rockﬁll embankment is possible; foundation clean-up requires no hard work except at the plinth; and the plinth and face slab can be constructed quickly and economically using slip forming.\\n\\nIntroduction\\n\\n1.\\n\\n1.1 CFRDs and their advantages Concrete-face rockﬁll dams (CFRDs) are known to have origi- nated from the mining regions of Sierra Nevada in California in the 1850s; however, construction of modern dams started only in the late 1960s and early 1970s.\\n\\nSince then, rapid progress has the been achieved in the construction of CFRDs throughout\\n\\n(c) Performance: water load is transferred to the foundation\\n\\nupstream of the dam axis, resulting in increased stability and a high factor of safety against sliding; post-construction\\n\\n323\\n\\nDownloaded by [ UNIV OF ILLINOIS] on [05/02/20].\\n\\nCopyright © ICE Publishing, all rights reserved.\\n\\nGeotechnical Engineering Volume 167 Issue GE4\\n\\nThree-dimensional analysis of a concrete- face rockﬁll dam Mahabad, Imam, Javanmardi and Jalali\\n\\nabutments, causing it to remain in compression over most of its area and in extension near the dam abutments.\\n\\nmovements are often small, and stop only several years after construction; the dam performs well during earthquake owing to the dry rockﬁll and the lack of pore pressures; and little or no instrumentation is required for monitoring dam safety.\\n\\nSince the role of the face slab as the main water barrier for the dam depends mainly on its overall behaviour and movements rather than on its strength, its thickness and reinforcement have often been selected based on precedent.', metadata={'source': 'C:\\\\2023\\\\streamlit-langchain\\\\ICOLD - CFRD New Bulletin 2023\\\\Numerical Analysis\\\\geng.11.00027.pdf'}),\n",
       "  Document(page_content='The concrete-face rockfill dam (CFRD) has become a popular and competitive dam type because of its excellent performance in safety, economy, and environment.\\n\\nA CFRD relies on the weight of rockfill to withstand the force of water and uses the concrete face slab as an impervious layer to prevent leakage.\\n\\nThe concrete face slab has vertical joints and peripheral joints with waterstops.\\n\\nFor high CFRDs, horizontal construction joints are often used when it is necessary to place the concrete face slab in two or more stages.\\n\\nLeakage from a CFRD mainly occurs through defective joints and waterstops, or cracks and ruptures in the concrete face slab (e.g., Sherard and Cooke 1987; Won and Kim 2008; ICOLD 2011).\\n\\nIn recent years, large leakage occurred in several CFRDs around the world, such as Barra Grande and Campos Novos in Brazil, Mohale in Lesotho, and Gouhou in China, resulting in economic losses and even potential safety problems (e.g., Chen and Zhang 2006; Pinto 2007).\\n\\nTo reduce excessive leakage through a CFRD, it is necessary to identify the leakage locations on the concrete face slab, understand the severity of leakage at each location, and take proper rehabilitation measures to repair the face slab.\\n\\nDevelopment of Models for Estimating Leakage Rate\\n\\nCasinader and Rome (1988) summarized two approaches for esti- mating leakage through concrete facings of CFRDs, including the apparent permeability method and the crack flow method.\\n\\nBoth approaches involve the assumption of laminar flow through the concrete slab.\\n\\nIn fact, the leakage areas due to defective joints and waterstops or ruptures in the concrete face slab can be very large.\\n\\nFor instance, peripheral joints of high CFRDs may experience large three-dimensional displacements because of large settlement of the rock fill; large damaged areas may result from ruptures of the con- crete face slab.', metadata={'source': 'C:\\\\2023\\\\streamlit-langchain\\\\ICOLD - CFRD New Bulletin 2023\\\\Dam Response\\\\(ASCE)GT.1943-5606.0001501.pdf'}),\n",
       "  Document(page_content='The sedimentation of the dam crest of most concrete rockfill dams is less than or equal to 0.40% H (H is the height of the face rockfill dam), and the sedimentation of most dams during the completion period is less than 1.0% H. After water storage, the panel deflection is close to the dam crest sedimentation value.\\n\\nMost of the dam’s panel deflection is less than 0.40% H, of which more than half is less than 0.2% H. Large rockfill deformation is the main cause of panel tensile stress, as well cracking and crushing damage.\\n\\nKeywords Rockfill dam .\\n\\nNumerical simulation .\\n\\nHydraulic coupling effect .\\n\\nStatistical analysis method .\\n\\nFinite element analysis\\n\\nIntroduction\\n\\nThe concrete face rockfill dam refers to a rockfill dam with a rockfill body as a supporting structure and a concrete panel as an anti-seepage structure on the upstream surface of the rockfill (Cen et al, 2016).\\n\\nDue to its good safety, adaptability, short construction period, and low cost, the face rockfill dam is widely used in engineering (Jia and Chi 2015).\\n\\nThe\\n\\nThis article is part of the Topical Collection on Geological Modeling and Geospatial Data Analysis\\n\\nYanhao Zheng\\n\\nyanhaozheng@hotmail.com\\n\\n1 Department of Civil and Environmental Engineering, Imperial\\n\\nCollege London, London SW7 2AZ, UK\\n\\nconstruction of concrete face rockfill dams has been in devel- opment for more than 120 years (Xu 2015), and its develop- ment has generally gone through three stages: the first stage was from the mid-nineteenth century to around 1940, as the early stage (Kong et al.\\n\\n2015).\\n\\nThe construction of rockfill is mainly based on throwing, supplemented by high-pressure water guns stamping; the second stage is from around 1940 to 1965 as a transitional stage (Zhou et al.\\n\\n2016a).', metadata={'source': 'C:\\\\2023\\\\streamlit-langchain\\\\ICOLD - CFRD New Bulletin 2023\\\\Numerical Analysis\\\\Zheng2019_Article_NumericalSimulationOfMechanica.pdf'}),\n",
       "  Document(page_content='Hunter, G. & Fell, R. (2003).\\n\\nRockfill modulus and settlement of concrete face fockfill dams.\\n\\nJ. Geotech.\\n\\nGeoenviron.\\n\\nEngng 129, No.\\n\\n10, 909–917.\\n\\nREFERENCES Arici, Y.\\n\\n(2011).\\n\\nInvestigation of the cracking of CFRD face plates.\\n\\nIcold (International Commission on Large Dams) (2004).\\n\\nConcrete face rock fill dams concepts for design and construction.\\n\\nCommittee on materials for fill dams.\\n\\nParis, France: Icold.\\n\\nJia, Y.\\n\\n& Chi, S. (2015).\\n\\nBack-analysis of soil parameters of the Malutang II concrete face rockfill dam using parallel mutation particle swarm optimization.\\n\\nComput.\\n\\nGeotech.\\n\\n65, 87–96.\\n\\nJia, J. S., Xu, Y., Hao, J. T. & Zhang, L. M., (2016).\\n\\nLocalizing and quantifying leakage through CFRDs.\\n\\nJ. Geotech.\\n\\nGeoenviron.\\n\\nEngng 142, No.\\n\\n9, 06016007.\\n\\nComput.\\n\\nGeotech.\\n\\n38, No.\\n\\n7, 905–916.\\n\\nArici, Y.\\n\\n(2013).\\n\\nBehaviour of the reinforced concrete face slabs of concrete faced rockfill dams during impounding.\\n\\nStruct.\\n\\nInfrastruct.\\n\\nEngng 9, No.\\n\\n9, 877–890.\\n\\nBattaglia, D., Birindelli, F., Rinaldi, M., Vettraino, E. & Bezzi, A.\\n\\n(2016).\\n\\nFluorescent tracer tests for detection of dam leakages: the case of the Bumbuna dam – Sierra Leone.\\n\\nEngng Geol.\\n\\n205, 30–39.\\n\\nJiang, G. & Cao, K. (1993).\\n\\nConcrete face rockfill dams in China.\\n\\nProceedings of international symposium on high earth-rockfill dams, Beijing, China, pp.\\n\\n25–37.\\n\\nBrown, A. J.\\n\\n& Bruggemann, D. A.\\n\\n(2002).\\n\\nArminou Dam, Cyprus, and construction joints in diaphragm cut-off walls.\\n\\nGéotechnique 52, No.\\n\\n1, 3–13, https://doi.org/10.1680/geot.2002.52.1.3.\\n\\nCharles, J.\\n\\nA.\\n\\n(2008).\\n\\nThe engineering behaviour of fill materials: the use, misuse and disuse of case histories.\\n\\nGéotechnique 58, No.\\n\\n7, 541–570, http://dx.doi.org/10.1680/geot.2008.58.7.541.\\n\\nKan, M. E. & Taiebat, H. A.\\n\\n(2016).\\n\\nApplication of advanced bounding surface plasticity model in static and seismic analyses of Zipingpu Dam.\\n\\nCan.\\n\\nGeotech.\\n\\nJ.\\n\\n53, No.\\n\\n3, 455–471.\\n\\nKarstunen, M. & Yin, Z. Y.\\n\\n(2010).', metadata={'source': 'C:\\\\2023\\\\streamlit-langchain\\\\ICOLD - CFRD New Bulletin 2023\\\\Dam Response\\\\jgeot.17.p.095.pdf'})]}"
      ]
     },
     "execution_count": 42,
     "metadata": {},
     "output_type": "execute_result"
    }
   ],
   "source": [
    "from operator import itemgetter\n",
    "from langchain.schema import format_document\n",
    "\n",
    "from langchain.prompts.prompt import PromptTemplate\n",
    "from langchain.memory import ConversationBufferMemory\n",
    "from langchain_core.messages import AIMessage, HumanMessage, get_buffer_string\n",
    "\n",
    "memory = ConversationBufferMemory(\n",
    "    return_messages=True, output_key=\"answer\", input_key=\"question\"\n",
    ")\n",
    "# First we add a step to load memory\n",
    "# This adds a \"memory\" key to the input object\n",
    "loaded_memory = RunnablePassthrough.assign(\n",
    "    chat_history=RunnableLambda(memory.load_memory_variables) | itemgetter(\"history\"),\n",
    ")\n",
    "# Now we calculate the standalone question\n",
    "_template = \"\"\"Given the following conversation and a follow up question, rephrase the follow up question to be a standalone question, in its original language.\n",
    "\n",
    "Chat History:\n",
    "{chat_history}\n",
    "Follow Up Input: {question}\n",
    "Standalone question:\"\"\"\n",
    "\n",
    "CONDENSE_QUESTION_PROMPT = PromptTemplate.from_template(_template)\n",
    "\n",
    "standalone_question = {\n",
    "    \"standalone_question\": {\n",
    "        \"question\": lambda x: x[\"question\"],\n",
    "        \"chat_history\": lambda x: get_buffer_string(x[\"chat_history\"]),\n",
    "    }\n",
    "    | CONDENSE_QUESTION_PROMPT\n",
    "    | ChatOpenAI(temperature=0, )\n",
    "    | StrOutputParser(),\n",
    "}\n",
    "# Now we retrieve the documents\n",
    "retrieved_documents = {\n",
    "    \"docs\": itemgetter(\"standalone_question\") | retriever,\n",
    "    \"question\": lambda x: x[\"standalone_question\"],\n",
    "}\n",
    "# Now we construct the inputs for the final prompt\n",
    "DEFAULT_DOCUMENT_PROMPT = PromptTemplate.from_template(template=\"{page_content}\")\n",
    "\n",
    "def _combine_documents(docs, document_prompt=DEFAULT_DOCUMENT_PROMPT, document_separator=\"\\n\\n\"):\n",
    "    doc_strings = [format_document(doc, document_prompt) for doc in docs]\n",
    "    return document_separator.join(doc_strings)\n",
    "\n",
    "final_inputs = {\n",
    "    \"context\": lambda x: _combine_documents(x[\"docs\"]),\n",
    "    \"question\": itemgetter(\"question\"),\n",
    "}\n",
    "# And finally, we do the part that returns the answers\n",
    "ANSWER_PROMPT = ChatPromptTemplate.from_template(template)\n",
    "answer = {\n",
    "    \"answer\": final_inputs | ANSWER_PROMPT | ChatOpenAI(),\n",
    "    \"docs\": itemgetter(\"docs\"),\n",
    "}\n",
    "# And now we put it all together!\n",
    "final_chain = loaded_memory | standalone_question | retrieved_documents | answer\n",
    "inputs = {\"question\": \"How do we mitigate leakage once a concrete face rockfill dam is constructed?\"}\n",
    "result = final_chain.invoke(inputs)\n",
    "result\n"
   ]
  },
  {
   "cell_type": "code",
   "execution_count": 45,
   "id": "bc3eccb8",
   "metadata": {},
   "outputs": [
    {
     "name": "stdout",
     "output_type": "stream",
     "text": [
      "To prevent leakage in a concrete face rockfill dam, it is important to identify the leakage locations on the concrete face slab, understand the severity of leakage at each location, and take proper rehabilitation measures to repair the face slab. Additionally, the use of advanced technologies, such as fluorescent tracer tests, can be employed to detect dam leakages and address them promptly. Regular monitoring and maintenance of the dam structure can also help prevent excessive leakage in a concrete face rockfill dam.\n"
     ]
    }
   ],
   "source": [
    "print(result['answer'].content)"
   ]
  },
  {
   "cell_type": "code",
   "execution_count": 53,
   "id": "39458d68",
   "metadata": {},
   "outputs": [
    {
     "name": "stdout",
     "output_type": "stream",
     "text": [
      "Rockﬁll has been observed to be able to accept high leakage safely: therefore diversion capacity can be reduced by allowing overtopping of the rockﬁll.\n",
      "\n",
      "(b) Construction: rockﬁll is suitable for wet weather placement; foundation grouting can be done in parallel with rockﬁll placement; multistage construction of the rockﬁll embankment is possible; foundation clean-up requires no hard work except at the plinth; and the plinth and face slab can be constructed quickly and economically using slip forming.\n",
      "\n",
      "Introduction\n",
      "\n",
      "1.\n",
      "\n",
      "1.1 CFRDs and their advantages Concrete-face rockﬁll dams (CFRDs) are known to have origi- nated from the mining regions of Sierra Nevada in California in the 1850s; however, construction of modern dams started only in the late 1960s and early 1970s.\n",
      "\n",
      "Since then, rapid progress has the been achieved in the construction of CFRDs throughout\n",
      "\n",
      "(c) Performance: water load is transferred to the foundation\n",
      "\n",
      "upstream of the dam axis, resulting in increased stability and a high factor of safety against sliding; post-construction\n",
      "\n",
      "323\n",
      "\n",
      "Downloaded by [ UNIV OF ILLINOIS] on [05/02/20].\n",
      "\n",
      "Copyright © ICE Publishing, all rights reserved.\n",
      "\n",
      "Geotechnical Engineering Volume 167 Issue GE4\n",
      "\n",
      "Three-dimensional analysis of a concrete- face rockﬁll dam Mahabad, Imam, Javanmardi and Jalali\n",
      "\n",
      "abutments, causing it to remain in compression over most of its area and in extension near the dam abutments.\n",
      "\n",
      "movements are often small, and stop only several years after construction; the dam performs well during earthquake owing to the dry rockﬁll and the lack of pore pressures; and little or no instrumentation is required for monitoring dam safety.\n",
      "\n",
      "Since the role of the face slab as the main water barrier for the dam depends mainly on its overall behaviour and movements rather than on its strength, its thickness and reinforcement have often been selected based on precedent.\n",
      "The concrete-face rockfill dam (CFRD) has become a popular and competitive dam type because of its excellent performance in safety, economy, and environment.\n",
      "\n",
      "A CFRD relies on the weight of rockfill to withstand the force of water and uses the concrete face slab as an impervious layer to prevent leakage.\n",
      "\n",
      "The concrete face slab has vertical joints and peripheral joints with waterstops.\n",
      "\n",
      "For high CFRDs, horizontal construction joints are often used when it is necessary to place the concrete face slab in two or more stages.\n",
      "\n",
      "Leakage from a CFRD mainly occurs through defective joints and waterstops, or cracks and ruptures in the concrete face slab (e.g., Sherard and Cooke 1987; Won and Kim 2008; ICOLD 2011).\n",
      "\n",
      "In recent years, large leakage occurred in several CFRDs around the world, such as Barra Grande and Campos Novos in Brazil, Mohale in Lesotho, and Gouhou in China, resulting in economic losses and even potential safety problems (e.g., Chen and Zhang 2006; Pinto 2007).\n",
      "\n",
      "To reduce excessive leakage through a CFRD, it is necessary to identify the leakage locations on the concrete face slab, understand the severity of leakage at each location, and take proper rehabilitation measures to repair the face slab.\n",
      "\n",
      "Development of Models for Estimating Leakage Rate\n",
      "\n",
      "Casinader and Rome (1988) summarized two approaches for esti- mating leakage through concrete facings of CFRDs, including the apparent permeability method and the crack flow method.\n",
      "\n",
      "Both approaches involve the assumption of laminar flow through the concrete slab.\n",
      "\n",
      "In fact, the leakage areas due to defective joints and waterstops or ruptures in the concrete face slab can be very large.\n",
      "\n",
      "For instance, peripheral joints of high CFRDs may experience large three-dimensional displacements because of large settlement of the rock fill; large damaged areas may result from ruptures of the con- crete face slab.\n",
      "The sedimentation of the dam crest of most concrete rockfill dams is less than or equal to 0.40% H (H is the height of the face rockfill dam), and the sedimentation of most dams during the completion period is less than 1.0% H. After water storage, the panel deflection is close to the dam crest sedimentation value.\n",
      "\n",
      "Most of the dam’s panel deflection is less than 0.40% H, of which more than half is less than 0.2% H. Large rockfill deformation is the main cause of panel tensile stress, as well cracking and crushing damage.\n",
      "\n",
      "Keywords Rockfill dam .\n",
      "\n",
      "Numerical simulation .\n",
      "\n",
      "Hydraulic coupling effect .\n",
      "\n",
      "Statistical analysis method .\n",
      "\n",
      "Finite element analysis\n",
      "\n",
      "Introduction\n",
      "\n",
      "The concrete face rockfill dam refers to a rockfill dam with a rockfill body as a supporting structure and a concrete panel as an anti-seepage structure on the upstream surface of the rockfill (Cen et al, 2016).\n",
      "\n",
      "Due to its good safety, adaptability, short construction period, and low cost, the face rockfill dam is widely used in engineering (Jia and Chi 2015).\n",
      "\n",
      "The\n",
      "\n",
      "This article is part of the Topical Collection on Geological Modeling and Geospatial Data Analysis\n",
      "\n",
      "Yanhao Zheng\n",
      "\n",
      "yanhaozheng@hotmail.com\n",
      "\n",
      "1 Department of Civil and Environmental Engineering, Imperial\n",
      "\n",
      "College London, London SW7 2AZ, UK\n",
      "\n",
      "construction of concrete face rockfill dams has been in devel- opment for more than 120 years (Xu 2015), and its develop- ment has generally gone through three stages: the first stage was from the mid-nineteenth century to around 1940, as the early stage (Kong et al.\n",
      "\n",
      "2015).\n",
      "\n",
      "The construction of rockfill is mainly based on throwing, supplemented by high-pressure water guns stamping; the second stage is from around 1940 to 1965 as a transitional stage (Zhou et al.\n",
      "\n",
      "2016a).\n",
      "Hunter, G. & Fell, R. (2003).\n",
      "\n",
      "Rockfill modulus and settlement of concrete face fockfill dams.\n",
      "\n",
      "J. Geotech.\n",
      "\n",
      "Geoenviron.\n",
      "\n",
      "Engng 129, No.\n",
      "\n",
      "10, 909–917.\n",
      "\n",
      "REFERENCES Arici, Y.\n",
      "\n",
      "(2011).\n",
      "\n",
      "Investigation of the cracking of CFRD face plates.\n",
      "\n",
      "Icold (International Commission on Large Dams) (2004).\n",
      "\n",
      "Concrete face rock fill dams concepts for design and construction.\n",
      "\n",
      "Committee on materials for fill dams.\n",
      "\n",
      "Paris, France: Icold.\n",
      "\n",
      "Jia, Y.\n",
      "\n",
      "& Chi, S. (2015).\n",
      "\n",
      "Back-analysis of soil parameters of the Malutang II concrete face rockfill dam using parallel mutation particle swarm optimization.\n",
      "\n",
      "Comput.\n",
      "\n",
      "Geotech.\n",
      "\n",
      "65, 87–96.\n",
      "\n",
      "Jia, J. S., Xu, Y., Hao, J. T. & Zhang, L. M., (2016).\n",
      "\n",
      "Localizing and quantifying leakage through CFRDs.\n",
      "\n",
      "J. Geotech.\n",
      "\n",
      "Geoenviron.\n",
      "\n",
      "Engng 142, No.\n",
      "\n",
      "9, 06016007.\n",
      "\n",
      "Comput.\n",
      "\n",
      "Geotech.\n",
      "\n",
      "38, No.\n",
      "\n",
      "7, 905–916.\n",
      "\n",
      "Arici, Y.\n",
      "\n",
      "(2013).\n",
      "\n",
      "Behaviour of the reinforced concrete face slabs of concrete faced rockfill dams during impounding.\n",
      "\n",
      "Struct.\n",
      "\n",
      "Infrastruct.\n",
      "\n",
      "Engng 9, No.\n",
      "\n",
      "9, 877–890.\n",
      "\n",
      "Battaglia, D., Birindelli, F., Rinaldi, M., Vettraino, E. & Bezzi, A.\n",
      "\n",
      "(2016).\n",
      "\n",
      "Fluorescent tracer tests for detection of dam leakages: the case of the Bumbuna dam – Sierra Leone.\n",
      "\n",
      "Engng Geol.\n",
      "\n",
      "205, 30–39.\n",
      "\n",
      "Jiang, G. & Cao, K. (1993).\n",
      "\n",
      "Concrete face rockfill dams in China.\n",
      "\n",
      "Proceedings of international symposium on high earth-rockfill dams, Beijing, China, pp.\n",
      "\n",
      "25–37.\n",
      "\n",
      "Brown, A. J.\n",
      "\n",
      "& Bruggemann, D. A.\n",
      "\n",
      "(2002).\n",
      "\n",
      "Arminou Dam, Cyprus, and construction joints in diaphragm cut-off walls.\n",
      "\n",
      "Géotechnique 52, No.\n",
      "\n",
      "1, 3–13, https://doi.org/10.1680/geot.2002.52.1.3.\n",
      "\n",
      "Charles, J.\n",
      "\n",
      "A.\n",
      "\n",
      "(2008).\n",
      "\n",
      "The engineering behaviour of fill materials: the use, misuse and disuse of case histories.\n",
      "\n",
      "Géotechnique 58, No.\n",
      "\n",
      "7, 541–570, http://dx.doi.org/10.1680/geot.2008.58.7.541.\n",
      "\n",
      "Kan, M. E. & Taiebat, H. A.\n",
      "\n",
      "(2016).\n",
      "\n",
      "Application of advanced bounding surface plasticity model in static and seismic analyses of Zipingpu Dam.\n",
      "\n",
      "Can.\n",
      "\n",
      "Geotech.\n",
      "\n",
      "J.\n",
      "\n",
      "53, No.\n",
      "\n",
      "3, 455–471.\n",
      "\n",
      "Karstunen, M. & Yin, Z. Y.\n",
      "\n",
      "(2010).\n"
     ]
    }
   ],
   "source": [
    "for doc in result['docs']:\n",
    "    print(doc.page_content)"
   ]
  },
  {
   "cell_type": "code",
   "execution_count": null,
   "id": "fd69affd",
   "metadata": {},
   "outputs": [],
   "source": []
  },
  {
   "cell_type": "code",
   "execution_count": null,
   "id": "1235cf85",
   "metadata": {},
   "outputs": [],
   "source": []
  },
  {
   "cell_type": "code",
   "execution_count": null,
   "id": "5397a5be",
   "metadata": {},
   "outputs": [],
   "source": []
  },
  {
   "cell_type": "code",
   "execution_count": null,
   "id": "cda6aa65",
   "metadata": {},
   "outputs": [],
   "source": []
  },
  {
   "cell_type": "code",
   "execution_count": null,
   "id": "3018f865",
   "metadata": {},
   "outputs": [],
   "source": [
    "from langchain.chains import RetrievalQA\n",
    "from langchain.chat_models import ChatOpenAI\n",
    "qa = RetrievalQA.from_chain_type(\n",
    "    llm=ChatOpenAI(temperature=0.5, max_tokens=2000),\n",
    "    chain_type=\"stuff\",\n",
    "    retriever=docsearch.as_retriever(),\n",
    "    return_source_documents=True,\n",
    "    )"
   ]
  },
  {
   "cell_type": "code",
   "execution_count": null,
   "id": "72993d3f",
   "metadata": {},
   "outputs": [],
   "source": [
    "def pretty_print(response):\n",
    "    import textwrap\n",
    "    # Split the response by lines of max 80 characters\n",
    "    return '\\n'.join(textwrap.wrap(response, 80))\n"
   ]
  },
  {
   "cell_type": "code",
   "execution_count": null,
   "id": "50996e7a",
   "metadata": {},
   "outputs": [
    {
     "ename": "InvalidRequestError",
     "evalue": "This model's maximum context length is 4097 tokens. However, you requested 4128 tokens (2128 in the messages, 2000 in the completion). Please reduce the length of the messages or completion.",
     "output_type": "error",
     "traceback": [
      "\u001b[1;31m---------------------------------------------------------------------------\u001b[0m",
      "\u001b[1;31mInvalidRequestError\u001b[0m                       Traceback (most recent call last)",
      "Cell \u001b[1;32mIn[22], line 2\u001b[0m\n\u001b[0;32m      1\u001b[0m query \u001b[39m=\u001b[39m \u001b[39m\"\u001b[39m\u001b[39mtell me about campos novos dam\u001b[39m\u001b[39m\"\u001b[39m\n\u001b[1;32m----> 2\u001b[0m result \u001b[39m=\u001b[39m qa({\u001b[39m\"\u001b[39;49m\u001b[39mquery\u001b[39;49m\u001b[39m\"\u001b[39;49m: query, \u001b[39m\"\u001b[39;49m\u001b[39mn\u001b[39;49m\u001b[39m\"\u001b[39;49m: \u001b[39m10\u001b[39;49m})\n",
      "File \u001b[1;32mc:\\Users\\juantello\\Anaconda3\\envs\\langchain\\Lib\\site-packages\\langchain\\chains\\base.py:116\u001b[0m, in \u001b[0;36mChain.__call__\u001b[1;34m(self, inputs, return_only_outputs)\u001b[0m\n\u001b[0;32m    114\u001b[0m \u001b[39mexcept\u001b[39;00m (\u001b[39mKeyboardInterrupt\u001b[39;00m, \u001b[39mException\u001b[39;00m) \u001b[39mas\u001b[39;00m e:\n\u001b[0;32m    115\u001b[0m     \u001b[39mself\u001b[39m\u001b[39m.\u001b[39mcallback_manager\u001b[39m.\u001b[39mon_chain_error(e, verbose\u001b[39m=\u001b[39m\u001b[39mself\u001b[39m\u001b[39m.\u001b[39mverbose)\n\u001b[1;32m--> 116\u001b[0m     \u001b[39mraise\u001b[39;00m e\n\u001b[0;32m    117\u001b[0m \u001b[39mself\u001b[39m\u001b[39m.\u001b[39mcallback_manager\u001b[39m.\u001b[39mon_chain_end(outputs, verbose\u001b[39m=\u001b[39m\u001b[39mself\u001b[39m\u001b[39m.\u001b[39mverbose)\n\u001b[0;32m    118\u001b[0m \u001b[39mreturn\u001b[39;00m \u001b[39mself\u001b[39m\u001b[39m.\u001b[39mprep_outputs(inputs, outputs, return_only_outputs)\n",
      "File \u001b[1;32mc:\\Users\\juantello\\Anaconda3\\envs\\langchain\\Lib\\site-packages\\langchain\\chains\\base.py:113\u001b[0m, in \u001b[0;36mChain.__call__\u001b[1;34m(self, inputs, return_only_outputs)\u001b[0m\n\u001b[0;32m    107\u001b[0m \u001b[39mself\u001b[39m\u001b[39m.\u001b[39mcallback_manager\u001b[39m.\u001b[39mon_chain_start(\n\u001b[0;32m    108\u001b[0m     {\u001b[39m\"\u001b[39m\u001b[39mname\u001b[39m\u001b[39m\"\u001b[39m: \u001b[39mself\u001b[39m\u001b[39m.\u001b[39m\u001b[39m__class__\u001b[39m\u001b[39m.\u001b[39m\u001b[39m__name__\u001b[39m},\n\u001b[0;32m    109\u001b[0m     inputs,\n\u001b[0;32m    110\u001b[0m     verbose\u001b[39m=\u001b[39m\u001b[39mself\u001b[39m\u001b[39m.\u001b[39mverbose,\n\u001b[0;32m    111\u001b[0m )\n\u001b[0;32m    112\u001b[0m \u001b[39mtry\u001b[39;00m:\n\u001b[1;32m--> 113\u001b[0m     outputs \u001b[39m=\u001b[39m \u001b[39mself\u001b[39;49m\u001b[39m.\u001b[39;49m_call(inputs)\n\u001b[0;32m    114\u001b[0m \u001b[39mexcept\u001b[39;00m (\u001b[39mKeyboardInterrupt\u001b[39;00m, \u001b[39mException\u001b[39;00m) \u001b[39mas\u001b[39;00m e:\n\u001b[0;32m    115\u001b[0m     \u001b[39mself\u001b[39m\u001b[39m.\u001b[39mcallback_manager\u001b[39m.\u001b[39mon_chain_error(e, verbose\u001b[39m=\u001b[39m\u001b[39mself\u001b[39m\u001b[39m.\u001b[39mverbose)\n",
      "File \u001b[1;32mc:\\Users\\juantello\\Anaconda3\\envs\\langchain\\Lib\\site-packages\\langchain\\chains\\retrieval_qa\\base.py:110\u001b[0m, in \u001b[0;36mBaseRetrievalQA._call\u001b[1;34m(self, inputs)\u001b[0m\n\u001b[0;32m    107\u001b[0m question \u001b[39m=\u001b[39m inputs[\u001b[39mself\u001b[39m\u001b[39m.\u001b[39minput_key]\n\u001b[0;32m    109\u001b[0m docs \u001b[39m=\u001b[39m \u001b[39mself\u001b[39m\u001b[39m.\u001b[39m_get_docs(question)\n\u001b[1;32m--> 110\u001b[0m answer, _ \u001b[39m=\u001b[39m \u001b[39mself\u001b[39;49m\u001b[39m.\u001b[39;49mcombine_documents_chain\u001b[39m.\u001b[39;49mcombine_docs(docs, question\u001b[39m=\u001b[39;49mquestion)\n\u001b[0;32m    112\u001b[0m \u001b[39mif\u001b[39;00m \u001b[39mself\u001b[39m\u001b[39m.\u001b[39mreturn_source_documents:\n\u001b[0;32m    113\u001b[0m     \u001b[39mreturn\u001b[39;00m {\u001b[39mself\u001b[39m\u001b[39m.\u001b[39moutput_key: answer, \u001b[39m\"\u001b[39m\u001b[39msource_documents\u001b[39m\u001b[39m\"\u001b[39m: docs}\n",
      "File \u001b[1;32mc:\\Users\\juantello\\Anaconda3\\envs\\langchain\\Lib\\site-packages\\langchain\\chains\\combine_documents\\stuff.py:89\u001b[0m, in \u001b[0;36mStuffDocumentsChain.combine_docs\u001b[1;34m(self, docs, **kwargs)\u001b[0m\n\u001b[0;32m     87\u001b[0m inputs \u001b[39m=\u001b[39m \u001b[39mself\u001b[39m\u001b[39m.\u001b[39m_get_inputs(docs, \u001b[39m*\u001b[39m\u001b[39m*\u001b[39mkwargs)\n\u001b[0;32m     88\u001b[0m \u001b[39m# Call predict on the LLM.\u001b[39;00m\n\u001b[1;32m---> 89\u001b[0m \u001b[39mreturn\u001b[39;00m \u001b[39mself\u001b[39;49m\u001b[39m.\u001b[39;49mllm_chain\u001b[39m.\u001b[39;49mpredict(\u001b[39m*\u001b[39;49m\u001b[39m*\u001b[39;49minputs), {}\n",
      "File \u001b[1;32mc:\\Users\\juantello\\Anaconda3\\envs\\langchain\\Lib\\site-packages\\langchain\\chains\\llm.py:151\u001b[0m, in \u001b[0;36mLLMChain.predict\u001b[1;34m(self, **kwargs)\u001b[0m\n\u001b[0;32m    137\u001b[0m \u001b[39mdef\u001b[39;00m \u001b[39mpredict\u001b[39m(\u001b[39mself\u001b[39m, \u001b[39m*\u001b[39m\u001b[39m*\u001b[39mkwargs: Any) \u001b[39m-\u001b[39m\u001b[39m>\u001b[39m \u001b[39mstr\u001b[39m:\n\u001b[0;32m    138\u001b[0m \u001b[39m    \u001b[39m\u001b[39m\"\"\"Format prompt with kwargs and pass to LLM.\u001b[39;00m\n\u001b[0;32m    139\u001b[0m \n\u001b[0;32m    140\u001b[0m \u001b[39m    Args:\u001b[39;00m\n\u001b[1;32m   (...)\u001b[0m\n\u001b[0;32m    149\u001b[0m \u001b[39m            completion = llm.predict(adjective=\"funny\")\u001b[39;00m\n\u001b[0;32m    150\u001b[0m \u001b[39m    \"\"\"\u001b[39;00m\n\u001b[1;32m--> 151\u001b[0m     \u001b[39mreturn\u001b[39;00m \u001b[39mself\u001b[39;49m(kwargs)[\u001b[39mself\u001b[39m\u001b[39m.\u001b[39moutput_key]\n",
      "File \u001b[1;32mc:\\Users\\juantello\\Anaconda3\\envs\\langchain\\Lib\\site-packages\\langchain\\chains\\base.py:116\u001b[0m, in \u001b[0;36mChain.__call__\u001b[1;34m(self, inputs, return_only_outputs)\u001b[0m\n\u001b[0;32m    114\u001b[0m \u001b[39mexcept\u001b[39;00m (\u001b[39mKeyboardInterrupt\u001b[39;00m, \u001b[39mException\u001b[39;00m) \u001b[39mas\u001b[39;00m e:\n\u001b[0;32m    115\u001b[0m     \u001b[39mself\u001b[39m\u001b[39m.\u001b[39mcallback_manager\u001b[39m.\u001b[39mon_chain_error(e, verbose\u001b[39m=\u001b[39m\u001b[39mself\u001b[39m\u001b[39m.\u001b[39mverbose)\n\u001b[1;32m--> 116\u001b[0m     \u001b[39mraise\u001b[39;00m e\n\u001b[0;32m    117\u001b[0m \u001b[39mself\u001b[39m\u001b[39m.\u001b[39mcallback_manager\u001b[39m.\u001b[39mon_chain_end(outputs, verbose\u001b[39m=\u001b[39m\u001b[39mself\u001b[39m\u001b[39m.\u001b[39mverbose)\n\u001b[0;32m    118\u001b[0m \u001b[39mreturn\u001b[39;00m \u001b[39mself\u001b[39m\u001b[39m.\u001b[39mprep_outputs(inputs, outputs, return_only_outputs)\n",
      "File \u001b[1;32mc:\\Users\\juantello\\Anaconda3\\envs\\langchain\\Lib\\site-packages\\langchain\\chains\\base.py:113\u001b[0m, in \u001b[0;36mChain.__call__\u001b[1;34m(self, inputs, return_only_outputs)\u001b[0m\n\u001b[0;32m    107\u001b[0m \u001b[39mself\u001b[39m\u001b[39m.\u001b[39mcallback_manager\u001b[39m.\u001b[39mon_chain_start(\n\u001b[0;32m    108\u001b[0m     {\u001b[39m\"\u001b[39m\u001b[39mname\u001b[39m\u001b[39m\"\u001b[39m: \u001b[39mself\u001b[39m\u001b[39m.\u001b[39m\u001b[39m__class__\u001b[39m\u001b[39m.\u001b[39m\u001b[39m__name__\u001b[39m},\n\u001b[0;32m    109\u001b[0m     inputs,\n\u001b[0;32m    110\u001b[0m     verbose\u001b[39m=\u001b[39m\u001b[39mself\u001b[39m\u001b[39m.\u001b[39mverbose,\n\u001b[0;32m    111\u001b[0m )\n\u001b[0;32m    112\u001b[0m \u001b[39mtry\u001b[39;00m:\n\u001b[1;32m--> 113\u001b[0m     outputs \u001b[39m=\u001b[39m \u001b[39mself\u001b[39;49m\u001b[39m.\u001b[39;49m_call(inputs)\n\u001b[0;32m    114\u001b[0m \u001b[39mexcept\u001b[39;00m (\u001b[39mKeyboardInterrupt\u001b[39;00m, \u001b[39mException\u001b[39;00m) \u001b[39mas\u001b[39;00m e:\n\u001b[0;32m    115\u001b[0m     \u001b[39mself\u001b[39m\u001b[39m.\u001b[39mcallback_manager\u001b[39m.\u001b[39mon_chain_error(e, verbose\u001b[39m=\u001b[39m\u001b[39mself\u001b[39m\u001b[39m.\u001b[39mverbose)\n",
      "File \u001b[1;32mc:\\Users\\juantello\\Anaconda3\\envs\\langchain\\Lib\\site-packages\\langchain\\chains\\llm.py:57\u001b[0m, in \u001b[0;36mLLMChain._call\u001b[1;34m(self, inputs)\u001b[0m\n\u001b[0;32m     56\u001b[0m \u001b[39mdef\u001b[39;00m \u001b[39m_call\u001b[39m(\u001b[39mself\u001b[39m, inputs: Dict[\u001b[39mstr\u001b[39m, Any]) \u001b[39m-\u001b[39m\u001b[39m>\u001b[39m Dict[\u001b[39mstr\u001b[39m, \u001b[39mstr\u001b[39m]:\n\u001b[1;32m---> 57\u001b[0m     \u001b[39mreturn\u001b[39;00m \u001b[39mself\u001b[39;49m\u001b[39m.\u001b[39;49mapply([inputs])[\u001b[39m0\u001b[39m]\n",
      "File \u001b[1;32mc:\\Users\\juantello\\Anaconda3\\envs\\langchain\\Lib\\site-packages\\langchain\\chains\\llm.py:118\u001b[0m, in \u001b[0;36mLLMChain.apply\u001b[1;34m(self, input_list)\u001b[0m\n\u001b[0;32m    116\u001b[0m \u001b[39mdef\u001b[39;00m \u001b[39mapply\u001b[39m(\u001b[39mself\u001b[39m, input_list: List[Dict[\u001b[39mstr\u001b[39m, Any]]) \u001b[39m-\u001b[39m\u001b[39m>\u001b[39m List[Dict[\u001b[39mstr\u001b[39m, \u001b[39mstr\u001b[39m]]:\n\u001b[0;32m    117\u001b[0m \u001b[39m    \u001b[39m\u001b[39m\"\"\"Utilize the LLM generate method for speed gains.\"\"\"\u001b[39;00m\n\u001b[1;32m--> 118\u001b[0m     response \u001b[39m=\u001b[39m \u001b[39mself\u001b[39;49m\u001b[39m.\u001b[39;49mgenerate(input_list)\n\u001b[0;32m    119\u001b[0m     \u001b[39mreturn\u001b[39;00m \u001b[39mself\u001b[39m\u001b[39m.\u001b[39mcreate_outputs(response)\n",
      "File \u001b[1;32mc:\\Users\\juantello\\Anaconda3\\envs\\langchain\\Lib\\site-packages\\langchain\\chains\\llm.py:62\u001b[0m, in \u001b[0;36mLLMChain.generate\u001b[1;34m(self, input_list)\u001b[0m\n\u001b[0;32m     60\u001b[0m \u001b[39m\u001b[39m\u001b[39m\"\"\"Generate LLM result from inputs.\"\"\"\u001b[39;00m\n\u001b[0;32m     61\u001b[0m prompts, stop \u001b[39m=\u001b[39m \u001b[39mself\u001b[39m\u001b[39m.\u001b[39mprep_prompts(input_list)\n\u001b[1;32m---> 62\u001b[0m \u001b[39mreturn\u001b[39;00m \u001b[39mself\u001b[39;49m\u001b[39m.\u001b[39;49mllm\u001b[39m.\u001b[39;49mgenerate_prompt(prompts, stop)\n",
      "File \u001b[1;32mc:\\Users\\juantello\\Anaconda3\\envs\\langchain\\Lib\\site-packages\\langchain\\chat_models\\base.py:82\u001b[0m, in \u001b[0;36mBaseChatModel.generate_prompt\u001b[1;34m(self, prompts, stop)\u001b[0m\n\u001b[0;32m     80\u001b[0m \u001b[39mexcept\u001b[39;00m (\u001b[39mKeyboardInterrupt\u001b[39;00m, \u001b[39mException\u001b[39;00m) \u001b[39mas\u001b[39;00m e:\n\u001b[0;32m     81\u001b[0m     \u001b[39mself\u001b[39m\u001b[39m.\u001b[39mcallback_manager\u001b[39m.\u001b[39mon_llm_error(e, verbose\u001b[39m=\u001b[39m\u001b[39mself\u001b[39m\u001b[39m.\u001b[39mverbose)\n\u001b[1;32m---> 82\u001b[0m     \u001b[39mraise\u001b[39;00m e\n\u001b[0;32m     83\u001b[0m \u001b[39mself\u001b[39m\u001b[39m.\u001b[39mcallback_manager\u001b[39m.\u001b[39mon_llm_end(output, verbose\u001b[39m=\u001b[39m\u001b[39mself\u001b[39m\u001b[39m.\u001b[39mverbose)\n\u001b[0;32m     84\u001b[0m \u001b[39mreturn\u001b[39;00m output\n",
      "File \u001b[1;32mc:\\Users\\juantello\\Anaconda3\\envs\\langchain\\Lib\\site-packages\\langchain\\chat_models\\base.py:79\u001b[0m, in \u001b[0;36mBaseChatModel.generate_prompt\u001b[1;34m(self, prompts, stop)\u001b[0m\n\u001b[0;32m     75\u001b[0m \u001b[39mself\u001b[39m\u001b[39m.\u001b[39mcallback_manager\u001b[39m.\u001b[39mon_llm_start(\n\u001b[0;32m     76\u001b[0m     {\u001b[39m\"\u001b[39m\u001b[39mname\u001b[39m\u001b[39m\"\u001b[39m: \u001b[39mself\u001b[39m\u001b[39m.\u001b[39m\u001b[39m__class__\u001b[39m\u001b[39m.\u001b[39m\u001b[39m__name__\u001b[39m}, prompt_strings, verbose\u001b[39m=\u001b[39m\u001b[39mself\u001b[39m\u001b[39m.\u001b[39mverbose\n\u001b[0;32m     77\u001b[0m )\n\u001b[0;32m     78\u001b[0m \u001b[39mtry\u001b[39;00m:\n\u001b[1;32m---> 79\u001b[0m     output \u001b[39m=\u001b[39m \u001b[39mself\u001b[39;49m\u001b[39m.\u001b[39;49mgenerate(prompt_messages, stop\u001b[39m=\u001b[39;49mstop)\n\u001b[0;32m     80\u001b[0m \u001b[39mexcept\u001b[39;00m (\u001b[39mKeyboardInterrupt\u001b[39;00m, \u001b[39mException\u001b[39;00m) \u001b[39mas\u001b[39;00m e:\n\u001b[0;32m     81\u001b[0m     \u001b[39mself\u001b[39m\u001b[39m.\u001b[39mcallback_manager\u001b[39m.\u001b[39mon_llm_error(e, verbose\u001b[39m=\u001b[39m\u001b[39mself\u001b[39m\u001b[39m.\u001b[39mverbose)\n",
      "File \u001b[1;32mc:\\Users\\juantello\\Anaconda3\\envs\\langchain\\Lib\\site-packages\\langchain\\chat_models\\base.py:54\u001b[0m, in \u001b[0;36mBaseChatModel.generate\u001b[1;34m(self, messages, stop)\u001b[0m\n\u001b[0;32m     50\u001b[0m \u001b[39mdef\u001b[39;00m \u001b[39mgenerate\u001b[39m(\n\u001b[0;32m     51\u001b[0m     \u001b[39mself\u001b[39m, messages: List[List[BaseMessage]], stop: Optional[List[\u001b[39mstr\u001b[39m]] \u001b[39m=\u001b[39m \u001b[39mNone\u001b[39;00m\n\u001b[0;32m     52\u001b[0m ) \u001b[39m-\u001b[39m\u001b[39m>\u001b[39m LLMResult:\n\u001b[0;32m     53\u001b[0m \u001b[39m    \u001b[39m\u001b[39m\"\"\"Top Level call\"\"\"\u001b[39;00m\n\u001b[1;32m---> 54\u001b[0m     results \u001b[39m=\u001b[39m [\u001b[39mself\u001b[39;49m\u001b[39m.\u001b[39;49m_generate(m, stop\u001b[39m=\u001b[39;49mstop) \u001b[39mfor\u001b[39;49;00m m \u001b[39min\u001b[39;49;00m messages]\n\u001b[0;32m     55\u001b[0m     llm_output \u001b[39m=\u001b[39m \u001b[39mself\u001b[39m\u001b[39m.\u001b[39m_combine_llm_outputs([res\u001b[39m.\u001b[39mllm_output \u001b[39mfor\u001b[39;00m res \u001b[39min\u001b[39;00m results])\n\u001b[0;32m     56\u001b[0m     generations \u001b[39m=\u001b[39m [res\u001b[39m.\u001b[39mgenerations \u001b[39mfor\u001b[39;00m res \u001b[39min\u001b[39;00m results]\n",
      "File \u001b[1;32mc:\\Users\\juantello\\Anaconda3\\envs\\langchain\\Lib\\site-packages\\langchain\\chat_models\\base.py:54\u001b[0m, in \u001b[0;36m<listcomp>\u001b[1;34m(.0)\u001b[0m\n\u001b[0;32m     50\u001b[0m \u001b[39mdef\u001b[39;00m \u001b[39mgenerate\u001b[39m(\n\u001b[0;32m     51\u001b[0m     \u001b[39mself\u001b[39m, messages: List[List[BaseMessage]], stop: Optional[List[\u001b[39mstr\u001b[39m]] \u001b[39m=\u001b[39m \u001b[39mNone\u001b[39;00m\n\u001b[0;32m     52\u001b[0m ) \u001b[39m-\u001b[39m\u001b[39m>\u001b[39m LLMResult:\n\u001b[0;32m     53\u001b[0m \u001b[39m    \u001b[39m\u001b[39m\"\"\"Top Level call\"\"\"\u001b[39;00m\n\u001b[1;32m---> 54\u001b[0m     results \u001b[39m=\u001b[39m [\u001b[39mself\u001b[39;49m\u001b[39m.\u001b[39;49m_generate(m, stop\u001b[39m=\u001b[39;49mstop) \u001b[39mfor\u001b[39;00m m \u001b[39min\u001b[39;00m messages]\n\u001b[0;32m     55\u001b[0m     llm_output \u001b[39m=\u001b[39m \u001b[39mself\u001b[39m\u001b[39m.\u001b[39m_combine_llm_outputs([res\u001b[39m.\u001b[39mllm_output \u001b[39mfor\u001b[39;00m res \u001b[39min\u001b[39;00m results])\n\u001b[0;32m     56\u001b[0m     generations \u001b[39m=\u001b[39m [res\u001b[39m.\u001b[39mgenerations \u001b[39mfor\u001b[39;00m res \u001b[39min\u001b[39;00m results]\n",
      "File \u001b[1;32mc:\\Users\\juantello\\Anaconda3\\envs\\langchain\\Lib\\site-packages\\langchain\\chat_models\\openai.py:266\u001b[0m, in \u001b[0;36mChatOpenAI._generate\u001b[1;34m(self, messages, stop)\u001b[0m\n\u001b[0;32m    262\u001b[0m     message \u001b[39m=\u001b[39m _convert_dict_to_message(\n\u001b[0;32m    263\u001b[0m         {\u001b[39m\"\u001b[39m\u001b[39mcontent\u001b[39m\u001b[39m\"\u001b[39m: inner_completion, \u001b[39m\"\u001b[39m\u001b[39mrole\u001b[39m\u001b[39m\"\u001b[39m: role}\n\u001b[0;32m    264\u001b[0m     )\n\u001b[0;32m    265\u001b[0m     \u001b[39mreturn\u001b[39;00m ChatResult(generations\u001b[39m=\u001b[39m[ChatGeneration(message\u001b[39m=\u001b[39mmessage)])\n\u001b[1;32m--> 266\u001b[0m response \u001b[39m=\u001b[39m \u001b[39mself\u001b[39;49m\u001b[39m.\u001b[39;49mcompletion_with_retry(messages\u001b[39m=\u001b[39;49mmessage_dicts, \u001b[39m*\u001b[39;49m\u001b[39m*\u001b[39;49mparams)\n\u001b[0;32m    267\u001b[0m \u001b[39mreturn\u001b[39;00m \u001b[39mself\u001b[39m\u001b[39m.\u001b[39m_create_chat_result(response)\n",
      "File \u001b[1;32mc:\\Users\\juantello\\Anaconda3\\envs\\langchain\\Lib\\site-packages\\langchain\\chat_models\\openai.py:228\u001b[0m, in \u001b[0;36mChatOpenAI.completion_with_retry\u001b[1;34m(self, **kwargs)\u001b[0m\n\u001b[0;32m    224\u001b[0m \u001b[39m@retry_decorator\u001b[39m\n\u001b[0;32m    225\u001b[0m \u001b[39mdef\u001b[39;00m \u001b[39m_completion_with_retry\u001b[39m(\u001b[39m*\u001b[39m\u001b[39m*\u001b[39mkwargs: Any) \u001b[39m-\u001b[39m\u001b[39m>\u001b[39m Any:\n\u001b[0;32m    226\u001b[0m     \u001b[39mreturn\u001b[39;00m \u001b[39mself\u001b[39m\u001b[39m.\u001b[39mclient\u001b[39m.\u001b[39mcreate(\u001b[39m*\u001b[39m\u001b[39m*\u001b[39mkwargs)\n\u001b[1;32m--> 228\u001b[0m \u001b[39mreturn\u001b[39;00m _completion_with_retry(\u001b[39m*\u001b[39;49m\u001b[39m*\u001b[39;49mkwargs)\n",
      "File \u001b[1;32mc:\\Users\\juantello\\Anaconda3\\envs\\langchain\\Lib\\site-packages\\tenacity\\__init__.py:289\u001b[0m, in \u001b[0;36mBaseRetrying.wraps.<locals>.wrapped_f\u001b[1;34m(*args, **kw)\u001b[0m\n\u001b[0;32m    287\u001b[0m \u001b[39m@functools\u001b[39m\u001b[39m.\u001b[39mwraps(f)\n\u001b[0;32m    288\u001b[0m \u001b[39mdef\u001b[39;00m \u001b[39mwrapped_f\u001b[39m(\u001b[39m*\u001b[39margs: t\u001b[39m.\u001b[39mAny, \u001b[39m*\u001b[39m\u001b[39m*\u001b[39mkw: t\u001b[39m.\u001b[39mAny) \u001b[39m-\u001b[39m\u001b[39m>\u001b[39m t\u001b[39m.\u001b[39mAny:\n\u001b[1;32m--> 289\u001b[0m     \u001b[39mreturn\u001b[39;00m \u001b[39mself\u001b[39;49m(f, \u001b[39m*\u001b[39;49margs, \u001b[39m*\u001b[39;49m\u001b[39m*\u001b[39;49mkw)\n",
      "File \u001b[1;32mc:\\Users\\juantello\\Anaconda3\\envs\\langchain\\Lib\\site-packages\\tenacity\\__init__.py:379\u001b[0m, in \u001b[0;36mRetrying.__call__\u001b[1;34m(self, fn, *args, **kwargs)\u001b[0m\n\u001b[0;32m    377\u001b[0m retry_state \u001b[39m=\u001b[39m RetryCallState(retry_object\u001b[39m=\u001b[39m\u001b[39mself\u001b[39m, fn\u001b[39m=\u001b[39mfn, args\u001b[39m=\u001b[39margs, kwargs\u001b[39m=\u001b[39mkwargs)\n\u001b[0;32m    378\u001b[0m \u001b[39mwhile\u001b[39;00m \u001b[39mTrue\u001b[39;00m:\n\u001b[1;32m--> 379\u001b[0m     do \u001b[39m=\u001b[39m \u001b[39mself\u001b[39;49m\u001b[39m.\u001b[39;49miter(retry_state\u001b[39m=\u001b[39;49mretry_state)\n\u001b[0;32m    380\u001b[0m     \u001b[39mif\u001b[39;00m \u001b[39misinstance\u001b[39m(do, DoAttempt):\n\u001b[0;32m    381\u001b[0m         \u001b[39mtry\u001b[39;00m:\n",
      "File \u001b[1;32mc:\\Users\\juantello\\Anaconda3\\envs\\langchain\\Lib\\site-packages\\tenacity\\__init__.py:314\u001b[0m, in \u001b[0;36mBaseRetrying.iter\u001b[1;34m(self, retry_state)\u001b[0m\n\u001b[0;32m    312\u001b[0m is_explicit_retry \u001b[39m=\u001b[39m fut\u001b[39m.\u001b[39mfailed \u001b[39mand\u001b[39;00m \u001b[39misinstance\u001b[39m(fut\u001b[39m.\u001b[39mexception(), TryAgain)\n\u001b[0;32m    313\u001b[0m \u001b[39mif\u001b[39;00m \u001b[39mnot\u001b[39;00m (is_explicit_retry \u001b[39mor\u001b[39;00m \u001b[39mself\u001b[39m\u001b[39m.\u001b[39mretry(retry_state)):\n\u001b[1;32m--> 314\u001b[0m     \u001b[39mreturn\u001b[39;00m fut\u001b[39m.\u001b[39;49mresult()\n\u001b[0;32m    316\u001b[0m \u001b[39mif\u001b[39;00m \u001b[39mself\u001b[39m\u001b[39m.\u001b[39mafter \u001b[39mis\u001b[39;00m \u001b[39mnot\u001b[39;00m \u001b[39mNone\u001b[39;00m:\n\u001b[0;32m    317\u001b[0m     \u001b[39mself\u001b[39m\u001b[39m.\u001b[39mafter(retry_state)\n",
      "File \u001b[1;32mc:\\Users\\juantello\\Anaconda3\\envs\\langchain\\Lib\\concurrent\\futures\\_base.py:449\u001b[0m, in \u001b[0;36mFuture.result\u001b[1;34m(self, timeout)\u001b[0m\n\u001b[0;32m    447\u001b[0m     \u001b[39mraise\u001b[39;00m CancelledError()\n\u001b[0;32m    448\u001b[0m \u001b[39melif\u001b[39;00m \u001b[39mself\u001b[39m\u001b[39m.\u001b[39m_state \u001b[39m==\u001b[39m FINISHED:\n\u001b[1;32m--> 449\u001b[0m     \u001b[39mreturn\u001b[39;00m \u001b[39mself\u001b[39;49m\u001b[39m.\u001b[39;49m__get_result()\n\u001b[0;32m    451\u001b[0m \u001b[39mself\u001b[39m\u001b[39m.\u001b[39m_condition\u001b[39m.\u001b[39mwait(timeout)\n\u001b[0;32m    453\u001b[0m \u001b[39mif\u001b[39;00m \u001b[39mself\u001b[39m\u001b[39m.\u001b[39m_state \u001b[39min\u001b[39;00m [CANCELLED, CANCELLED_AND_NOTIFIED]:\n",
      "File \u001b[1;32mc:\\Users\\juantello\\Anaconda3\\envs\\langchain\\Lib\\concurrent\\futures\\_base.py:401\u001b[0m, in \u001b[0;36mFuture.__get_result\u001b[1;34m(self)\u001b[0m\n\u001b[0;32m    399\u001b[0m \u001b[39mif\u001b[39;00m \u001b[39mself\u001b[39m\u001b[39m.\u001b[39m_exception:\n\u001b[0;32m    400\u001b[0m     \u001b[39mtry\u001b[39;00m:\n\u001b[1;32m--> 401\u001b[0m         \u001b[39mraise\u001b[39;00m \u001b[39mself\u001b[39m\u001b[39m.\u001b[39m_exception\n\u001b[0;32m    402\u001b[0m     \u001b[39mfinally\u001b[39;00m:\n\u001b[0;32m    403\u001b[0m         \u001b[39m# Break a reference cycle with the exception in self._exception\u001b[39;00m\n\u001b[0;32m    404\u001b[0m         \u001b[39mself\u001b[39m \u001b[39m=\u001b[39m \u001b[39mNone\u001b[39;00m\n",
      "File \u001b[1;32mc:\\Users\\juantello\\Anaconda3\\envs\\langchain\\Lib\\site-packages\\tenacity\\__init__.py:382\u001b[0m, in \u001b[0;36mRetrying.__call__\u001b[1;34m(self, fn, *args, **kwargs)\u001b[0m\n\u001b[0;32m    380\u001b[0m \u001b[39mif\u001b[39;00m \u001b[39misinstance\u001b[39m(do, DoAttempt):\n\u001b[0;32m    381\u001b[0m     \u001b[39mtry\u001b[39;00m:\n\u001b[1;32m--> 382\u001b[0m         result \u001b[39m=\u001b[39m fn(\u001b[39m*\u001b[39;49margs, \u001b[39m*\u001b[39;49m\u001b[39m*\u001b[39;49mkwargs)\n\u001b[0;32m    383\u001b[0m     \u001b[39mexcept\u001b[39;00m \u001b[39mBaseException\u001b[39;00m:  \u001b[39m# noqa: B902\u001b[39;00m\n\u001b[0;32m    384\u001b[0m         retry_state\u001b[39m.\u001b[39mset_exception(sys\u001b[39m.\u001b[39mexc_info())  \u001b[39m# type: ignore[arg-type]\u001b[39;00m\n",
      "File \u001b[1;32mc:\\Users\\juantello\\Anaconda3\\envs\\langchain\\Lib\\site-packages\\langchain\\chat_models\\openai.py:226\u001b[0m, in \u001b[0;36mChatOpenAI.completion_with_retry.<locals>._completion_with_retry\u001b[1;34m(**kwargs)\u001b[0m\n\u001b[0;32m    224\u001b[0m \u001b[39m@retry_decorator\u001b[39m\n\u001b[0;32m    225\u001b[0m \u001b[39mdef\u001b[39;00m \u001b[39m_completion_with_retry\u001b[39m(\u001b[39m*\u001b[39m\u001b[39m*\u001b[39mkwargs: Any) \u001b[39m-\u001b[39m\u001b[39m>\u001b[39m Any:\n\u001b[1;32m--> 226\u001b[0m     \u001b[39mreturn\u001b[39;00m \u001b[39mself\u001b[39;49m\u001b[39m.\u001b[39;49mclient\u001b[39m.\u001b[39;49mcreate(\u001b[39m*\u001b[39;49m\u001b[39m*\u001b[39;49mkwargs)\n",
      "File \u001b[1;32mc:\\Users\\juantello\\Anaconda3\\envs\\langchain\\Lib\\site-packages\\openai\\api_resources\\chat_completion.py:25\u001b[0m, in \u001b[0;36mChatCompletion.create\u001b[1;34m(cls, *args, **kwargs)\u001b[0m\n\u001b[0;32m     23\u001b[0m \u001b[39mwhile\u001b[39;00m \u001b[39mTrue\u001b[39;00m:\n\u001b[0;32m     24\u001b[0m     \u001b[39mtry\u001b[39;00m:\n\u001b[1;32m---> 25\u001b[0m         \u001b[39mreturn\u001b[39;00m \u001b[39msuper\u001b[39;49m()\u001b[39m.\u001b[39;49mcreate(\u001b[39m*\u001b[39;49margs, \u001b[39m*\u001b[39;49m\u001b[39m*\u001b[39;49mkwargs)\n\u001b[0;32m     26\u001b[0m     \u001b[39mexcept\u001b[39;00m TryAgain \u001b[39mas\u001b[39;00m e:\n\u001b[0;32m     27\u001b[0m         \u001b[39mif\u001b[39;00m timeout \u001b[39mis\u001b[39;00m \u001b[39mnot\u001b[39;00m \u001b[39mNone\u001b[39;00m \u001b[39mand\u001b[39;00m time\u001b[39m.\u001b[39mtime() \u001b[39m>\u001b[39m start \u001b[39m+\u001b[39m timeout:\n",
      "File \u001b[1;32mc:\\Users\\juantello\\Anaconda3\\envs\\langchain\\Lib\\site-packages\\openai\\api_resources\\abstract\\engine_api_resource.py:153\u001b[0m, in \u001b[0;36mEngineAPIResource.create\u001b[1;34m(cls, api_key, api_base, api_type, request_id, api_version, organization, **params)\u001b[0m\n\u001b[0;32m    127\u001b[0m \u001b[39m@classmethod\u001b[39m\n\u001b[0;32m    128\u001b[0m \u001b[39mdef\u001b[39;00m \u001b[39mcreate\u001b[39m(\n\u001b[0;32m    129\u001b[0m     \u001b[39mcls\u001b[39m,\n\u001b[1;32m   (...)\u001b[0m\n\u001b[0;32m    136\u001b[0m     \u001b[39m*\u001b[39m\u001b[39m*\u001b[39mparams,\n\u001b[0;32m    137\u001b[0m ):\n\u001b[0;32m    138\u001b[0m     (\n\u001b[0;32m    139\u001b[0m         deployment_id,\n\u001b[0;32m    140\u001b[0m         engine,\n\u001b[1;32m   (...)\u001b[0m\n\u001b[0;32m    150\u001b[0m         api_key, api_base, api_type, api_version, organization, \u001b[39m*\u001b[39m\u001b[39m*\u001b[39mparams\n\u001b[0;32m    151\u001b[0m     )\n\u001b[1;32m--> 153\u001b[0m     response, _, api_key \u001b[39m=\u001b[39m requestor\u001b[39m.\u001b[39;49mrequest(\n\u001b[0;32m    154\u001b[0m         \u001b[39m\"\u001b[39;49m\u001b[39mpost\u001b[39;49m\u001b[39m\"\u001b[39;49m,\n\u001b[0;32m    155\u001b[0m         url,\n\u001b[0;32m    156\u001b[0m         params\u001b[39m=\u001b[39;49mparams,\n\u001b[0;32m    157\u001b[0m         headers\u001b[39m=\u001b[39;49mheaders,\n\u001b[0;32m    158\u001b[0m         stream\u001b[39m=\u001b[39;49mstream,\n\u001b[0;32m    159\u001b[0m         request_id\u001b[39m=\u001b[39;49mrequest_id,\n\u001b[0;32m    160\u001b[0m         request_timeout\u001b[39m=\u001b[39;49mrequest_timeout,\n\u001b[0;32m    161\u001b[0m     )\n\u001b[0;32m    163\u001b[0m     \u001b[39mif\u001b[39;00m stream:\n\u001b[0;32m    164\u001b[0m         \u001b[39m# must be an iterator\u001b[39;00m\n\u001b[0;32m    165\u001b[0m         \u001b[39massert\u001b[39;00m \u001b[39mnot\u001b[39;00m \u001b[39misinstance\u001b[39m(response, OpenAIResponse)\n",
      "File \u001b[1;32mc:\\Users\\juantello\\Anaconda3\\envs\\langchain\\Lib\\site-packages\\openai\\api_requestor.py:226\u001b[0m, in \u001b[0;36mAPIRequestor.request\u001b[1;34m(self, method, url, params, headers, files, stream, request_id, request_timeout)\u001b[0m\n\u001b[0;32m    205\u001b[0m \u001b[39mdef\u001b[39;00m \u001b[39mrequest\u001b[39m(\n\u001b[0;32m    206\u001b[0m     \u001b[39mself\u001b[39m,\n\u001b[0;32m    207\u001b[0m     method,\n\u001b[1;32m   (...)\u001b[0m\n\u001b[0;32m    214\u001b[0m     request_timeout: Optional[Union[\u001b[39mfloat\u001b[39m, Tuple[\u001b[39mfloat\u001b[39m, \u001b[39mfloat\u001b[39m]]] \u001b[39m=\u001b[39m \u001b[39mNone\u001b[39;00m,\n\u001b[0;32m    215\u001b[0m ) \u001b[39m-\u001b[39m\u001b[39m>\u001b[39m Tuple[Union[OpenAIResponse, Iterator[OpenAIResponse]], \u001b[39mbool\u001b[39m, \u001b[39mstr\u001b[39m]:\n\u001b[0;32m    216\u001b[0m     result \u001b[39m=\u001b[39m \u001b[39mself\u001b[39m\u001b[39m.\u001b[39mrequest_raw(\n\u001b[0;32m    217\u001b[0m         method\u001b[39m.\u001b[39mlower(),\n\u001b[0;32m    218\u001b[0m         url,\n\u001b[1;32m   (...)\u001b[0m\n\u001b[0;32m    224\u001b[0m         request_timeout\u001b[39m=\u001b[39mrequest_timeout,\n\u001b[0;32m    225\u001b[0m     )\n\u001b[1;32m--> 226\u001b[0m     resp, got_stream \u001b[39m=\u001b[39m \u001b[39mself\u001b[39;49m\u001b[39m.\u001b[39;49m_interpret_response(result, stream)\n\u001b[0;32m    227\u001b[0m     \u001b[39mreturn\u001b[39;00m resp, got_stream, \u001b[39mself\u001b[39m\u001b[39m.\u001b[39mapi_key\n",
      "File \u001b[1;32mc:\\Users\\juantello\\Anaconda3\\envs\\langchain\\Lib\\site-packages\\openai\\api_requestor.py:619\u001b[0m, in \u001b[0;36mAPIRequestor._interpret_response\u001b[1;34m(self, result, stream)\u001b[0m\n\u001b[0;32m    611\u001b[0m     \u001b[39mreturn\u001b[39;00m (\n\u001b[0;32m    612\u001b[0m         \u001b[39mself\u001b[39m\u001b[39m.\u001b[39m_interpret_response_line(\n\u001b[0;32m    613\u001b[0m             line, result\u001b[39m.\u001b[39mstatus_code, result\u001b[39m.\u001b[39mheaders, stream\u001b[39m=\u001b[39m\u001b[39mTrue\u001b[39;00m\n\u001b[0;32m    614\u001b[0m         )\n\u001b[0;32m    615\u001b[0m         \u001b[39mfor\u001b[39;00m line \u001b[39min\u001b[39;00m parse_stream(result\u001b[39m.\u001b[39miter_lines())\n\u001b[0;32m    616\u001b[0m     ), \u001b[39mTrue\u001b[39;00m\n\u001b[0;32m    617\u001b[0m \u001b[39melse\u001b[39;00m:\n\u001b[0;32m    618\u001b[0m     \u001b[39mreturn\u001b[39;00m (\n\u001b[1;32m--> 619\u001b[0m         \u001b[39mself\u001b[39;49m\u001b[39m.\u001b[39;49m_interpret_response_line(\n\u001b[0;32m    620\u001b[0m             result\u001b[39m.\u001b[39;49mcontent\u001b[39m.\u001b[39;49mdecode(\u001b[39m\"\u001b[39;49m\u001b[39mutf-8\u001b[39;49m\u001b[39m\"\u001b[39;49m),\n\u001b[0;32m    621\u001b[0m             result\u001b[39m.\u001b[39;49mstatus_code,\n\u001b[0;32m    622\u001b[0m             result\u001b[39m.\u001b[39;49mheaders,\n\u001b[0;32m    623\u001b[0m             stream\u001b[39m=\u001b[39;49m\u001b[39mFalse\u001b[39;49;00m,\n\u001b[0;32m    624\u001b[0m         ),\n\u001b[0;32m    625\u001b[0m         \u001b[39mFalse\u001b[39;00m,\n\u001b[0;32m    626\u001b[0m     )\n",
      "File \u001b[1;32mc:\\Users\\juantello\\Anaconda3\\envs\\langchain\\Lib\\site-packages\\openai\\api_requestor.py:682\u001b[0m, in \u001b[0;36mAPIRequestor._interpret_response_line\u001b[1;34m(self, rbody, rcode, rheaders, stream)\u001b[0m\n\u001b[0;32m    680\u001b[0m stream_error \u001b[39m=\u001b[39m stream \u001b[39mand\u001b[39;00m \u001b[39m\"\u001b[39m\u001b[39merror\u001b[39m\u001b[39m\"\u001b[39m \u001b[39min\u001b[39;00m resp\u001b[39m.\u001b[39mdata\n\u001b[0;32m    681\u001b[0m \u001b[39mif\u001b[39;00m stream_error \u001b[39mor\u001b[39;00m \u001b[39mnot\u001b[39;00m \u001b[39m200\u001b[39m \u001b[39m<\u001b[39m\u001b[39m=\u001b[39m rcode \u001b[39m<\u001b[39m \u001b[39m300\u001b[39m:\n\u001b[1;32m--> 682\u001b[0m     \u001b[39mraise\u001b[39;00m \u001b[39mself\u001b[39m\u001b[39m.\u001b[39mhandle_error_response(\n\u001b[0;32m    683\u001b[0m         rbody, rcode, resp\u001b[39m.\u001b[39mdata, rheaders, stream_error\u001b[39m=\u001b[39mstream_error\n\u001b[0;32m    684\u001b[0m     )\n\u001b[0;32m    685\u001b[0m \u001b[39mreturn\u001b[39;00m resp\n",
      "\u001b[1;31mInvalidRequestError\u001b[0m: This model's maximum context length is 4097 tokens. However, you requested 4128 tokens (2128 in the messages, 2000 in the completion). Please reduce the length of the messages or completion."
     ]
    }
   ],
   "source": [
    "query = \"tell me about campos novos dam\"\n",
    "result = qa({\"query\": query, \"n\": 10})"
   ]
  },
  {
   "cell_type": "code",
   "execution_count": null,
   "id": "5724ba26",
   "metadata": {},
   "outputs": [
    {
     "name": "stdout",
     "output_type": "stream",
     "text": [
      "The methodology described in the given context has been used to reproduce\n",
      "various aspects of the behavior observed in different dams around the world,\n",
      "including Campos Novos Dam in Brazil. However, the given context does not\n",
      "provide detailed information about Campos Novos Dam. If you need more\n",
      "information about it, please let me know, and I will try to help you find it.\n"
     ]
    }
   ],
   "source": [
    "print(pretty_print(result['result']))"
   ]
  },
  {
   "cell_type": "code",
   "execution_count": null,
   "id": "6ba86835",
   "metadata": {},
   "outputs": [
    {
     "data": {
      "text/plain": [
       "'G:\\\\.shortcut-targets-by-id\\\\1vE28d8xZuJXkpcinFbuku9FJgeaDd48K\\\\ICOLD - CFRD New Bulletin 2023\\\\B141_unlocked.pdf'"
      ]
     },
     "execution_count": 57,
     "metadata": {},
     "output_type": "execute_result"
    }
   ],
   "source": [
    "result['source_documents'][3].metadata['source']"
   ]
  },
  {
   "cell_type": "code",
   "execution_count": null,
   "id": "032a47f8",
   "metadata": {},
   "outputs": [
    {
     "name": "stdout",
     "output_type": "stream",
     "text": [
      "According to the context, the Campos Novos Dam is a dam that has been studied using the methodology developed by INGETEC. The methodology has been consistently reproduced in various aspects of behavior observed in different dams around the world, including the Campos Novos Dam in Brazil. However, there is no further information provided about the specific details of the Campos Novos Dam.\n"
     ]
    }
   ],
   "source": [
    "query = \"What do you know about the Campos Novos Dam?\"\n",
    "result = qa({\"query\": query, \"n\": 10})\n",
    "print(result['result'])"
   ]
  },
  {
   "cell_type": "code",
   "execution_count": null,
   "id": "ba884016",
   "metadata": {},
   "outputs": [
    {
     "data": {
      "text/plain": [
       "'According to the context, the Campos Novos Dam is a dam that has been studied\\nusing the methodology developed by INGETEC. The methodology has been\\nconsistently reproduced in various aspects of behavior observed in different\\ndams around the world, including the Campos Novos Dam in Brazil. However, there\\nis no further information provided about the specific details of the Campos\\nNovos Dam.'"
      ]
     },
     "execution_count": 61,
     "metadata": {},
     "output_type": "execute_result"
    }
   ],
   "source": [
    "pretty_print(result['result'])"
   ]
  },
  {
   "cell_type": "code",
   "execution_count": null,
   "id": "15113754",
   "metadata": {},
   "outputs": [
    {
     "data": {
      "text/plain": [
       "'G:\\\\.shortcut-targets-by-id\\\\1vE28d8xZuJXkpcinFbuku9FJgeaDd48K\\\\ICOLD - CFRD New Bulletin 2023\\\\Dam Response\\\\sdar.64119.381.pdf'"
      ]
     },
     "execution_count": 60,
     "metadata": {},
     "output_type": "execute_result"
    }
   ],
   "source": [
    "result['source_documents'][3].metadata['source']"
   ]
  }
 ],
 "metadata": {
  "kernelspec": {
   "display_name": "langchain311",
   "language": "python",
   "name": "python3"
  },
  "language_info": {
   "codemirror_mode": {
    "name": "ipython",
    "version": 3
   },
   "file_extension": ".py",
   "mimetype": "text/x-python",
   "name": "python",
   "nbconvert_exporter": "python",
   "pygments_lexer": "ipython3",
   "version": "3.11.0"
  }
 },
 "nbformat": 4,
 "nbformat_minor": 5
}
